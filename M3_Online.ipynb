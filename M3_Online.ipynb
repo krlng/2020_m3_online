{
 "cells": [
  {
   "cell_type": "markdown",
   "metadata": {
    "execution": {
     "iopub.execute_input": "2020-06-08T12:53:34.113437Z",
     "iopub.status.busy": "2020-06-08T12:53:34.113179Z",
     "iopub.status.idle": "2020-06-08T12:53:34.276099Z",
     "shell.execute_reply": "2020-06-08T12:53:34.275063Z",
     "shell.execute_reply.started": "2020-06-08T12:53:34.113410Z"
    },
    "slideshow": {
     "slide_type": "slide"
    }
   },
   "source": [
    "<div style=\"display: inline-block; float:left; width: 50%\">\n",
    "<img src=\"img/nico_kreiling.jpg\" width=\"300px\"/>\n",
    "</div>\n",
    "<div style=\"float: left; width: 50%\">\n",
    "    <h2>Nico Kreiling</h2>\n",
    "    <div>\n",
    "        <ul>\n",
    "            <li>Data Scientist <a href=\"https://www.scieneers.de/\">@Scieneers </a></li>\n",
    "            <li>Tech-Podcast für Entwickler: <a href=\"https://techtiefen.de/\">Techtiefen </a></li>\n",
    "        <li>Notebook auf <a href=\"https://github.com/krlng/2020_m3_online\">https://github.com/krlng/2020_m3_online </a></li>\n",
    "        <li>Weitere Vorträge <a href=\"https://github.com/krlng/techtalks\">https://github.com/krlng/techtalks </a></li>\n",
    "            <li>Twitter: <a href=\"https://twitter.com/nicokreiling\">@nicokreiling </a></li>\n",
    "        </ul>\n",
    "    </div>\n",
    "</div>"
   ]
  },
  {
   "cell_type": "markdown",
   "metadata": {
    "execution": {
     "iopub.execute_input": "2020-06-08T12:53:57.197814Z",
     "iopub.status.busy": "2020-06-08T12:53:57.197546Z",
     "iopub.status.idle": "2020-06-08T12:53:57.246285Z",
     "shell.execute_reply": "2020-06-08T12:53:57.245331Z",
     "shell.execute_reply.started": "2020-06-08T12:53:57.197786Z"
    },
    "slideshow": {
     "slide_type": "slide"
    }
   },
   "source": [
    "<div style=\"display: inline-block; float:left; width: 50%\">\n",
    "<img src=\"img/jupyter-logo.png\" width=\"300px\"/>\n",
    "</div>\n",
    "<div style=\"float: left; width: 50%\">\n",
    "    <h1>PROFESSIONELLES ARBEITEN MIT JUPTYER <strike>NOTEBOOKS</strike> LAB</h1>\n",
    "    <div><br>\n",
    "    <p><cite>\"Finally a tool where I can do all my work. And yes, I have worked with Emacs.\"</cite> - <a href=\"https://medium.com/@boyanangelov/is-this-the-best-data-science-ide-jupyter-lab-review-fdd165470f13\">Boyan Angelov, Data Scientist @mindmatch.ai</a></p>\n",
    "    <p><cite>\"I don't like Notebooks.\"</cite> - <a href=\"https://docs.google.com/presentation/d/1n2RlMdmv1p25Xy5thJUhkKGvjtV-dkAIsUXP-AL4ffI/edit#slide=id.g362da58057_0_14\">Joel Grus, Allen Institute for AI</a>\n",
    "    </p>\n",
    "        </div>\n",
    "</div>"
   ]
  },
  {
   "cell_type": "markdown",
   "metadata": {
    "slideshow": {
     "slide_type": "subslide"
    }
   },
   "source": [
    "## The Good\n",
    "\n",
    "<p><cite>\"Finally a tool where I can do all my work. And yes, I have worked with Emacs.\"</cite> - <a href=\"https://medium.com/@boyanangelov/is-this-the-best-data-science-ide-jupyter-lab-review-fdd165470f13\">Boyan Angelov, Data Scientist @mindmatch.ai</a></p>\n",
    "    \n",
    "* Beginner friendly (more powerfull repl, integration of markdown and source code)\n",
    "* Interactive (Inline Plots, Widgets)"
   ]
  },
  {
   "cell_type": "markdown",
   "metadata": {
    "slideshow": {
     "slide_type": "subslide"
    }
   },
   "source": [
    "## The Bad\n",
    "\n",
    "<p><cite>\"I don't like Notebooks.\"</cite> - <a href=\"https://docs.google.com/presentation/d/1n2RlMdmv1p25Xy5thJUhkKGvjtV-dkAIsUXP-AL4ffI/edit#slide=id.g362da58057_0_14\">Joel Grus, Allen Institute for AI</a>\n",
    "</p>"
   ]
  },
  {
   "cell_type": "markdown",
   "metadata": {
    "slideshow": {
     "slide_type": "fragment"
    }
   },
   "source": [
    "* Hidden State (execution order matters, Source Code != Output)\n",
    "* Promotes bad conding habits\n",
    "* More difficult versioning\n",
    "* Less powerfull IDE"
   ]
  },
  {
   "cell_type": "code",
   "execution_count": 1,
   "metadata": {
    "execution": {
     "iopub.execute_input": "2020-06-09T13:48:48.307176Z",
     "iopub.status.busy": "2020-06-09T13:48:48.306772Z",
     "iopub.status.idle": "2020-06-09T13:48:48.315671Z",
     "shell.execute_reply": "2020-06-09T13:48:48.314947Z",
     "shell.execute_reply.started": "2020-06-09T13:48:48.307147Z"
    },
    "jupyter": {
     "source_hidden": true
    },
    "slideshow": {
     "slide_type": "fragment"
    }
   },
   "outputs": [
    {
     "data": {
      "text/html": [
       "\n",
       "        <iframe\n",
       "            width=\"560\"\n",
       "            height=\"315\"\n",
       "            src=\"https://www.youtube.com/embed/7jiPeIFXb6U\"\n",
       "            frameborder=\"0\"\n",
       "            allowfullscreen\n",
       "        ></iframe>\n",
       "        "
      ],
      "text/plain": [
       "<IPython.lib.display.IFrame at 0x7fd79210ecd0>"
      ]
     },
     "execution_count": 1,
     "metadata": {},
     "output_type": "execute_result"
    }
   ],
   "source": [
    "from IPython.display import IFrame\n",
    "# Youtube\n",
    "IFrame(width=\"560\",height=\"315\",src=\"https://www.youtube.com/embed/7jiPeIFXb6U\")"
   ]
  },
  {
   "cell_type": "markdown",
   "metadata": {
    "slideshow": {
     "slide_type": "slide"
    }
   },
   "source": [
    "# Notebook Pitfalls"
   ]
  },
  {
   "cell_type": "markdown",
   "metadata": {
    "execution": {
     "iopub.execute_input": "2020-06-08T07:47:44.099849Z",
     "iopub.status.busy": "2020-06-08T07:47:44.099579Z",
     "iopub.status.idle": "2020-06-08T07:47:44.105676Z",
     "shell.execute_reply": "2020-06-08T07:47:44.104201Z",
     "shell.execute_reply.started": "2020-06-08T07:47:44.099821Z"
    },
    "slideshow": {
     "slide_type": "subslide"
    }
   },
   "source": [
    "## Clean Code for Notebooks\n",
    "\n",
    "* Structure your Notebook with headings\n",
    "* Variable Names:\n",
    "    * nouns are objects, verbs are functions\n",
    "    * good names give a clear intuition\n",
    "    * The bigger the scope, the more explicit the name\n",
    "* Use type annotations and default values\n",
    "* Use \"Restart Kernel and Run All Cells\" extensively\n",
    "    \n",
    "More in my [podcast on clean code](https://techtiefen.de/dev-basics-clean-code/)"
   ]
  },
  {
   "cell_type": "markdown",
   "metadata": {
    "execution": {
     "iopub.execute_input": "2020-06-08T07:34:11.673415Z",
     "iopub.status.busy": "2020-06-08T07:34:11.673159Z",
     "iopub.status.idle": "2020-06-08T07:34:11.677534Z",
     "shell.execute_reply": "2020-06-08T07:34:11.676580Z",
     "shell.execute_reply.started": "2020-06-08T07:34:11.673387Z"
    },
    "slideshow": {
     "slide_type": "slide"
    }
   },
   "source": [
    "## Imports"
   ]
  },
  {
   "cell_type": "code",
   "execution_count": 2,
   "metadata": {
    "execution": {
     "iopub.execute_input": "2020-06-09T13:48:48.317918Z",
     "iopub.status.busy": "2020-06-09T13:48:48.317725Z",
     "iopub.status.idle": "2020-06-09T13:48:50.479226Z",
     "shell.execute_reply": "2020-06-09T13:48:50.478559Z",
     "shell.execute_reply.started": "2020-06-09T13:48:48.317896Z"
    },
    "slideshow": {
     "slide_type": "fragment"
    }
   },
   "outputs": [
    {
     "data": {
      "application/javascript": [
       "\n",
       "        if (window._pyforest_update_imports_cell) { window._pyforest_update_imports_cell('import matplotlib.pyplot as plt'); }\n",
       "    "
      ],
      "text/plain": [
       "<IPython.core.display.Javascript object>"
      ]
     },
     "metadata": {},
     "output_type": "display_data"
    },
    {
     "data": {
      "text/html": [
       "        <script type=\"text/javascript\">\n",
       "        window.PlotlyConfig = {MathJaxConfig: 'local'};\n",
       "        if (window.MathJax) {MathJax.Hub.Config({SVG: {font: \"STIX-Web\"}});}\n",
       "        if (typeof require !== 'undefined') {\n",
       "        require.undef(\"plotly\");\n",
       "        requirejs.config({\n",
       "            paths: {\n",
       "                'plotly': ['https://cdn.plot.ly/plotly-latest.min']\n",
       "            }\n",
       "        });\n",
       "        require(['plotly'], function(Plotly) {\n",
       "            window._Plotly = Plotly;\n",
       "        });\n",
       "        }\n",
       "        </script>\n",
       "        "
      ]
     },
     "metadata": {},
     "output_type": "display_data"
    }
   ],
   "source": [
    "%run ./helpers.ipynb"
   ]
  },
  {
   "cell_type": "code",
   "execution_count": 3,
   "metadata": {
    "execution": {
     "iopub.execute_input": "2020-06-09T13:48:50.481702Z",
     "iopub.status.busy": "2020-06-09T13:48:50.480770Z",
     "iopub.status.idle": "2020-06-09T13:48:50.484901Z",
     "shell.execute_reply": "2020-06-09T13:48:50.484162Z",
     "shell.execute_reply.started": "2020-06-09T13:48:50.481640Z"
    },
    "slideshow": {
     "slide_type": "fragment"
    }
   },
   "outputs": [],
   "source": [
    "import pyforest"
   ]
  },
  {
   "cell_type": "markdown",
   "metadata": {
    "slideshow": {
     "slide_type": "slide"
    }
   },
   "source": [
    "## Tastatur-Kürzel"
   ]
  },
  {
   "cell_type": "markdown",
   "metadata": {
    "slideshow": {
     "slide_type": "subslide"
    }
   },
   "source": [
    "### Standard-Tastaturbefehle\n",
    "\n",
    "Command  | Shortcut\n",
    "------------- | -------------\n",
    "Command Palette |`Accel Shift C`\n",
    "File Explorer |`Accel Shift F`\n",
    "Toggle Bar |`Accel B`\n",
    "Fullscreen Mode |`Accel Shift D`\n",
    "Close Tab |`Ctrl Q`\n",
    "Launcher |`Accel Shift L`"
   ]
  },
  {
   "cell_type": "markdown",
   "metadata": {
    "slideshow": {
     "slide_type": "subslide"
    }
   },
   "source": [
    "### Eigene Tatstenkürzel\n",
    "\n",
    "Settings > Keyboard Shortcuts\n",
    "```\n",
    "{\n",
    "    \"notebook:move-cell-up\": {\n",
    "      \"command\": \"notebook:move-cell-up\",\n",
    "      \"keys\": [\n",
    "        \"Accel Alt ArrowUp\"\n",
    "      ],\n",
    "      \"selector\": \"body\"\n",
    "    },\n",
    "    \"notebook:move-cell-down\": {\n",
    "      \"command\": \"notebook:move-cell-down\",\n",
    "      \"keys\": [\n",
    "        \"Accel Alt ArrowDown\"\n",
    "      ],\n",
    "      \"selector\": \"body\"\n",
    "    }        \n",
    "}\n",
    "```"
   ]
  },
  {
   "cell_type": "markdown",
   "metadata": {
    "slideshow": {
     "slide_type": "subslide"
    }
   },
   "source": [
    "## Geheime Perlen\n",
    "\n",
    "* Copy&Paste, Drag&Drop\n",
    "* recordTiming\n",
    "* Access previous output\n",
    "* Cell-Tags\n",
    "* Slides\n",
    "* Extension Manager"
   ]
  },
  {
   "cell_type": "code",
   "execution_count": 4,
   "metadata": {
    "execution": {
     "iopub.execute_input": "2020-06-09T13:48:50.486740Z",
     "iopub.status.busy": "2020-06-09T13:48:50.486279Z",
     "iopub.status.idle": "2020-06-09T13:48:50.882617Z",
     "shell.execute_reply": "2020-06-09T13:48:50.882096Z",
     "shell.execute_reply.started": "2020-06-09T13:48:50.486713Z"
    }
   },
   "outputs": [],
   "source": [
    "import plotly.graph_objects as go\n",
    "import plotly.express as px\n",
    "jupyterlab_downloads = pd.read_csv(\"data/condastats.csv\")"
   ]
  },
  {
   "cell_type": "code",
   "execution_count": 5,
   "metadata": {
    "execution": {
     "iopub.execute_input": "2020-06-09T13:48:50.883729Z",
     "iopub.status.busy": "2020-06-09T13:48:50.883561Z",
     "iopub.status.idle": "2020-06-09T13:48:51.117135Z",
     "shell.execute_reply": "2020-06-09T13:48:51.116582Z",
     "shell.execute_reply.started": "2020-06-09T13:48:50.883709Z"
    }
   },
   "outputs": [],
   "source": [
    "fig = go.FigureWidget(px.line(jupyterlab_downloads, x=\"time\", y=\"counts\", color=\"pkg_name\"))"
   ]
  },
  {
   "cell_type": "code",
   "execution_count": 6,
   "metadata": {
    "execution": {
     "iopub.execute_input": "2020-06-09T13:48:51.118360Z",
     "iopub.status.busy": "2020-06-09T13:48:51.118178Z",
     "iopub.status.idle": "2020-06-09T13:48:51.128705Z",
     "shell.execute_reply": "2020-06-09T13:48:51.127931Z",
     "shell.execute_reply.started": "2020-06-09T13:48:51.118341Z"
    }
   },
   "outputs": [
    {
     "data": {
      "application/vnd.jupyter.widget-view+json": {
       "model_id": "9a1ab08cb9f946059887962719a17521",
       "version_major": 2,
       "version_minor": 0
      },
      "text/plain": [
       "FigureWidget({\n",
       "    'data': [{'hovertemplate': 'pkg_name=jupyter<br>time=%{x}<br>counts=%{y}<extra></extra>',\n",
       " …"
      ]
     },
     "metadata": {},
     "output_type": "display_data"
    }
   ],
   "source": [
    "fig"
   ]
  },
  {
   "cell_type": "code",
   "execution_count": 7,
   "metadata": {
    "execution": {
     "iopub.execute_input": "2020-06-09T13:48:51.130022Z",
     "iopub.status.busy": "2020-06-09T13:48:51.129774Z",
     "iopub.status.idle": "2020-06-09T13:48:51.135736Z",
     "shell.execute_reply": "2020-06-09T13:48:51.135043Z",
     "shell.execute_reply.started": "2020-06-09T13:48:51.129998Z"
    }
   },
   "outputs": [],
   "source": [
    "fig.layout.title=\"Download statistics Jupyter\""
   ]
  },
  {
   "cell_type": "markdown",
   "metadata": {
    "slideshow": {
     "slide_type": "subslide"
    }
   },
   "source": [
    "## Meine aktuelle Plugin-Auswahl\n",
    "\n",
    "* Access & Structure\n",
    "    * [Table of Contents](https://github.com/jupyterlab/jupyterlab-toc)\n",
    "    * [quickopen](https://github.com/parente/jupyterlab-quickopen)\n",
    "    * [variableinspector](https://github.com/lckr/jupyterlab-variableInspector)\n",
    "* Key Bindings\n",
    "    * [Vim Bindings](https://github.com/jwkvam/jupyterlab-vim)\n",
    "    * [Sublime Bindings](https://github.com/jwkvam/jupyterlab-vim)\n",
    "* Versioning:\n",
    "    * [Jupytext](https://github.com/mwouts/jupytext/)\n",
    "    * [nbdime](https://github.com/jupyter/nbdime/)\n",
    "* Erweiterte Datentypen\n",
    "    * [Plotly](https://plotly.com/python/getting-started)\n",
    "    * [Drawio](https://github.com/QuantStack/jupyterlab-drawio)\n",
    "    * [Geo-Support](https://github.com/jupyterlab/jupyter-renderers)\n",
    "    \n",
    "[PyData Talk](https://www.youtube.com/watch?v=3pdrzhny9Lc) on JupyterLab Plugins\n",
    "\n",
    "Curated List: [Awesome JupyterLab](https://github.com/mauhai/awesome-jupyterlab) - Curated List of JupyterLab Extensions"
   ]
  },
  {
   "cell_type": "markdown",
   "metadata": {},
   "source": [
    "## Exploration Tools\n",
    "* [pyforest](https://github.com/8080labs/pyforest): lazy library imports\n",
    "* [Pandas Profiling](https://github.com/pandas-profiling/pandas-profiling): data profiling\n",
    "* [Predictive Power Score](https://github.com/8080labs/ppscore): A data type immune alternative to correlation\n",
    "* [klib](https://github.com/akanz1/klib): Some helpful plots\n",
    "* [Yellowbricks](https://www.scikit-yb.org/en/latest/index.html): Even more helpfull plots for machine learning"
   ]
  },
  {
   "cell_type": "markdown",
   "metadata": {},
   "source": [
    "# Beispiel-Projekt\n",
    "\n",
    "## Survive on the Titanic\n",
    "\n",
    "\n",
    "The titanic.csv file contains data for s. Each row represents one person. The columns describe different attributes about the person including whether they survived (S), their age (A), their passenger-class (C), their sex (G) and the fare they paid (X).\n",
    "\n",
    "* Binary Classification\n",
    "* 887 of the real Titanic passenger\n",
    "* Easily understandable features\n",
    "* numerical, categorical and text features"
   ]
  },
  {
   "cell_type": "code",
   "execution_count": 8,
   "metadata": {
    "execution": {
     "iopub.execute_input": "2020-06-09T13:48:51.140377Z",
     "iopub.status.busy": "2020-06-09T13:48:51.140142Z",
     "iopub.status.idle": "2020-06-09T13:48:51.144839Z",
     "shell.execute_reply": "2020-06-09T13:48:51.144307Z",
     "shell.execute_reply.started": "2020-06-09T13:48:51.140354Z"
    },
    "jupyter": {
     "source_hidden": true
    }
   },
   "outputs": [
    {
     "data": {
      "text/html": [
       "\n",
       "        <iframe\n",
       "            width=\"560\"\n",
       "            height=\"315\"\n",
       "            src=\"https://www.youtube.com/embed/ItjXTieWKyI\"\n",
       "            frameborder=\"0\"\n",
       "            allowfullscreen\n",
       "        ></iframe>\n",
       "        "
      ],
      "text/plain": [
       "<IPython.lib.display.IFrame at 0x7fd77c268a60>"
      ]
     },
     "execution_count": 8,
     "metadata": {},
     "output_type": "execute_result"
    }
   ],
   "source": [
    "from IPython.display import IFrame\n",
    "# Youtube\n",
    "IFrame(src=\"https://www.youtube.com/embed/ItjXTieWKyI\", width=\"560\", height=\"315\")"
   ]
  },
  {
   "cell_type": "markdown",
   "metadata": {},
   "source": [
    "## Explore data"
   ]
  },
  {
   "cell_type": "code",
   "execution_count": 9,
   "metadata": {
    "execution": {
     "iopub.execute_input": "2020-06-09T13:48:51.148270Z",
     "iopub.status.busy": "2020-06-09T13:48:51.147972Z",
     "iopub.status.idle": "2020-06-09T13:48:51.158408Z",
     "shell.execute_reply": "2020-06-09T13:48:51.157767Z",
     "shell.execute_reply.started": "2020-06-09T13:48:51.148243Z"
    }
   },
   "outputs": [],
   "source": [
    "trainset = pd.read_csv(\"./data/titanic/train.csv\")\n",
    "testset  = pd.read_csv(\"./data/titanic/test.csv\")\n",
    "label_column = \"Survived\""
   ]
  },
  {
   "cell_type": "code",
   "execution_count": 10,
   "metadata": {
    "execution": {
     "iopub.execute_input": "2020-06-09T13:48:51.159752Z",
     "iopub.status.busy": "2020-06-09T13:48:51.159438Z",
     "iopub.status.idle": "2020-06-09T13:48:51.168952Z",
     "shell.execute_reply": "2020-06-09T13:48:51.168406Z",
     "shell.execute_reply.started": "2020-06-09T13:48:51.159726Z"
    }
   },
   "outputs": [
    {
     "name": "stdout",
     "output_type": "stream",
     "text": [
      "<class 'pandas.core.frame.DataFrame'>\n",
      "RangeIndex: 891 entries, 0 to 890\n",
      "Data columns (total 12 columns):\n",
      " #   Column       Non-Null Count  Dtype  \n",
      "---  ------       --------------  -----  \n",
      " 0   PassengerId  891 non-null    int64  \n",
      " 1   Survived     891 non-null    int64  \n",
      " 2   Pclass       891 non-null    int64  \n",
      " 3   Name         891 non-null    object \n",
      " 4   Sex          891 non-null    object \n",
      " 5   Age          714 non-null    float64\n",
      " 6   SibSp        891 non-null    int64  \n",
      " 7   Parch        891 non-null    int64  \n",
      " 8   Ticket       891 non-null    object \n",
      " 9   Fare         891 non-null    float64\n",
      " 10  Cabin        204 non-null    object \n",
      " 11  Embarked     889 non-null    object \n",
      "dtypes: float64(2), int64(5), object(5)\n",
      "memory usage: 83.7+ KB\n"
     ]
    }
   ],
   "source": [
    "trainset.info()"
   ]
  },
  {
   "cell_type": "code",
   "execution_count": 11,
   "metadata": {
    "execution": {
     "iopub.execute_input": "2020-06-09T13:48:51.169900Z",
     "iopub.status.busy": "2020-06-09T13:48:51.169756Z",
     "iopub.status.idle": "2020-06-09T13:48:51.973148Z",
     "shell.execute_reply": "2020-06-09T13:48:51.972538Z",
     "shell.execute_reply.started": "2020-06-09T13:48:51.169882Z"
    }
   },
   "outputs": [
    {
     "data": {
      "text/plain": [
       "GridSpec(6, 6)"
      ]
     },
     "execution_count": 11,
     "metadata": {},
     "output_type": "execute_result"
    },
    {
     "data": {
      "image/png": "[encoded data removed]",
      "text/plain": [
       "<Figure size 864x864 with 4 Axes>"
      ]
     },
     "metadata": {},
     "output_type": "display_data"
    }
   ],
   "source": [
    "klib.missingval_plot(trainset)"
   ]
  },
  {
   "cell_type": "code",
   "execution_count": 12,
   "metadata": {
    "execution": {
     "iopub.execute_input": "2020-06-09T13:48:51.974769Z",
     "iopub.status.busy": "2020-06-09T13:48:51.974553Z",
     "iopub.status.idle": "2020-06-09T13:49:23.656301Z",
     "shell.execute_reply": "2020-06-09T13:49:23.655587Z",
     "shell.execute_reply.started": "2020-06-09T13:48:51.974748Z"
    }
   },
   "outputs": [
    {
     "data": {
      "application/vnd.jupyter.widget-view+json": {
       "model_id": "006d4ce53d9d4a1ab89c4ca672b87b8a",
       "version_major": 2,
       "version_minor": 0
      },
      "text/plain": [
       "HBox(children=(FloatProgress(value=0.0, description='Summarize dataset', max=26.0, style=ProgressStyle(descrip…"
      ]
     },
     "metadata": {},
     "output_type": "display_data"
    },
    {
     "name": "stdout",
     "output_type": "stream",
     "text": [
      "\n"
     ]
    },
    {
     "data": {
      "application/vnd.jupyter.widget-view+json": {
       "model_id": "eb89e69f0f644bb281d56c06ad740ea9",
       "version_major": 2,
       "version_minor": 0
      },
      "text/plain": [
       "HBox(children=(FloatProgress(value=0.0, description='Generate report structure', max=1.0, style=ProgressStyle(…"
      ]
     },
     "metadata": {},
     "output_type": "display_data"
    },
    {
     "name": "stdout",
     "output_type": "stream",
     "text": [
      "\n"
     ]
    },
    {
     "data": {
      "application/vnd.jupyter.widget-view+json": {
       "model_id": "",
       "version_major": 2,
       "version_minor": 0
      },
      "text/plain": [
       "HBox(children=(FloatProgress(value=0.0, description='Render widgets', max=1.0, style=ProgressStyle(description…"
      ]
     },
     "metadata": {},
     "output_type": "display_data"
    },
    {
     "data": {
      "application/vnd.jupyter.widget-view+json": {
       "model_id": "d1df181835294f68a3093070cb03402c",
       "version_major": 2,
       "version_minor": 0
      },
      "text/plain": [
       "VBox(children=(Tab(children=(Tab(children=(GridBox(children=(VBox(children=(GridspecLayout(children=(HTML(valu…"
      ]
     },
     "metadata": {},
     "output_type": "display_data"
    }
   ],
   "source": [
    "profile = pandas_profiling.ProfileReport(trainset, title='Pandas Profiling Report', explorative=True )\n",
    "profile.to_widgets()"
   ]
  },
  {
   "cell_type": "code",
   "execution_count": 32,
   "metadata": {
    "execution": {
     "iopub.execute_input": "2020-06-09T13:50:40.522293Z",
     "iopub.status.busy": "2020-06-09T13:50:40.522043Z",
     "iopub.status.idle": "2020-06-09T13:50:40.739812Z",
     "shell.execute_reply": "2020-06-09T13:50:40.739222Z",
     "shell.execute_reply.started": "2020-06-09T13:50:40.522267Z"
    }
   },
   "outputs": [
    {
     "data": {
      "image/png": "[encoded data removed]",
      "text/plain": [
       "<Figure size 1440x144 with 2 Axes>"
      ]
     },
     "metadata": {},
     "output_type": "display_data"
    },
    {
     "data": {
      "text/plain": [
       "<matplotlib.axes._subplots.AxesSubplot at 0x7fd76e843250>"
      ]
     },
     "execution_count": 32,
     "metadata": {},
     "output_type": "execute_result"
    }
   ],
   "source": [
    "from yellowbrick.features import Rank2D\n",
    "\n",
    "visualizer = Rank2D(algorithm=\"pearson\", features=trainset.select_dtypes(np.number).columns)\n",
    "visualizer.fit_transform(trainset.select_dtypes(np.number).values)\n",
    "visualizer.show()"
   ]
  },
  {
   "cell_type": "code",
   "execution_count": 33,
   "metadata": {
    "execution": {
     "iopub.execute_input": "2020-06-09T13:50:40.838951Z",
     "iopub.status.busy": "2020-06-09T13:50:40.838733Z",
     "iopub.status.idle": "2020-06-09T13:50:43.326070Z",
     "shell.execute_reply": "2020-06-09T13:50:43.325324Z",
     "shell.execute_reply.started": "2020-06-09T13:50:40.838927Z"
    }
   },
   "outputs": [
    {
     "data": {
      "application/javascript": [
       "\n",
       "        if (window._pyforest_update_imports_cell) { window._pyforest_update_imports_cell('import matplotlib.pyplot as plt\\nimport seaborn as sns\\nimport sklearn'); }\n",
       "    "
      ],
      "text/plain": [
       "<IPython.core.display.Javascript object>"
      ]
     },
     "metadata": {},
     "output_type": "display_data"
    },
    {
     "data": {
      "text/plain": [
       "<matplotlib.axes._subplots.AxesSubplot at 0x7fd78292c340>"
      ]
     },
     "execution_count": 33,
     "metadata": {},
     "output_type": "execute_result"
    },
    {
     "data": {
      "image/png": "[encoded data removed]",
      "text/plain": [
       "<Figure size 1440x144 with 2 Axes>"
      ]
     },
     "metadata": {},
     "output_type": "display_data"
    }
   ],
   "source": [
    "%%capture --no-display\n",
    "\n",
    "figsize(20,2)\n",
    "df = ppscore.matrix(trainset)\n",
    "df = df[label_column].drop(labels=label_column).sort_values(ascending=False).to_frame().transpose()\n",
    "sns.heatmap(df, vmin=0, vmax=1, cmap=\"Blues\", annot=True, )"
   ]
  },
  {
   "cell_type": "code",
   "execution_count": 34,
   "metadata": {
    "execution": {
     "iopub.execute_input": "2020-06-09T13:50:43.431555Z",
     "iopub.status.busy": "2020-06-09T13:50:43.431373Z",
     "iopub.status.idle": "2020-06-09T13:50:44.578337Z",
     "shell.execute_reply": "2020-06-09T13:50:44.577836Z",
     "shell.execute_reply.started": "2020-06-09T13:50:43.431536Z"
    }
   },
   "outputs": [
    {
     "data": {
      "text/plain": [
       "GridSpec(6, 5)"
      ]
     },
     "execution_count": 34,
     "metadata": {},
     "output_type": "execute_result"
    },
    {
     "data": {
      "image/png": "[encoded data removed]",
      "text/plain": [
       "<Figure size 1008x1008 with 11 Axes>"
      ]
     },
     "metadata": {},
     "output_type": "display_data"
    }
   ],
   "source": [
    "klib.cat_plot(trainset)"
   ]
  },
  {
   "cell_type": "markdown",
   "metadata": {},
   "source": [
    "# Developing Productive Code"
   ]
  },
  {
   "cell_type": "markdown",
   "metadata": {
    "execution": {
     "iopub.execute_input": "2020-06-08T13:31:04.959738Z",
     "iopub.status.busy": "2020-06-08T13:31:04.959429Z",
     "iopub.status.idle": "2020-06-08T13:31:04.965278Z",
     "shell.execute_reply": "2020-06-08T13:31:04.964134Z",
     "shell.execute_reply.started": "2020-06-08T13:31:04.959707Z"
    }
   },
   "source": [
    "## Using Conda Environments\n",
    "\n",
    "Create a dedicated environment for jupyter lab (here jupyter):\n",
    "\n",
    "```\n",
    "conda install -n jupyter nb_conda_kernels\n",
    "````\n",
    "\n",
    "In every other environment you want to access through jupyter lab you need to install:\n",
    "\n",
    "```\n",
    "conda install -n python_env ipykernel\n",
    "```"
   ]
  },
  {
   "cell_type": "markdown",
   "metadata": {},
   "source": [
    "## Writing custom packages"
   ]
  },
  {
   "cell_type": "code",
   "execution_count": 16,
   "metadata": {
    "execution": {
     "iopub.execute_input": "2020-06-09T13:49:28.192702Z",
     "iopub.status.busy": "2020-06-09T13:49:28.192473Z",
     "iopub.status.idle": "2020-06-09T13:49:28.198942Z",
     "shell.execute_reply": "2020-06-09T13:49:28.198265Z",
     "shell.execute_reply.started": "2020-06-09T13:49:28.192680Z"
    }
   },
   "outputs": [
    {
     "name": "stdout",
     "output_type": "stream",
     "text": [
      "Writing package.config\n"
     ]
    }
   ],
   "source": [
    "%%writefile package.config\n",
    "\n",
    "author_name: \"Nico Kreiling\"\n",
    "author_email: nico.kreiling@gmail.com\n",
    "package_name: customcode\n",
    "package_version: 0.1.0\n",
    "package_description: \"An opinionated, minimal cookiecutter template for Python packages\"\n",
    "package_url: https://github.com/krlng/cookiecutter-minimal-pypackage"
   ]
  },
  {
   "cell_type": "code",
   "execution_count": 17,
   "metadata": {
    "execution": {
     "iopub.execute_input": "2020-06-09T13:49:28.200254Z",
     "iopub.status.busy": "2020-06-09T13:49:28.199897Z",
     "iopub.status.idle": "2020-06-09T13:49:29.092183Z",
     "shell.execute_reply": "2020-06-09T13:49:29.091383Z",
     "shell.execute_reply.started": "2020-06-09T13:49:28.200219Z"
    }
   },
   "outputs": [
    {
     "name": "stdout",
     "output_type": "stream",
     "text": [
      "\u001b[31mERROR: ./customcode is not a valid editable requirement. It should either be a path to a local project or a VCS URL (beginning with svn+, git+, hg+, or bzr+).\u001b[0m\n"
     ]
    }
   ],
   "source": [
    "!pip install -e ./customcode"
   ]
  },
  {
   "cell_type": "code",
   "execution_count": 18,
   "metadata": {
    "execution": {
     "iopub.execute_input": "2020-06-09T13:49:29.093998Z",
     "iopub.status.busy": "2020-06-09T13:49:29.093670Z",
     "iopub.status.idle": "2020-06-09T13:49:29.102790Z",
     "shell.execute_reply": "2020-06-09T13:49:29.102060Z",
     "shell.execute_reply.started": "2020-06-09T13:49:29.093968Z"
    }
   },
   "outputs": [
    {
     "name": "stdout",
     "output_type": "stream",
     "text": [
      "Overwriting ../customcode/customcode/pipeline.py\n"
     ]
    }
   ],
   "source": [
    "%%writefile ../customcode/customcode/pipeline.py\n",
    "\n",
    "from sklearn.base import TransformerMixin\n",
    "from sklearn.impute import SimpleImputer\n",
    "from sklearn.pipeline import Pipeline \n",
    "from sklearn.preprocessing import LabelEncoder, OneHotEncoder\n",
    "from sklearn.preprocessing import label_binarize\n",
    "import pandas as pd\n",
    "\n",
    "def get_title(names):\n",
    "    titles = names.str.extract(r' ([A-Za-z]+)\\.', expand=False)\n",
    "    titles = titles.replace(['Lady', 'Countess','Capt', 'Col','Don', 'Dr', 'Major', 'Rev', 'Sir', 'Jonkheer', 'Dona'],'Rare')\n",
    "    titles = titles.replace('Mlle','Miss')\n",
    "    titles = titles.replace('Ms','Miss')\n",
    "    titles = titles.replace('Mme','Mrs')\n",
    "    return titles\n",
    "\n",
    "class ModelPreperation(TransformerMixin):\n",
    "    #Class Constructor \n",
    "    def __init__( self ):\n",
    "        self.title_encoder = LabelEncoder()\n",
    "        pass\n",
    "     \n",
    "    def fit( self, X, y=None):\n",
    "        self.default_age = X.Age.median()\n",
    "        self.default_price = X.Fare.mean()\n",
    "        self.default_harbor = X.Embarked.mode()[0]\n",
    "        self.embarked_categories = list(X.Embarked.dropna().unique())\n",
    "        self.title_encoder.fit(get_title(X.Name))\n",
    "        return self\n",
    "        \n",
    "    def transform(self, df):\n",
    "        df = df.copy()\n",
    "        df[\"Age\"].fillna(self.default_age, inplace=True)\n",
    "        df[\"Fare\"].fillna(self.default_price, inplace=True)\n",
    "        df[\"Embarked\"].fillna(self.default_harbor, inplace=True)\n",
    "        df['Sex'] = label_binarize(df.Sex, ['male', 'female'])\n",
    "        df[\"has_cabin\"] = ~df.Cabin.isna()\n",
    "        df[\"title\"] = self.title_encoder.transform(get_title(df.Name))\n",
    "        df = df.drop(columns=[\"Cabin\",\"Name\",\"Ticket\",\"PassengerId\"], errors='ignore')\n",
    "        df[\"Embarked\"] = df.Embarked.astype(\"category\").cat.set_categories(self.embarked_categories)\n",
    "        df = pd.get_dummies(df, [\"Embarked\"], columns=[\"Embarked\"], drop_first=True)\n",
    "        return df"
   ]
  },
  {
   "cell_type": "code",
   "execution_count": 19,
   "metadata": {
    "execution": {
     "iopub.execute_input": "2020-06-09T13:49:29.104687Z",
     "iopub.status.busy": "2020-06-09T13:49:29.104451Z",
     "iopub.status.idle": "2020-06-09T13:49:29.180679Z",
     "shell.execute_reply": "2020-06-09T13:49:29.179993Z",
     "shell.execute_reply.started": "2020-06-09T13:49:29.104662Z"
    }
   },
   "outputs": [],
   "source": [
    "%load_ext autoreload\n",
    "\n",
    "%autoreload 2"
   ]
  },
  {
   "cell_type": "code",
   "execution_count": 20,
   "metadata": {
    "execution": {
     "iopub.execute_input": "2020-06-09T13:49:29.182157Z",
     "iopub.status.busy": "2020-06-09T13:49:29.181936Z",
     "iopub.status.idle": "2020-06-09T13:49:31.343356Z",
     "shell.execute_reply": "2020-06-09T13:49:31.342566Z",
     "shell.execute_reply.started": "2020-06-09T13:49:29.182132Z"
    }
   },
   "outputs": [
    {
     "name": "stdout",
     "output_type": "stream",
     "text": [
      "Processing /Users/nicokreiling/dev/ds/customcode\n",
      "Building wheels for collected packages: customcode\n",
      "  Building wheel for customcode (setup.py) ... \u001b[?25ldone\n",
      "\u001b[?25h  Created wheel for customcode: filename=customcode-0.1.0-py3-none-any.whl size=3244 sha256=1ccf658be55c3da33a3eca0fbffa8eb9917bb6abcb8438d2c98494c5f29908fd\n",
      "  Stored in directory: /private/var/folders/ym/_50l9__942705dh4x6gh9d9r0000gn/T/pip-ephem-wheel-cache-zmmqc8xk/wheels/60/b6/dc/be7af4c05a79798ea8ee551b4404770f0b713e04a7467b569a\n",
      "Successfully built customcode\n",
      "Installing collected packages: customcode\n",
      "  Attempting uninstall: customcode\n",
      "    Found existing installation: customcode 0.1.0\n",
      "    Uninstalling customcode-0.1.0:\n",
      "      Successfully uninstalled customcode-0.1.0\n",
      "Successfully installed customcode-0.1.0\n"
     ]
    }
   ],
   "source": [
    "!pip install ../customcode"
   ]
  },
  {
   "cell_type": "code",
   "execution_count": 21,
   "metadata": {
    "execution": {
     "iopub.execute_input": "2020-06-09T13:49:31.345426Z",
     "iopub.status.busy": "2020-06-09T13:49:31.345159Z",
     "iopub.status.idle": "2020-06-09T13:49:32.070225Z",
     "shell.execute_reply": "2020-06-09T13:49:32.069534Z",
     "shell.execute_reply.started": "2020-06-09T13:49:31.345390Z"
    }
   },
   "outputs": [
    {
     "data": {
      "application/javascript": [
       "\n",
       "        if (window._pyforest_update_imports_cell) { window._pyforest_update_imports_cell('import matplotlib.pyplot as plt\\nimport seaborn as sns\\nimport sklearn'); }\n",
       "    "
      ],
      "text/plain": [
       "<IPython.core.display.Javascript object>"
      ]
     },
     "metadata": {},
     "output_type": "display_data"
    },
    {
     "name": "stdout",
     "output_type": "stream",
     "text": [
      "Acc 0.835016835016835\n"
     ]
    },
    {
     "data": {
      "application/javascript": [
       "\n",
       "        if (window._pyforest_update_imports_cell) { window._pyforest_update_imports_cell('import matplotlib.pyplot as plt\\nimport seaborn as sns\\nimport sklearn'); }\n",
       "    "
      ],
      "text/plain": [
       "<IPython.core.display.Javascript object>"
      ]
     },
     "metadata": {},
     "output_type": "display_data"
    },
    {
     "name": "stdout",
     "output_type": "stream",
     "text": [
      "F1 0.7769347496206374\n"
     ]
    },
    {
     "data": {
      "application/javascript": [
       "\n",
       "        if (window._pyforest_update_imports_cell) { window._pyforest_update_imports_cell('import matplotlib.pyplot as plt\\nimport seaborn as sns\\nimport sklearn'); }\n",
       "    "
      ],
      "text/plain": [
       "<IPython.core.display.Javascript object>"
      ]
     },
     "metadata": {},
     "output_type": "display_data"
    },
    {
     "data": {
      "text/plain": [
       "<matplotlib.axes._subplots.AxesSubplot at 0x7fd76bdc5460>"
      ]
     },
     "execution_count": 21,
     "metadata": {},
     "output_type": "execute_result"
    },
    {
     "data": {
      "image/png": "[encoded data removed]",
      "text/plain": [
       "<Figure size 1440x144 with 2 Axes>"
      ]
     },
     "metadata": {},
     "output_type": "display_data"
    }
   ],
   "source": [
    "from sklearn.pipeline import Pipeline\n",
    "from customcode.pipeline import ModelPreperation\n",
    "from sklearn.ensemble import GradientBoostingClassifier\n",
    "from sklearn.model_selection import cross_val_score, cross_val_predict\n",
    "\n",
    "np.random.seed(40)\n",
    "trainset = pd.read_csv(\"./data/titanic/train.csv\")\n",
    "X = trainset.drop(columns=label_column)\n",
    "y_true = np.ravel(trainset[[label_column]])\n",
    "\n",
    "gb_params = {'n_estimators': 200,'min_samples_split': 16,'min_samples_leaf': 16,'max_features': 5,'max_depth': 3,'learning_rate': 0.25}\n",
    "\n",
    "clf = GradientBoostingClassifier(**gb_params)\n",
    "pipe = Pipeline(steps=[(\"prepare\",ModelPreperation()), (\"clf\", clf)])\n",
    "y_pred = cross_val_predict(pipe, X, y = y_true, cv = 5, n_jobs=-1)\n",
    "\n",
    "from sklearn.metrics import confusion_matrix\n",
    "conf_mat = confusion_matrix(y_true, y_pred)\n",
    "print(\"Acc\", sklearn.metrics.accuracy_score(y_true, y_pred))\n",
    "print(\"F1\", sklearn.metrics.f1_score(y_true, y_pred))\n",
    "sns.heatmap(conf_mat/len(trainset), annot=True, cmap=\"Blues\",  fmt='g') "
   ]
  },
  {
   "cell_type": "markdown",
   "metadata": {},
   "source": [
    "# Version Control for Notebooks\n",
    "[Guter Blog-Artikel von D. Schmüdde](https://nextjournal.com/schmudde/how-to-version-control-jupyter?utm_campaign=DataScience_Digest&utm_medium=email&utm_source=Revue%20newsletter)\n",
    "\n",
    "TLDR:\n",
    " * Do you want to track cell outputs?\n",
    " * Do you need to merge notebooks (team collaboration?)\n",
    " \n",
    "Check out the stack overflow discussion: [Using IPython notebooks under version control](https://stackoverflow.com/questions/18734739/using-ipython-notebooks-under-version-control)"
   ]
  },
  {
   "cell_type": "markdown",
   "metadata": {},
   "source": [
    "## Old-Fashined Git-Hook\n",
    "\n"
   ]
  },
  {
   "cell_type": "code",
   "execution_count": 37,
   "metadata": {
    "execution": {
     "iopub.execute_input": "2020-06-09T14:11:22.325832Z",
     "iopub.status.busy": "2020-06-09T14:11:22.325626Z",
     "iopub.status.idle": "2020-06-09T14:11:22.500410Z",
     "shell.execute_reply": "2020-06-09T14:11:22.499523Z",
     "shell.execute_reply.started": "2020-06-09T14:11:22.325810Z"
    }
   },
   "outputs": [],
   "source": [
    "!mkdir -p ./.git/hooks"
   ]
  },
  {
   "cell_type": "code",
   "execution_count": 38,
   "metadata": {
    "execution": {
     "iopub.execute_input": "2020-06-09T14:11:22.963533Z",
     "iopub.status.busy": "2020-06-09T14:11:22.963301Z",
     "iopub.status.idle": "2020-06-09T14:11:23.011526Z",
     "shell.execute_reply": "2020-06-09T14:11:23.010934Z",
     "shell.execute_reply.started": "2020-06-09T14:11:22.963509Z"
    }
   },
   "outputs": [
    {
     "name": "stdout",
     "output_type": "stream",
     "text": [
      "Writing ./.git/hooks/pre-commit.py\n"
     ]
    }
   ],
   "source": [
    "%%writefile ./.git/hooks/pre-commit.py\n",
    "#!/usr/bin/env python\n",
    "import sys\n",
    "\n",
    "try:\n",
    "    runarg_idx = sys.argv.index('--rundir')\n",
    "    rundir = sys.argv[runarg_idx+1]\n",
    "    import os\n",
    "    os.chdir(os.path.expanduser(rundir))\n",
    "except ValueError:\n",
    "    pass\n",
    "\n",
    "version = None\n",
    "\n",
    "if sys.version[0] == '2':\n",
    "    reload(sys)\n",
    "    sys.setdefaultencoding('utf8')\n",
    "\n",
    "from jupyter_nbformat import reads, write\n",
    "\n",
    "to_parse = sys.stdin.read()\n",
    "\n",
    "if not version:\n",
    "    import json\n",
    "    json_in = json.loads(to_parse)\n",
    "    version = json_in['nbformat']\n",
    "\n",
    "json_in = reads(to_parse, version)\n",
    "\n",
    "if hasattr(json_in, 'worksheets'):\n",
    "    # IPython\n",
    "    sheets = json_in.worksheets\n",
    "else:\n",
    "    # Jupyter\n",
    "    sheets = [json_in]\n",
    "\n",
    "for sheet in sheets:\n",
    "    for cell in sheet.cells:\n",
    "        if \"outputs\" in cell:\n",
    "            cell.outputs = []\n",
    "        for field in (\"prompt_number\", \"execution_number\"):\n",
    "            if field in cell:\n",
    "                del cell[field]\n",
    "        for field in (\"execution_count\",):\n",
    "            if field in cell:\n",
    "                cell[field] = None\n",
    "\n",
    "        if \"metadata\" in cell:\n",
    "            for field in (\"collapsed\", \"scrolled\", \"ExecuteTime\"):\n",
    "                if field in cell.metadata:\n",
    "                    del cell.metadata[field]\n",
    "\n",
    "    if hasattr(sheet.metadata, \"widgets\"):\n",
    "        del sheet.metadata[\"widgets\"]\n",
    "\n",
    "    if hasattr(sheet.metadata, \"language_info\"):\n",
    "        if hasattr(sheet.metadata.language_info, \"version\"):\n",
    "            del sheet.metadata.language_info[\"version\"]\n",
    "\n",
    "if 'signature' in json_in.metadata:\n",
    "    json_in.metadata['signature'] = \"\"\n",
    "\n",
    "write(json_in, sys.stdout, version)"
   ]
  },
  {
   "cell_type": "code",
   "execution_count": 39,
   "metadata": {
    "execution": {
     "iopub.execute_input": "2020-06-09T14:11:26.043201Z",
     "iopub.status.busy": "2020-06-09T14:11:26.042972Z",
     "iopub.status.idle": "2020-06-09T14:11:26.217688Z",
     "shell.execute_reply": "2020-06-09T14:11:26.216761Z",
     "shell.execute_reply.started": "2020-06-09T14:11:26.043177Z"
    }
   },
   "outputs": [],
   "source": [
    "!chmod +x ./.git/hooks/pre-commit.py"
   ]
  },
  {
   "cell_type": "code",
   "execution_count": 25,
   "metadata": {
    "execution": {
     "iopub.execute_input": "2020-06-09T13:49:32.527548Z",
     "iopub.status.busy": "2020-06-09T13:49:32.527273Z",
     "iopub.status.idle": "2020-06-09T13:49:32.597135Z",
     "shell.execute_reply": "2020-06-09T13:49:32.596301Z",
     "shell.execute_reply.started": "2020-06-09T13:49:32.527512Z"
    }
   },
   "outputs": [
    {
     "name": "stdout",
     "output_type": "stream",
     "text": [
      "Overwriting .gitattributes\n"
     ]
    }
   ],
   "source": [
    "%%writefile .gitattributes\n",
    "*.ipynb    filter=dropoutput_ipynb"
   ]
  },
  {
   "cell_type": "code",
   "execution_count": 26,
   "metadata": {
    "execution": {
     "iopub.execute_input": "2020-06-09T13:49:32.607775Z",
     "iopub.status.busy": "2020-06-09T13:49:32.607574Z",
     "iopub.status.idle": "2020-06-09T13:49:32.691391Z",
     "shell.execute_reply": "2020-06-09T13:49:32.690307Z",
     "shell.execute_reply.started": "2020-06-09T13:49:32.607753Z"
    }
   },
   "outputs": [],
   "source": [
    "%%bash\n",
    "git config --local core.attributesfile .gitattributes\n",
    "git config --local filter.dropoutput_ipynb.clean ./.git/hooks/pre-commit.py\n",
    "git config --local filter.dropoutput_ipynb.smudge cat"
   ]
  },
  {
   "cell_type": "markdown",
   "metadata": {},
   "source": [
    "## Notebook-Binding mit Jupytext"
   ]
  },
  {
   "cell_type": "code",
   "execution_count": 35,
   "metadata": {
    "execution": {
     "iopub.execute_input": "2020-06-09T13:52:08.187015Z",
     "iopub.status.busy": "2020-06-09T13:52:08.186767Z",
     "iopub.status.idle": "2020-06-09T13:52:09.349446Z",
     "shell.execute_reply": "2020-06-09T13:52:09.348439Z",
     "shell.execute_reply.started": "2020-06-09T13:52:08.186989Z"
    }
   },
   "outputs": [
    {
     "name": "stdout",
     "output_type": "stream",
     "text": [
      "[jupytext] Reading M3_Online.ipynb\n",
      "[jupytext] Writing M3_Online.py in format py:percent (destination file replaced)\n"
     ]
    }
   ],
   "source": [
    "!jupytext M3_Online.ipynb --to py:percent"
   ]
  },
  {
   "cell_type": "markdown",
   "metadata": {},
   "source": [
    "Bind to "
   ]
  },
  {
   "cell_type": "markdown",
   "metadata": {},
   "source": [
    "## Auswahl der richtigen Versionskontroll Strategie"
   ]
  },
  {
   "cell_type": "markdown",
   "metadata": {
    "execution": {
     "iopub.execute_input": "2020-06-09T14:12:49.761319Z",
     "iopub.status.busy": "2020-06-09T14:12:49.761091Z",
     "iopub.status.idle": "2020-06-09T14:12:49.936426Z",
     "shell.execute_reply": "2020-06-09T14:12:49.935579Z",
     "shell.execute_reply.started": "2020-06-09T14:12:49.761294Z"
    }
   },
   "source": [
    "![Tool Auswahl](img/versionskontroll-diagramm.png)"
   ]
  },
  {
   "cell_type": "markdown",
   "metadata": {},
   "source": [
    "## Other\n",
    "\n",
    "### Presenting Results\n",
    "\n",
    "Darstellung eines Notebooks als interaktive Präsentation mit Hilfe von Reveal.js. Dabei kann jede Zelle als eigene Slide, Sub-Slide oder Fragment definiert werden.\n",
    "\n",
    "### Binder\n",
    "\n",
    "* Interaktives Bereitstellen von Notebooks via Github Repo\n",
    "* Inklusive Abhängigkeiten und Erweiterungen\n",
    "* [Integration via Github](https://github.com/krlng/d2d-jupyterlab)\n",
    "\n",
    "## Summary?\n",
    "\n",
    "* Die neue Oberfläche ist toll\n",
    "* Plugin-System verbreitet sich sehr schnell\n",
    "* Integration mit IDEs inzwischen möglich\n",
    "* Unsterstützung für alle möglichen Datentypen- und Plottingslibraries\n",
    "\n",
    "### Links zu noch mehr Links\n",
    "\n",
    "- [Awesome Jupyter](https://github.com/adebar/awesome-jupyter) - Curated List of nice Jupyter things\n",
    "- [Beyond Interactive: Notebook Innovation at Netflix](https://medium.com/netflix-techblog/notebook-innovation-591ee3221233)\n",
    "- [Interesting Jupyter Notebooks](https://github.com/jupyter/jupyter/wiki/a-gallery-of-interesting-jupyter-notebooks)"
   ]
  },
  {
   "cell_type": "code",
   "execution_count": null,
   "metadata": {},
   "outputs": [],
   "source": []
  }
 ],
 "metadata": {
  "jupytext": {
   "encoding": "# -*- coding: utf-8 -*-",
   "formats": "ipynb,py:percent"
  },
  "kernelspec": {
   "display_name": "Python [conda env:ds]",
   "language": "python",
   "name": "conda-env-ds-py"
  },
  "language_info": {
   "codemirror_mode": {
    "name": "ipython",
    "version": 3
   },
   "file_extension": ".py",
   "mimetype": "text/x-python",
   "name": "python",
   "nbconvert_exporter": "python",
   "pygments_lexer": "ipython3",
   "version": "3.8.2"
  },
  "toc-autonumbering": true
 },
 "nbformat": 4,
 "nbformat_minor": 4
}
