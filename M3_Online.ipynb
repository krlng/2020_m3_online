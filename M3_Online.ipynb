{
 "cells": [
  {
   "cell_type": "markdown",
   "metadata": {
    "execution": {
     "iopub.execute_input": "2020-06-08T12:53:34.113437Z",
     "iopub.status.busy": "2020-06-08T12:53:34.113179Z",
     "iopub.status.idle": "2020-06-08T12:53:34.276099Z",
     "shell.execute_reply": "2020-06-08T12:53:34.275063Z",
     "shell.execute_reply.started": "2020-06-08T12:53:34.113410Z"
    },
    "slideshow": {
     "slide_type": "slide"
    }
   },
   "source": [
    "<div style=\"display: inline-block; float:left; width: 50%\">\n",
    "<img src=\"img/nico_kreiling.jpg\" width=\"300px\"/>\n",
    "</div>\n",
    "<div style=\"float: left; width: 50%\">\n",
    "    <h2>Nico Kreiling</h2>\n",
    "    <div>\n",
    "        <ul>\n",
    "            <li>Data Scientist <a href=\"https://www.scieneers.de/\">@Scieneers </a></li>\n",
    "            <li>Tech-Podcast for developers: <a href=\"https://techtiefen.de/\">Techtiefen </a></li>\n",
    "        <li>Notebook on <a href=\"https://github.com/krlng/2020_m3_online\">https://github.com/krlng/2020_m3_online </a></li>\n",
    "        <li>More talks on <a href=\"https://github.com/krlng/techtalks\">https://github.com/krlng/techtalks </a></li>\n",
    "            <li>Twitter: <a href=\"https://twitter.com/nicokreiling\">@nicokreiling </a></li>\n",
    "        </ul>\n",
    "    </div>\n",
    "</div>"
   ]
  },
  {
   "cell_type": "markdown",
   "metadata": {
    "execution": {
     "iopub.execute_input": "2020-06-08T12:53:57.197814Z",
     "iopub.status.busy": "2020-06-08T12:53:57.197546Z",
     "iopub.status.idle": "2020-06-08T12:53:57.246285Z",
     "shell.execute_reply": "2020-06-08T12:53:57.245331Z",
     "shell.execute_reply.started": "2020-06-08T12:53:57.197786Z"
    },
    "slideshow": {
     "slide_type": "slide"
    }
   },
   "source": [
    "<div style=\"display: inline-block; float:left; width: 50%\">\n",
    "<img src=\"img/jupyter-logo.png\" width=\"300px\"/>\n",
    "</div>\n",
    "<div style=\"float: left; width: 50%\">\n",
    "    <h1>PROFESSIONELLES ARBEITEN MIT JUPTYER <strike>NOTEBOOKS</strike> LAB</h1>\n",
    "    <div><br>\n",
    "    <p><cite>\"Finally a tool where I can do all my work. And yes, I have worked with Emacs.\"</cite> - <a href=\"https://medium.com/@boyanangelov/is-this-the-best-data-science-ide-jupyter-lab-review-fdd165470f13\">Boyan Angelov, Data Scientist @mindmatch.ai</a></p>\n",
    "    <p><cite>\"I don't like Notebooks.\"</cite> - <a href=\"https://docs.google.com/presentation/d/1n2RlMdmv1p25Xy5thJUhkKGvjtV-dkAIsUXP-AL4ffI/edit#slide=id.g362da58057_0_14\">Joel Grus, Allen Institute for AI</a>\n",
    "    </p>\n",
    "        </div>\n",
    "</div>"
   ]
  },
  {
   "cell_type": "markdown",
   "metadata": {
    "slideshow": {
     "slide_type": "subslide"
    }
   },
   "source": [
    "## The Good\n",
    "\n",
    "<p><cite>\"Finally a tool where I can do all my work. And yes, I have worked with Emacs.\"</cite> - <a href=\"https://medium.com/@boyanangelov/is-this-the-best-data-science-ide-jupyter-lab-review-fdd165470f13\">Boyan Angelov, Data Scientist @mindmatch.ai</a></p>\n",
    "    "
   ]
  },
  {
   "cell_type": "markdown",
   "metadata": {
    "slideshow": {
     "slide_type": "fragment"
    }
   },
   "source": [
    "* Beginner friendly (more powerfull repl, integration of markdown and source code)\n",
    "* Interactive (Inline Plots, Widgets)"
   ]
  },
  {
   "cell_type": "markdown",
   "metadata": {
    "slideshow": {
     "slide_type": "subslide"
    }
   },
   "source": [
    "## The Bad\n",
    "\n",
    "<p><cite>\"I don't like Notebooks.\"</cite> - <a href=\"https://docs.google.com/presentation/d/1n2RlMdmv1p25Xy5thJUhkKGvjtV-dkAIsUXP-AL4ffI/edit#slide=id.g362da58057_0_14\">Joel Grus, Allen Institute for AI</a>\n",
    "</p>"
   ]
  },
  {
   "cell_type": "markdown",
   "metadata": {
    "slideshow": {
     "slide_type": "fragment"
    }
   },
   "source": [
    "* Hidden State (execution order matters, Source Code != Output)\n",
    "* Promotes bad coding habits\n",
    "* More difficult versioning\n",
    "* Less powerfull IDE"
   ]
  },
  {
   "cell_type": "code",
   "execution_count": 2,
   "metadata": {
    "slideshow": {
     "slide_type": "fragment"
    },
    "tags": [
     "video"
    ]
   },
   "outputs": [
    {
     "data": {
      "text/html": [
       "\n",
       "        <iframe\n",
       "            width=\"560\"\n",
       "            height=\"315\"\n",
       "            src=\"https://www.youtube.com/embed/7jiPeIFXb6U\"\n",
       "            frameborder=\"0\"\n",
       "            allowfullscreen\n",
       "        ></iframe>\n",
       "        "
      ],
      "text/plain": [
       "<IPython.lib.display.IFrame at 0x7fe344529940>"
      ]
     },
     "execution_count": 2,
     "metadata": {},
     "output_type": "execute_result"
    }
   ],
   "source": [
    "from IPython.display import IFrame\n",
    "# Youtube\n",
    "IFrame(width=\"560\",height=\"315\",src=\"https://www.youtube.com/embed/7jiPeIFXb6U\")"
   ]
  },
  {
   "cell_type": "markdown",
   "metadata": {
    "slideshow": {
     "slide_type": "slide"
    }
   },
   "source": [
    "# Use Notebook the right way"
   ]
  },
  {
   "cell_type": "markdown",
   "metadata": {
    "slideshow": {
     "slide_type": "fragment"
    }
   },
   "source": [
    "* Clean Code\n",
    "* Proper Imports\n",
    "* Power-Up Notebooks \n",
    "* Extensions\n",
    "* Workflow"
   ]
  },
  {
   "cell_type": "markdown",
   "metadata": {
    "execution": {
     "iopub.execute_input": "2020-06-08T07:47:44.099849Z",
     "iopub.status.busy": "2020-06-08T07:47:44.099579Z",
     "iopub.status.idle": "2020-06-08T07:47:44.105676Z",
     "shell.execute_reply": "2020-06-08T07:47:44.104201Z",
     "shell.execute_reply.started": "2020-06-08T07:47:44.099821Z"
    },
    "slideshow": {
     "slide_type": "subslide"
    }
   },
   "source": [
    "## Clean Code for Notebooks\n",
    "\n",
    "* Structure your Notebook with headings\n",
    "* Variable Names:\n",
    "    * nouns are objects, verbs are functions\n",
    "    * good names give a clear intuition\n",
    "    * The bigger the scope, the more explicit the name\n",
    "* Use type annotations and default values\n",
    "* Use \"Restart Kernel and Run All Cells\" extensively\n",
    "    \n",
    "More in my [podcast on clean code](https://techtiefen.de/dev-basics-clean-code/)"
   ]
  },
  {
   "cell_type": "markdown",
   "metadata": {
    "execution": {
     "iopub.execute_input": "2020-06-08T07:34:11.673415Z",
     "iopub.status.busy": "2020-06-08T07:34:11.673159Z",
     "iopub.status.idle": "2020-06-08T07:34:11.677534Z",
     "shell.execute_reply": "2020-06-08T07:34:11.676580Z",
     "shell.execute_reply.started": "2020-06-08T07:34:11.673387Z"
    },
    "slideshow": {
     "slide_type": "slide"
    }
   },
   "source": [
    "## Proper Imports"
   ]
  },
  {
   "cell_type": "code",
   "execution_count": 3,
   "metadata": {
    "slideshow": {
     "slide_type": "fragment"
    }
   },
   "outputs": [
    {
     "data": {
      "application/javascript": [
       "\n",
       "        if (window._pyforest_update_imports_cell) { window._pyforest_update_imports_cell('import matplotlib.pyplot as plt'); }\n",
       "    "
      ],
      "text/plain": [
       "<IPython.core.display.Javascript object>"
      ]
     },
     "metadata": {},
     "output_type": "display_data"
    },
    {
     "data": {
      "text/html": [
       "        <script type=\"text/javascript\">\n",
       "        window.PlotlyConfig = {MathJaxConfig: 'local'};\n",
       "        if (window.MathJax) {MathJax.Hub.Config({SVG: {font: \"STIX-Web\"}});}\n",
       "        if (typeof require !== 'undefined') {\n",
       "        require.undef(\"plotly\");\n",
       "        requirejs.config({\n",
       "            paths: {\n",
       "                'plotly': ['https://cdn.plot.ly/plotly-latest.min']\n",
       "            }\n",
       "        });\n",
       "        require(['plotly'], function(Plotly) {\n",
       "            window._Plotly = Plotly;\n",
       "        });\n",
       "        }\n",
       "        </script>\n",
       "        "
      ]
     },
     "metadata": {},
     "output_type": "display_data"
    }
   ],
   "source": [
    "%run ./helpers.ipynb"
   ]
  },
  {
   "cell_type": "code",
   "execution_count": 4,
   "metadata": {
    "slideshow": {
     "slide_type": "fragment"
    }
   },
   "outputs": [],
   "source": [
    "import pyforest"
   ]
  },
  {
   "cell_type": "markdown",
   "metadata": {
    "slideshow": {
     "slide_type": "slide"
    }
   },
   "source": [
    "## Power-up Notebooks"
   ]
  },
  {
   "cell_type": "markdown",
   "metadata": {
    "slideshow": {
     "slide_type": "subslide"
    }
   },
   "source": [
    "### Know the shortcuts\n",
    "\n",
    "Command  | Shortcut\n",
    "------------- | -------------\n",
    "Command Palette |`Accel Shift C`\n",
    "File Explorer |`Accel Shift F`\n",
    "Toggle Bar |`Accel B`\n",
    "Fullscreen Mode |`Accel Shift D`\n",
    "Close Tab |`Ctrl Q`\n",
    "Launcher |`Accel Shift L`"
   ]
  },
  {
   "cell_type": "markdown",
   "metadata": {
    "slideshow": {
     "slide_type": "subslide"
    }
   },
   "source": [
    "### Use Custom Shortcuts\n",
    "\n",
    "Settings > Keyboard Shortcuts\n",
    "```\n",
    "{\n",
    "    \"notebook:move-cell-up\": {\n",
    "      \"command\": \"notebook:move-cell-up\",\n",
    "      \"keys\": [\n",
    "        \"Accel Alt ArrowUp\"\n",
    "      ],\n",
    "      \"selector\": \"body\"\n",
    "    },\n",
    "    \"notebook:move-cell-down\": {\n",
    "      \"command\": \"notebook:move-cell-down\",\n",
    "      \"keys\": [\n",
    "        \"Accel Alt ArrowDown\"\n",
    "      ],\n",
    "      \"selector\": \"body\"\n",
    "    }        \n",
    "}\n",
    "```"
   ]
  },
  {
   "cell_type": "markdown",
   "metadata": {
    "slideshow": {
     "slide_type": "subslide"
    }
   },
   "source": [
    "### Explore hidden features\n",
    "\n",
    "* Copy&Paste, Drag&Drop\n",
    "* Window Management\n",
    "* Access previous output\n",
    "* Cell-Tags\n",
    "* Slides\n",
    "* Extension Manager"
   ]
  },
  {
   "cell_type": "code",
   "execution_count": 5,
   "metadata": {},
   "outputs": [],
   "source": [
    "import plotly.graph_objects as go\n",
    "import plotly.express as px\n",
    "jupyterlab_downloads = pd.read_csv(\"data/condastats.csv\")"
   ]
  },
  {
   "cell_type": "code",
   "execution_count": 6,
   "metadata": {},
   "outputs": [
    {
     "data": {
      "application/vnd.jupyter.widget-view+json": {
       "model_id": "9c30a9efd42b48e6bba63f8702c26d96",
       "version_major": 2,
       "version_minor": 0
      },
      "text/plain": [
       "FigureWidget({\n",
       "    'data': [{'hovertemplate': 'pkg_name=jupyter<br>time=%{x}<br>counts=%{y}<extra></extra>',\n",
       " …"
      ]
     },
     "metadata": {},
     "output_type": "display_data"
    }
   ],
   "source": [
    "go.FigureWidget(px.line(jupyterlab_downloads, x=\"time\", y=\"counts\", color=\"pkg_name\"))"
   ]
  },
  {
   "cell_type": "code",
   "execution_count": 7,
   "metadata": {},
   "outputs": [],
   "source": [
    "fig = _"
   ]
  },
  {
   "cell_type": "code",
   "execution_count": 8,
   "metadata": {},
   "outputs": [
    {
     "data": {
      "application/vnd.jupyter.widget-view+json": {
       "model_id": "9c30a9efd42b48e6bba63f8702c26d96",
       "version_major": 2,
       "version_minor": 0
      },
      "text/plain": [
       "FigureWidget({\n",
       "    'data': [{'hovertemplate': 'pkg_name=jupyter<br>time=%{x}<br>counts=%{y}<extra></extra>',\n",
       " …"
      ]
     },
     "metadata": {},
     "output_type": "display_data"
    }
   ],
   "source": [
    "fig"
   ]
  },
  {
   "cell_type": "code",
   "execution_count": 9,
   "metadata": {},
   "outputs": [],
   "source": [
    "fig.layout.title=\"Download statistics Jupyter\""
   ]
  },
  {
   "cell_type": "markdown",
   "metadata": {
    "slideshow": {
     "slide_type": "subslide"
    }
   },
   "source": [
    "## Use Extensions\n",
    "\n",
    "Some extensions I like to use:\n",
    "\n",
    "* Access & Structure\n",
    "    * [Table of Contents](https://github.com/jupyterlab/jupyterlab-toc)\n",
    "    * [quickopen](https://github.com/parente/jupyterlab-quickopen)\n",
    "    * [variableinspector](https://github.com/lckr/jupyterlab-variableInspector)\n",
    "* Key Bindings\n",
    "    * [Vim Bindings](https://github.com/jwkvam/jupyterlab-vim)\n",
    "    * [Sublime Bindings](https://github.com/jwkvam/jupyterlab-vim)\n",
    "* Versioning:\n",
    "    * [nbdime](https://github.com/jupyter/nbdime/)\n",
    "    * [Jupytext](https://github.com/mwouts/jupytext/)\n",
    "    * [git panel](https://github.com/jupyterlab/jupyterlab-git)\n",
    "* Extended Datatype Support:\n",
    "    * [Plotly](https://plotly.com/python/getting-started)\n",
    "    * [Drawio](https://github.com/QuantStack/jupyterlab-drawio)\n",
    "    * [Geo-Support](https://github.com/jupyterlab/jupyter-renderers)\n",
    "    \n",
    "[PyData Talk](https://www.youtube.com/watch?v=3pdrzhny9Lc) on JupyterLab Plugins\n",
    "\n",
    "Curated List: [Awesome JupyterLab](https://github.com/mauhai/awesome-jupyterlab) - Curated List of JupyterLab Extensions"
   ]
  },
  {
   "cell_type": "markdown",
   "metadata": {
    "slideshow": {
     "slide_type": "slide"
    }
   },
   "source": [
    "## Improve your Workflow\n",
    "* [pyforest](https://github.com/8080labs/pyforest): lazy library imports\n",
    "* [Pandas Profiling](https://github.com/pandas-profiling/pandas-profiling): data profiling\n",
    "* [Predictive Power Score](https://github.com/8080labs/ppscore): A data type immune alternative to correlation\n",
    "* [klib](https://github.com/akanz1/klib): Some helpful plots\n",
    "* [Yellowbricks](https://www.scikit-yb.org/en/latest/index.html): Even more helpfull plots for machine learning"
   ]
  },
  {
   "cell_type": "markdown",
   "metadata": {
    "slideshow": {
     "slide_type": "slide"
    }
   },
   "source": [
    "### Demonstration: Survive on the Titanic\n",
    "\n",
    "\n",
    "The titanic.csv file contains data for s. Each row represents one person. The columns describe different attributes about the person including whether they survived (S), their age (A), their passenger-class (C), their sex (G) and the fare they paid (X).\n",
    "\n",
    "* Binary Classification\n",
    "* 887 of the real Titanic passenger\n",
    "* Easily understandable features\n",
    "* numerical, categorical and text features"
   ]
  },
  {
   "cell_type": "code",
   "execution_count": 10,
   "metadata": {
    "slideshow": {
     "slide_type": "fragment"
    },
    "tags": [
     "video"
    ]
   },
   "outputs": [
    {
     "data": {
      "text/html": [
       "\n",
       "        <iframe\n",
       "            width=\"560\"\n",
       "            height=\"315\"\n",
       "            src=\"https://www.youtube.com/embed/ItjXTieWKyI\"\n",
       "            frameborder=\"0\"\n",
       "            allowfullscreen\n",
       "        ></iframe>\n",
       "        "
      ],
      "text/plain": [
       "<IPython.lib.display.IFrame at 0x7fe32d8e7ca0>"
      ]
     },
     "execution_count": 10,
     "metadata": {},
     "output_type": "execute_result"
    }
   ],
   "source": [
    "from IPython.display import IFrame\n",
    "# Youtube\n",
    "IFrame(src=\"https://www.youtube.com/embed/ItjXTieWKyI\", width=\"560\", height=\"315\")"
   ]
  },
  {
   "cell_type": "code",
   "execution_count": 11,
   "metadata": {
    "slideshow": {
     "slide_type": "subslide"
    }
   },
   "outputs": [],
   "source": [
    "trainset = pd.read_csv(\"./data/titanic/train.csv\")\n",
    "testset  = pd.read_csv(\"./data/titanic/test.csv\")\n",
    "label_column = \"Survived\""
   ]
  },
  {
   "cell_type": "code",
   "execution_count": 12,
   "metadata": {
    "slideshow": {
     "slide_type": "fragment"
    }
   },
   "outputs": [
    {
     "name": "stdout",
     "output_type": "stream",
     "text": [
      "<class 'pandas.core.frame.DataFrame'>\n",
      "RangeIndex: 891 entries, 0 to 890\n",
      "Data columns (total 12 columns):\n",
      " #   Column       Non-Null Count  Dtype  \n",
      "---  ------       --------------  -----  \n",
      " 0   PassengerId  891 non-null    int64  \n",
      " 1   Survived     891 non-null    int64  \n",
      " 2   Pclass       891 non-null    int64  \n",
      " 3   Name         891 non-null    object \n",
      " 4   Sex          891 non-null    object \n",
      " 5   Age          714 non-null    float64\n",
      " 6   SibSp        891 non-null    int64  \n",
      " 7   Parch        891 non-null    int64  \n",
      " 8   Ticket       891 non-null    object \n",
      " 9   Fare         891 non-null    float64\n",
      " 10  Cabin        204 non-null    object \n",
      " 11  Embarked     889 non-null    object \n",
      "dtypes: float64(2), int64(5), object(5)\n",
      "memory usage: 83.7+ KB\n"
     ]
    }
   ],
   "source": [
    "trainset.info()"
   ]
  },
  {
   "cell_type": "code",
   "execution_count": 13,
   "metadata": {
    "slideshow": {
     "slide_type": "subslide"
    }
   },
   "outputs": [
    {
     "data": {
      "text/plain": [
       "GridSpec(6, 6)"
      ]
     },
     "execution_count": 13,
     "metadata": {},
     "output_type": "execute_result"
    },
    {
     "data": {
      "image/png": "[encoded data removed]",
      "text/plain": [
       "<Figure size 864x864 with 4 Axes>"
      ]
     },
     "metadata": {},
     "output_type": "display_data"
    }
   ],
   "source": [
    "klib.missingval_plot(trainset)"
   ]
  },
  {
   "cell_type": "code",
   "execution_count": 14,
   "metadata": {
    "slideshow": {
     "slide_type": "subslide"
    }
   },
   "outputs": [
    {
     "data": {
      "application/vnd.jupyter.widget-view+json": {
       "model_id": "219ccf7d0e71445689610d34bdb6b1d6",
       "version_major": 2,
       "version_minor": 0
      },
      "text/plain": [
       "HBox(children=(FloatProgress(value=0.0, description='Summarize dataset', max=26.0, style=ProgressStyle(descrip…"
      ]
     },
     "metadata": {},
     "output_type": "display_data"
    },
    {
     "name": "stdout",
     "output_type": "stream",
     "text": [
      "\n"
     ]
    },
    {
     "data": {
      "application/vnd.jupyter.widget-view+json": {
       "model_id": "b1291a2bffc44fa38d9a209b4cb3cd13",
       "version_major": 2,
       "version_minor": 0
      },
      "text/plain": [
       "HBox(children=(FloatProgress(value=0.0, description='Generate report structure', max=1.0, style=ProgressStyle(…"
      ]
     },
     "metadata": {},
     "output_type": "display_data"
    },
    {
     "name": "stdout",
     "output_type": "stream",
     "text": [
      "\n"
     ]
    },
    {
     "data": {
      "application/vnd.jupyter.widget-view+json": {
       "model_id": "",
       "version_major": 2,
       "version_minor": 0
      },
      "text/plain": [
       "HBox(children=(FloatProgress(value=0.0, description='Render widgets', max=1.0, style=ProgressStyle(description…"
      ]
     },
     "metadata": {},
     "output_type": "display_data"
    },
    {
     "data": {
      "application/vnd.jupyter.widget-view+json": {
       "model_id": "dcc8948a5dc84a7aa28c9ae161f105c5",
       "version_major": 2,
       "version_minor": 0
      },
      "text/plain": [
       "VBox(children=(Tab(children=(Tab(children=(GridBox(children=(VBox(children=(GridspecLayout(children=(HTML(valu…"
      ]
     },
     "metadata": {},
     "output_type": "display_data"
    }
   ],
   "source": [
    "profile = pandas_profiling.ProfileReport(trainset, title='Pandas Profiling Report', explorative=True )\n",
    "profile.to_widgets()"
   ]
  },
  {
   "cell_type": "code",
   "execution_count": 15,
   "metadata": {
    "slideshow": {
     "slide_type": "subslide"
    }
   },
   "outputs": [
    {
     "name": "stderr",
     "output_type": "stream",
     "text": [
      "/Users/nicokreiling/opt/anaconda3/envs/ds/lib/python3.8/site-packages/sklearn/utils/deprecation.py:143: FutureWarning:\n",
      "\n",
      "The sklearn.metrics.classification module is  deprecated in version 0.22 and will be removed in version 0.24. The corresponding classes / functions should instead be imported from sklearn.metrics. Anything that cannot be imported from sklearn.metrics is now part of the private API.\n",
      "\n"
     ]
    },
    {
     "data": {
      "image/png": "[encoded data removed]",
      "text/plain": [
       "<Figure size 576x396 with 2 Axes>"
      ]
     },
     "metadata": {},
     "output_type": "display_data"
    },
    {
     "data": {
      "text/plain": [
       "<matplotlib.axes._subplots.AxesSubplot at 0x7fe339bc0b20>"
      ]
     },
     "execution_count": 15,
     "metadata": {},
     "output_type": "execute_result"
    }
   ],
   "source": [
    "from yellowbrick.features import Rank2D\n",
    "\n",
    "visualizer = Rank2D(algorithm=\"pearson\", features=trainset.select_dtypes(np.number).columns)\n",
    "visualizer.fit_transform(trainset.select_dtypes(np.number).values)\n",
    "visualizer.show()"
   ]
  },
  {
   "cell_type": "code",
   "execution_count": 16,
   "metadata": {
    "slideshow": {
     "slide_type": "subslide"
    }
   },
   "outputs": [
    {
     "data": {
      "application/javascript": [
       "\n",
       "        if (window._pyforest_update_imports_cell) { window._pyforest_update_imports_cell('import matplotlib.pyplot as plt\\nimport seaborn as sns'); }\n",
       "    "
      ],
      "text/plain": [
       "<IPython.core.display.Javascript object>"
      ]
     },
     "metadata": {},
     "output_type": "display_data"
    },
    {
     "data": {
      "text/plain": [
       "<matplotlib.axes._subplots.AxesSubplot at 0x7fe339c8cfa0>"
      ]
     },
     "execution_count": 16,
     "metadata": {},
     "output_type": "execute_result"
    },
    {
     "data": {
      "image/png": "[encoded data removed]",
      "text/plain": [
       "<Figure size 1440x144 with 2 Axes>"
      ]
     },
     "metadata": {},
     "output_type": "display_data"
    }
   ],
   "source": [
    "%%capture --no-display\n",
    "\n",
    "figsize(20,2)\n",
    "df = ppscore.matrix(trainset)\n",
    "df = df[label_column].drop(labels=label_column).sort_values(ascending=False).to_frame().transpose()\n",
    "sns.heatmap(df, vmin=0, vmax=1, cmap=\"Blues\", annot=True, )"
   ]
  },
  {
   "cell_type": "code",
   "execution_count": 17,
   "metadata": {
    "slideshow": {
     "slide_type": "subslide"
    }
   },
   "outputs": [
    {
     "data": {
      "text/plain": [
       "GridSpec(6, 5)"
      ]
     },
     "execution_count": 17,
     "metadata": {},
     "output_type": "execute_result"
    },
    {
     "data": {
      "image/png": "[encoded data removed]",
      "text/plain": [
       "<Figure size 1008x1008 with 11 Axes>"
      ]
     },
     "metadata": {},
     "output_type": "display_data"
    }
   ],
   "source": [
    "klib.cat_plot(trainset)"
   ]
  },
  {
   "cell_type": "markdown",
   "metadata": {
    "slideshow": {
     "slide_type": "slide"
    }
   },
   "source": [
    "# Developing Productive Code"
   ]
  },
  {
   "cell_type": "markdown",
   "metadata": {
    "execution": {
     "iopub.execute_input": "2020-06-08T13:31:04.959738Z",
     "iopub.status.busy": "2020-06-08T13:31:04.959429Z",
     "iopub.status.idle": "2020-06-08T13:31:04.965278Z",
     "shell.execute_reply": "2020-06-08T13:31:04.964134Z",
     "shell.execute_reply.started": "2020-06-08T13:31:04.959707Z"
    },
    "slideshow": {
     "slide_type": "subslide"
    }
   },
   "source": [
    "## Using different environments\n",
    "\n",
    "Create a dedicated environment for jupyter lab (here jupyter):\n",
    "\n",
    "```\n",
    "conda install -n jupyter nb_conda_kernels\n",
    "````\n",
    "\n",
    "In every other environment you want to access through jupyter lab you need to install:\n",
    "\n",
    "```\n",
    "conda install -n python_env ipykernel\n",
    "```"
   ]
  },
  {
   "cell_type": "markdown",
   "metadata": {
    "slideshow": {
     "slide_type": "slide"
    }
   },
   "source": [
    "## Version control for notebooks\n",
    "[Guter Blog-Artikel von D. Schmüdde](https://nextjournal.com/schmudde/how-to-version-control-jupyter?utm_campaign=DataScience_Digest&utm_medium=email&utm_source=Revue%20newsletter)\n",
    "\n",
    "Problem:\n",
    " * Notebooks are a JSON mess of source code, metadata and actual data\n",
    " * There exist internal soluatons: Clear output cells, convert to python or html\n",
    " * Plugins can help as well\n",
    "\n",
    "Decisions to take:\n",
    " * Do you want to track cell outputs?\n",
    " * Do you need to merge notebooks (team collaboration?)\n",
    " \n",
    "Check out the stack overflow discussion: [Using IPython notebooks under version control](https://stackoverflow.com/questions/18734739/using-ipython-notebooks-under-version-control)"
   ]
  },
  {
   "cell_type": "markdown",
   "metadata": {
    "slideshow": {
     "slide_type": "subslide"
    }
   },
   "source": [
    "### nb-stripout"
   ]
  },
  {
   "cell_type": "markdown",
   "metadata": {},
   "source": [
    "* Easiest way to clean notebook output automatically\n",
    "* Can be registered as githook globally or locally"
   ]
  },
  {
   "cell_type": "markdown",
   "metadata": {
    "slideshow": {
     "slide_type": "subslide"
    }
   },
   "source": [
    "### Jupytext\n",
    "\n",
    "Render notebooks as diffferent output formats:"
   ]
  },
  {
   "cell_type": "code",
   "execution_count": 18,
   "metadata": {
    "slideshow": {
     "slide_type": "fragment"
    }
   },
   "outputs": [
    {
     "name": "stdout",
     "output_type": "stream",
     "text": [
      "[jupytext] Reading M3_Online.ipynb\n",
      "[jupytext] Writing M3_Online.py in format py:percent (destination file replaced)\n"
     ]
    }
   ],
   "source": [
    "!jupytext M3_Online.ipynb --to py:percent"
   ]
  },
  {
   "cell_type": "markdown",
   "metadata": {
    "slideshow": {
     "slide_type": "fragment"
    }
   },
   "source": [
    "Script can also be bind to juypyter notebook to use both simoultanously (but I personally did not get it working in a satisfactory manner)"
   ]
  },
  {
   "cell_type": "markdown",
   "metadata": {
    "slideshow": {
     "slide_type": "subslide"
    }
   },
   "source": [
    "### nbdime"
   ]
  },
  {
   "cell_type": "markdown",
   "metadata": {
    "slideshow": {
     "slide_type": "fragment"
    }
   },
   "source": [
    "* nbdime is a small cli to view diffs and merge notebooks\n",
    "* only git based\n",
    "* Provides a jupyterlab integration"
   ]
  },
  {
   "cell_type": "markdown",
   "metadata": {
    "slideshow": {
     "slide_type": "slide"
    }
   },
   "source": [
    "## Write own packages"
   ]
  },
  {
   "cell_type": "markdown",
   "metadata": {},
   "source": [
    "The cleanest way is still to extract more complicated source code into dedicated packages.\n",
    "\n",
    " * Create a package like `cookiecutter https://github.com/krlng/cookiecutter-minimal-pypackage`\n",
    " * Install it as development package (`pip install -e`)\n",
    " * "
   ]
  },
  {
   "cell_type": "code",
   "execution_count": 25,
   "metadata": {},
   "outputs": [
    {
     "name": "stdout",
     "output_type": "stream",
     "text": [
      "Obtaining file:///Users/nicokreiling/dev/ds/2020_m3_online/other/custom\n",
      "Installing collected packages: custom\n",
      "  Running setup.py develop for custom\n",
      "Successfully installed custom\n"
     ]
    }
   ],
   "source": [
    "#!pip uninstall customcode\n",
    "!pip install -e ./other/custom"
   ]
  },
  {
   "cell_type": "code",
   "execution_count": 20,
   "metadata": {},
   "outputs": [
    {
     "name": "stdout",
     "output_type": "stream",
     "text": [
      "Overwriting ./other/custom/custom/pipeline.py\n"
     ]
    }
   ],
   "source": [
    "%%writefile ./other/custom/custom/pipeline.py\n",
    "\n",
    "from sklearn.base import TransformerMixin\n",
    "from sklearn.impute import SimpleImputer\n",
    "from sklearn.pipeline import Pipeline \n",
    "from sklearn.preprocessing import LabelEncoder, OneHotEncoder\n",
    "from sklearn.preprocessing import label_binarize\n",
    "import pandas as pd\n",
    "\n",
    "def get_title(names):\n",
    "    titles = names.str.extract(r' ([A-Za-z]+)\\.', expand=False)\n",
    "    titles = titles.replace(['Lady', 'Countess','Capt', 'Col','Don', 'Dr', 'Major', 'Rev', 'Sir', 'Jonkheer', 'Dona'],'Rare')\n",
    "    titles = titles.replace('Mlle','Miss')\n",
    "    titles = titles.replace('Ms','Miss')\n",
    "    titles = titles.replace('Mme','Mrs')\n",
    "    return titles\n",
    "\n",
    "class ModelPreperation(TransformerMixin):\n",
    "    #Class Constructor \n",
    "    def __init__( self ):\n",
    "        self.title_encoder = LabelEncoder()\n",
    "        pass\n",
    "     \n",
    "    def fit( self, X, y=None):\n",
    "        self.default_age = X.Age.median()\n",
    "        self.default_price = X.Fare.mean()\n",
    "        self.default_harbor = X.Embarked.mode()[0]\n",
    "        self.embarked_categories = list(X.Embarked.dropna().unique())\n",
    "        self.title_encoder.fit(get_title(X.Name))\n",
    "        return self\n",
    "        \n",
    "    def transform(self, df):\n",
    "        df = df.copy()\n",
    "        df[\"Age\"].fillna(self.default_age, inplace=True)\n",
    "        df[\"Fare\"].fillna(self.default_price, inplace=True)\n",
    "        df[\"Embarked\"].fillna(self.default_harbor, inplace=True)\n",
    "        df['Sex'] = label_binarize(df.Sex, ['male', 'female'])\n",
    "        df[\"has_cabin\"] = ~df.Cabin.isna()\n",
    "        df[\"title\"] = self.title_encoder.transform(get_title(df.Name))\n",
    "        df = df.drop(columns=[\"Cabin\",\"Name\",\"Ticket\",\"PassengerId\"], errors='ignore')\n",
    "        df[\"Embarked\"] = df.Embarked.astype(\"category\").cat.set_categories(self.embarked_categories)\n",
    "        df = pd.get_dummies(df, [\"Embarked\"], columns=[\"Embarked\"], drop_first=True)\n",
    "        return df"
   ]
  },
  {
   "cell_type": "code",
   "execution_count": 1,
   "metadata": {},
   "outputs": [],
   "source": [
    "%load_ext autoreload"
   ]
  },
  {
   "cell_type": "code",
   "execution_count": 2,
   "metadata": {},
   "outputs": [],
   "source": [
    "%autoreload 2"
   ]
  },
  {
   "cell_type": "code",
   "execution_count": 12,
   "metadata": {},
   "outputs": [
    {
     "data": {
      "application/javascript": [
       "\n",
       "        if (window._pyforest_update_imports_cell) { window._pyforest_update_imports_cell('import pandas as pd\\nimport numpy as np'); }\n",
       "    "
      ],
      "text/plain": [
       "<IPython.core.display.Javascript object>"
      ]
     },
     "metadata": {},
     "output_type": "display_data"
    },
    {
     "data": {
      "application/javascript": [
       "\n",
       "        if (window._pyforest_update_imports_cell) { window._pyforest_update_imports_cell('import pandas as pd\\nimport numpy as np'); }\n",
       "    "
      ],
      "text/plain": [
       "<IPython.core.display.Javascript object>"
      ]
     },
     "metadata": {},
     "output_type": "display_data"
    },
    {
     "ename": "NameError",
     "evalue": "name 'label_column' is not defined",
     "output_type": "error",
     "traceback": [
      "\u001b[0;31m---------------------------------------------------------------------------\u001b[0m",
      "\u001b[0;31mNameError\u001b[0m                                 Traceback (most recent call last)",
      "\u001b[0;32m<ipython-input-12-8de1ca340dce>\u001b[0m in \u001b[0;36m<module>\u001b[0;34m\u001b[0m\n\u001b[1;32m      6\u001b[0m \u001b[0mnp\u001b[0m\u001b[0;34m.\u001b[0m\u001b[0mrandom\u001b[0m\u001b[0;34m.\u001b[0m\u001b[0mseed\u001b[0m\u001b[0;34m(\u001b[0m\u001b[0;36m40\u001b[0m\u001b[0;34m)\u001b[0m\u001b[0;34m\u001b[0m\u001b[0;34m\u001b[0m\u001b[0m\n\u001b[1;32m      7\u001b[0m \u001b[0mtrainset\u001b[0m \u001b[0;34m=\u001b[0m \u001b[0mpd\u001b[0m\u001b[0;34m.\u001b[0m\u001b[0mread_csv\u001b[0m\u001b[0;34m(\u001b[0m\u001b[0;34m\"./data/titanic/train.csv\"\u001b[0m\u001b[0;34m)\u001b[0m\u001b[0;34m\u001b[0m\u001b[0;34m\u001b[0m\u001b[0m\n\u001b[0;32m----> 8\u001b[0;31m \u001b[0mX\u001b[0m \u001b[0;34m=\u001b[0m \u001b[0mtrainset\u001b[0m\u001b[0;34m.\u001b[0m\u001b[0mdrop\u001b[0m\u001b[0;34m(\u001b[0m\u001b[0mcolumns\u001b[0m\u001b[0;34m=\u001b[0m\u001b[0mlabel_column\u001b[0m\u001b[0;34m)\u001b[0m\u001b[0;34m\u001b[0m\u001b[0;34m\u001b[0m\u001b[0m\n\u001b[0m\u001b[1;32m      9\u001b[0m \u001b[0my_true\u001b[0m \u001b[0;34m=\u001b[0m \u001b[0mnp\u001b[0m\u001b[0;34m.\u001b[0m\u001b[0mravel\u001b[0m\u001b[0;34m(\u001b[0m\u001b[0mtrainset\u001b[0m\u001b[0;34m[\u001b[0m\u001b[0;34m[\u001b[0m\u001b[0mlabel_column\u001b[0m\u001b[0;34m]\u001b[0m\u001b[0;34m]\u001b[0m\u001b[0;34m)\u001b[0m\u001b[0;34m\u001b[0m\u001b[0;34m\u001b[0m\u001b[0m\n\u001b[1;32m     10\u001b[0m \u001b[0;34m\u001b[0m\u001b[0m\n",
      "\u001b[0;31mNameError\u001b[0m: name 'label_column' is not defined"
     ]
    }
   ],
   "source": [
    "from sklearn.pipeline import Pipeline\n",
    "from custom.pipeline import ModelPreperation\n",
    "from sklearn.ensemble import GradientBoostingClassifier\n",
    "from sklearn.model_selection import cross_val_score, cross_val_predict\n",
    "\n",
    "np.random.seed(40)\n",
    "trainset = pd.read_csv(\"./data/titanic/train.csv\")\n",
    "X = trainset.drop(columns=label_column)\n",
    "y_true = np.ravel(trainset[[label_column]])\n",
    "\n",
    "gb_params = {'n_estimators': 200,'min_samples_split': 16,'min_samples_leaf': 16,'max_features': 5,'max_depth': 3,'learning_rate': 0.25}\n",
    "\n",
    "clf = GradientBoostingClassifier(**gb_params)\n",
    "pipe = Pipeline(steps=[(\"prepare\",ModelPreperation()), (\"clf\", clf)])\n",
    "y_pred = cross_val_predict(pipe, X, y = y_true, cv = 5, n_jobs=-1)\n",
    "\n",
    "from sklearn.metrics import confusion_matrix\n",
    "conf_mat = confusion_matrix(y_true, y_pred)\n",
    "print(\"Acc\", sklearn.metrics.accuracy_score(y_true, y_pred))\n",
    "print(\"F1\", sklearn.metrics.f1_score(y_true, y_pred))\n",
    "sns.heatmap(conf_mat/len(trainset), annot=True, cmap=\"Blues\",  fmt='g') "
   ]
  },
  {
   "cell_type": "markdown",
   "metadata": {
    "slideshow": {
     "slide_type": "subslide"
    }
   },
   "source": [
    "## Another overview"
   ]
  },
  {
   "cell_type": "markdown",
   "metadata": {
    "execution": {
     "iopub.execute_input": "2020-06-09T14:12:49.761319Z",
     "iopub.status.busy": "2020-06-09T14:12:49.761091Z",
     "iopub.status.idle": "2020-06-09T14:12:49.936426Z",
     "shell.execute_reply": "2020-06-09T14:12:49.935579Z",
     "shell.execute_reply.started": "2020-06-09T14:12:49.761294Z"
    },
    "slideshow": {
     "slide_type": "fragment"
    }
   },
   "source": [
    "![Tool Auswahl](img/versionskontroll-diagramm.png)"
   ]
  },
  {
   "cell_type": "markdown",
   "metadata": {
    "slideshow": {
     "slide_type": "slide"
    }
   },
   "source": [
    "# Some final thoughts"
   ]
  },
  {
   "cell_type": "markdown",
   "metadata": {
    "slideshow": {
     "slide_type": "subslide"
    }
   },
   "source": [
    "## Presenting Results\n",
    "\n",
    "Notebook representation as interactive reveal.js slides. Every cell can be assigned to a slide, sub-slide or fragment."
   ]
  },
  {
   "cell_type": "markdown",
   "metadata": {
    "slideshow": {
     "slide_type": "subslide"
    }
   },
   "source": [
    "## Binder\n",
    "\n",
    "* Easy way to provide interactive access of notebooks\n",
    "* Can include custom packages and dependencies\n",
    "* [Integration via Github](https://github.com/krlng/2020_m3_onlne)"
   ]
  },
  {
   "cell_type": "markdown",
   "metadata": {
    "slideshow": {
     "slide_type": "subslide"
    }
   },
   "source": [
    "## Summary\n",
    "\n",
    "* Jupyterlab really got mature and can be used for serious work (not just for tutorials)\n",
    "* If you actually develope productive code, switch to a proper IDE\n",
    "* Use packages, to combine the benefits of both worlds\n",
    "* There are ways to version control notebooks as well"
   ]
  },
  {
   "cell_type": "markdown",
   "metadata": {
    "slideshow": {
     "slide_type": "subslide"
    }
   },
   "source": [
    "## Links to even more links\n",
    "\n",
    "- [Awesome Jupyter](https://github.com/adebar/awesome-jupyter) - Curated List of nice Jupyter things\n",
    "- [Beyond Interactive: Notebook innovation at Netflix](https://medium.com/netflix-techblog/notebook-innovation-591ee3221233)\n",
    "- [Collection of interesting jupyter notebooks](https://github.com/jupyter/jupyter/wiki/a-gallery-of-interesting-jupyter-notebooks)"
   ]
  },
  {
   "cell_type": "markdown",
   "metadata": {
    "execution": {
     "iopub.execute_input": "2020-06-08T12:53:34.113437Z",
     "iopub.status.busy": "2020-06-08T12:53:34.113179Z",
     "iopub.status.idle": "2020-06-08T12:53:34.276099Z",
     "shell.execute_reply": "2020-06-08T12:53:34.275063Z",
     "shell.execute_reply.started": "2020-06-08T12:53:34.113410Z"
    },
    "slideshow": {
     "slide_type": "slide"
    }
   },
   "source": [
    "<div style=\"display: inline-block; float:left; width: 50%\">\n",
    "<img src=\"img/scieneers-logo.png\" width=\"300px\" style=\"padding: 3em 0\" />\n",
    "</div>\n",
    "<div style=\"float: left; width: 50%\">\n",
    "    <h2>Thanks for your attention</h2>\n",
    "    <div>\n",
    "        <ul>\n",
    "            <li>Nico Kreiling</a></li>\n",
    "            <li>Tech-Podcast for Developers: <a href=\"https://techtiefen.de/\">Techtiefen </a></li>\n",
    "        <li>Notebook on: <a href=\"https://github.com/krlng/2020_m3_online\">https://github.com/krlng/2020_m3_online </a></li>\n",
    "        <li>More talks: <a href=\"https://github.com/krlng/techtalks\">https://github.com/krlng/techtalks </a></li>\n",
    "            <li>Twitter: <a href=\"https://twitter.com/nicokreiling\">@nicokreiling </a></li>\n",
    "        </ul>\n",
    "    </div>\n",
    "</div>"
   ]
  },
  {
   "cell_type": "code",
   "execution_count": null,
   "metadata": {},
   "outputs": [],
   "source": []
  }
 ],
 "metadata": {
  "jupytext": {
   "encoding": "# -*- coding: utf-8 -*-"
  },
  "kernelspec": {
   "display_name": "Python [conda env:ds]",
   "language": "python",
   "name": "conda-env-ds-py"
  },
  "language_info": {
   "codemirror_mode": {
    "name": "ipython",
    "version": 3
   },
   "file_extension": ".py",
   "mimetype": "text/x-python",
   "name": "python",
   "nbconvert_exporter": "python",
   "pygments_lexer": "ipython3",
   "version": "3.8.2"
  },
  "toc-autonumbering": true,
  "toc-showcode": false,
  "toc-showmarkdowntxt": false,
  "toc-showtags": true
 },
 "nbformat": 4,
 "nbformat_minor": 4
}
