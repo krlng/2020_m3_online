{
 "cells": [
  {
   "cell_type": "markdown",
   "metadata": {
    "execution": {
     "iopub.execute_input": "2020-06-08T12:53:34.113437Z",
     "iopub.status.busy": "2020-06-08T12:53:34.113179Z",
     "iopub.status.idle": "2020-06-08T12:53:34.276099Z",
     "shell.execute_reply": "2020-06-08T12:53:34.275063Z",
     "shell.execute_reply.started": "2020-06-08T12:53:34.113410Z"
    },
    "slideshow": {
     "slide_type": "slide"
    }
   },
   "source": [
    "<div style=\"display: inline-block; float:left; width: 50%\">\n",
    "<img src=\"img/nico_kreiling.jpg\" width=\"300px\"/>\n",
    "</div>\n",
    "<div style=\"float: left; width: 50%\">\n",
    "    <h2>Nico Kreiling</h2>\n",
    "    <div>\n",
    "        <ul>\n",
    "            <li>Data Scientist <a href=\"https://www.scieneers.de/\">@Scieneers </a></li>\n",
    "            <li>Tech-Podcast für Entwickler: <a href=\"https://techtiefen.de/\">Techtiefen </a></li>\n",
    "        <li>Notebook auf <a href=\"https://github.com/krlng/2020_m3_online\">https://github.com/krlng/2020_m3_online </a></li>\n",
    "        <li>Weitere Vorträge <a href=\"https://github.com/krlng/techtalks\">https://github.com/krlng/techtalks </a></li>\n",
    "            <li>Twitter: <a href=\"https://twitter.com/nicokreiling\">@nicokreiling </a></li>\n",
    "        </ul>\n",
    "    </div>\n",
    "</div>"
   ]
  },
  {
   "cell_type": "markdown",
   "metadata": {
    "execution": {
     "iopub.execute_input": "2020-06-08T12:53:57.197814Z",
     "iopub.status.busy": "2020-06-08T12:53:57.197546Z",
     "iopub.status.idle": "2020-06-08T12:53:57.246285Z",
     "shell.execute_reply": "2020-06-08T12:53:57.245331Z",
     "shell.execute_reply.started": "2020-06-08T12:53:57.197786Z"
    },
    "slideshow": {
     "slide_type": "slide"
    }
   },
   "source": [
    "<div style=\"display: inline-block; float:left; width: 50%\">\n",
    "<img src=\"img/jupyter-logo.png\" width=\"300px\"/>\n",
    "</div>\n",
    "<div style=\"float: left; width: 50%\">\n",
    "    <h1>PROFESSIONELLES ARBEITEN MIT JUPTYER <strike>NOTEBOOKS</strike> LAB</h1>\n",
    "    <div><br>\n",
    "    <p><cite>\"Finally a tool where I can do all my work. And yes, I have worked with Emacs.\"</cite> - <a href=\"https://medium.com/@boyanangelov/is-this-the-best-data-science-ide-jupyter-lab-review-fdd165470f13\">Boyan Angelov, Data Scientist @mindmatch.ai</a></p>\n",
    "    <p><cite>\"I don't like Notebooks.\"</cite> - <a href=\"https://docs.google.com/presentation/d/1n2RlMdmv1p25Xy5thJUhkKGvjtV-dkAIsUXP-AL4ffI/edit#slide=id.g362da58057_0_14\">Joel Grus, Allen Institute for AI</a>\n",
    "    </p>\n",
    "        </div>\n",
    "</div>"
   ]
  },
  {
   "cell_type": "markdown",
   "metadata": {
    "slideshow": {
     "slide_type": "subslide"
    }
   },
   "source": [
    "## The Good\n",
    "\n",
    "<p><cite>\"Finally a tool where I can do all my work. And yes, I have worked with Emacs.\"</cite> - <a href=\"https://medium.com/@boyanangelov/is-this-the-best-data-science-ide-jupyter-lab-review-fdd165470f13\">Boyan Angelov, Data Scientist @mindmatch.ai</a></p>\n",
    "    \n",
    "* Beginner friendly (more powerfull repl, integration of markdown and source code)\n",
    "* Interactive (Inline Plots, Widgets)"
   ]
  },
  {
   "cell_type": "markdown",
   "metadata": {
    "slideshow": {
     "slide_type": "subslide"
    }
   },
   "source": [
    "## The Bad\n",
    "\n",
    "<p><cite>\"I don't like Notebooks.\"</cite> - <a href=\"https://docs.google.com/presentation/d/1n2RlMdmv1p25Xy5thJUhkKGvjtV-dkAIsUXP-AL4ffI/edit#slide=id.g362da58057_0_14\">Joel Grus, Allen Institute for AI</a>\n",
    "</p>"
   ]
  },
  {
   "cell_type": "markdown",
   "metadata": {
    "slideshow": {
     "slide_type": "fragment"
    }
   },
   "source": [
    "* Hidden State (execution order matters, Source Code != Output)\n",
    "* Promotes bad conding habits\n",
    "* More difficult versioning\n",
    "* Less powerfull IDE"
   ]
  },
  {
   "cell_type": "code",
   "execution_count": 69,
   "metadata": {
    "execution": {
     "iopub.execute_input": "2020-06-09T14:38:10.786301Z",
     "iopub.status.busy": "2020-06-09T14:38:10.786013Z",
     "iopub.status.idle": "2020-06-09T14:38:10.841483Z",
     "shell.execute_reply": "2020-06-09T14:38:10.840435Z",
     "shell.execute_reply.started": "2020-06-09T14:38:10.786274Z"
    },
    "jupyter": {
     "source_hidden": true
    },
    "slideshow": {
     "slide_type": "fragment"
    }
   },
   "outputs": [
    {
     "data": {
      "text/html": [
       "\n",
       "        <iframe\n",
       "            width=\"560\"\n",
       "            height=\"315\"\n",
       "            src=\"https://www.youtube.com/embed/7jiPeIFXb6U\"\n",
       "            frameborder=\"0\"\n",
       "            allowfullscreen\n",
       "        ></iframe>\n",
       "        "
      ],
      "text/plain": [
       "<IPython.lib.display.IFrame at 0x7fd782bd4dc0>"
      ]
     },
     "execution_count": 69,
     "metadata": {},
     "output_type": "execute_result"
    }
   ],
   "source": [
    "from IPython.display import IFrame\n",
    "# Youtube\n",
    "IFrame(width=\"560\",height=\"315\",src=\"https://www.youtube.com/embed/7jiPeIFXb6U\")"
   ]
  },
  {
   "cell_type": "markdown",
   "metadata": {
    "slideshow": {
     "slide_type": "slide"
    }
   },
   "source": [
    "# Notebook Pitfalls"
   ]
  },
  {
   "cell_type": "markdown",
   "metadata": {
    "execution": {
     "iopub.execute_input": "2020-06-08T07:47:44.099849Z",
     "iopub.status.busy": "2020-06-08T07:47:44.099579Z",
     "iopub.status.idle": "2020-06-08T07:47:44.105676Z",
     "shell.execute_reply": "2020-06-08T07:47:44.104201Z",
     "shell.execute_reply.started": "2020-06-08T07:47:44.099821Z"
    },
    "slideshow": {
     "slide_type": "subslide"
    }
   },
   "source": [
    "## Clean Code for Notebooks\n",
    "\n",
    "* Structure your Notebook with headings\n",
    "* Variable Names:\n",
    "    * nouns are objects, verbs are functions\n",
    "    * good names give a clear intuition\n",
    "    * The bigger the scope, the more explicit the name\n",
    "* Use type annotations and default values\n",
    "* Use \"Restart Kernel and Run All Cells\" extensively\n",
    "    \n",
    "More in my [podcast on clean code](https://techtiefen.de/dev-basics-clean-code/)"
   ]
  },
  {
   "cell_type": "markdown",
   "metadata": {
    "execution": {
     "iopub.execute_input": "2020-06-08T07:34:11.673415Z",
     "iopub.status.busy": "2020-06-08T07:34:11.673159Z",
     "iopub.status.idle": "2020-06-08T07:34:11.677534Z",
     "shell.execute_reply": "2020-06-08T07:34:11.676580Z",
     "shell.execute_reply.started": "2020-06-08T07:34:11.673387Z"
    },
    "slideshow": {
     "slide_type": "slide"
    }
   },
   "source": [
    "## Imports"
   ]
  },
  {
   "cell_type": "code",
   "execution_count": 70,
   "metadata": {
    "execution": {
     "iopub.execute_input": "2020-06-09T14:38:10.843814Z",
     "iopub.status.busy": "2020-06-09T14:38:10.843615Z",
     "iopub.status.idle": "2020-06-09T14:38:10.916087Z",
     "shell.execute_reply": "2020-06-09T14:38:10.915518Z",
     "shell.execute_reply.started": "2020-06-09T14:38:10.843792Z"
    },
    "slideshow": {
     "slide_type": "fragment"
    }
   },
   "outputs": [
    {
     "data": {
      "application/javascript": [
       "\n",
       "        if (window._pyforest_update_imports_cell) { window._pyforest_update_imports_cell('import matplotlib.pyplot as plt\\nimport seaborn as sns\\nimport sklearn'); }\n",
       "    "
      ],
      "text/plain": [
       "<IPython.core.display.Javascript object>"
      ]
     },
     "metadata": {},
     "output_type": "display_data"
    },
    {
     "data": {
      "text/html": [
       "        <script type=\"text/javascript\">\n",
       "        window.PlotlyConfig = {MathJaxConfig: 'local'};\n",
       "        if (window.MathJax) {MathJax.Hub.Config({SVG: {font: \"STIX-Web\"}});}\n",
       "        if (typeof require !== 'undefined') {\n",
       "        require.undef(\"plotly\");\n",
       "        requirejs.config({\n",
       "            paths: {\n",
       "                'plotly': ['https://cdn.plot.ly/plotly-latest.min']\n",
       "            }\n",
       "        });\n",
       "        require(['plotly'], function(Plotly) {\n",
       "            window._Plotly = Plotly;\n",
       "        });\n",
       "        }\n",
       "        </script>\n",
       "        "
      ]
     },
     "metadata": {},
     "output_type": "display_data"
    }
   ],
   "source": [
    "%run ./helpers.ipynb"
   ]
  },
  {
   "cell_type": "code",
   "execution_count": 71,
   "metadata": {
    "execution": {
     "iopub.execute_input": "2020-06-09T14:38:10.917789Z",
     "iopub.status.busy": "2020-06-09T14:38:10.917485Z",
     "iopub.status.idle": "2020-06-09T14:38:10.969418Z",
     "shell.execute_reply": "2020-06-09T14:38:10.968571Z",
     "shell.execute_reply.started": "2020-06-09T14:38:10.917763Z"
    },
    "slideshow": {
     "slide_type": "fragment"
    }
   },
   "outputs": [],
   "source": [
    "import pyforest"
   ]
  },
  {
   "cell_type": "markdown",
   "metadata": {
    "slideshow": {
     "slide_type": "slide"
    }
   },
   "source": [
    "## Tastatur-Kürzel"
   ]
  },
  {
   "cell_type": "markdown",
   "metadata": {
    "slideshow": {
     "slide_type": "subslide"
    }
   },
   "source": [
    "### Standard-Tastaturbefehle\n",
    "\n",
    "Command  | Shortcut\n",
    "------------- | -------------\n",
    "Command Palette |`Accel Shift C`\n",
    "File Explorer |`Accel Shift F`\n",
    "Toggle Bar |`Accel B`\n",
    "Fullscreen Mode |`Accel Shift D`\n",
    "Close Tab |`Ctrl Q`\n",
    "Launcher |`Accel Shift L`"
   ]
  },
  {
   "cell_type": "markdown",
   "metadata": {
    "slideshow": {
     "slide_type": "subslide"
    }
   },
   "source": [
    "### Eigene Tatstenkürzel\n",
    "\n",
    "Settings > Keyboard Shortcuts\n",
    "```\n",
    "{\n",
    "    \"notebook:move-cell-up\": {\n",
    "      \"command\": \"notebook:move-cell-up\",\n",
    "      \"keys\": [\n",
    "        \"Accel Alt ArrowUp\"\n",
    "      ],\n",
    "      \"selector\": \"body\"\n",
    "    },\n",
    "    \"notebook:move-cell-down\": {\n",
    "      \"command\": \"notebook:move-cell-down\",\n",
    "      \"keys\": [\n",
    "        \"Accel Alt ArrowDown\"\n",
    "      ],\n",
    "      \"selector\": \"body\"\n",
    "    }        \n",
    "}\n",
    "```"
   ]
  },
  {
   "cell_type": "markdown",
   "metadata": {
    "slideshow": {
     "slide_type": "subslide"
    }
   },
   "source": [
    "## Geheime Perlen\n",
    "\n",
    "* Copy&Paste, Drag&Drop\n",
    "* recordTiming\n",
    "* Access previous output\n",
    "* Cell-Tags\n",
    "* Slides\n",
    "* Extension Manager"
   ]
  },
  {
   "cell_type": "code",
   "execution_count": 72,
   "metadata": {
    "execution": {
     "iopub.execute_input": "2020-06-09T14:38:10.970612Z",
     "iopub.status.busy": "2020-06-09T14:38:10.970429Z",
     "iopub.status.idle": "2020-06-09T14:38:11.024951Z",
     "shell.execute_reply": "2020-06-09T14:38:11.024286Z",
     "shell.execute_reply.started": "2020-06-09T14:38:10.970590Z"
    }
   },
   "outputs": [],
   "source": [
    "import plotly.graph_objects as go\n",
    "import plotly.express as px\n",
    "jupyterlab_downloads = pd.read_csv(\"data/condastats.csv\")"
   ]
  },
  {
   "cell_type": "code",
   "execution_count": 73,
   "metadata": {
    "execution": {
     "iopub.execute_input": "2020-06-09T14:38:11.026219Z",
     "iopub.status.busy": "2020-06-09T14:38:11.026029Z",
     "iopub.status.idle": "2020-06-09T14:38:11.190189Z",
     "shell.execute_reply": "2020-06-09T14:38:11.187855Z",
     "shell.execute_reply.started": "2020-06-09T14:38:11.026192Z"
    }
   },
   "outputs": [],
   "source": [
    "fig = go.FigureWidget(px.line(jupyterlab_downloads, x=\"time\", y=\"counts\", color=\"pkg_name\"))"
   ]
  },
  {
   "cell_type": "code",
   "execution_count": 74,
   "metadata": {
    "execution": {
     "iopub.execute_input": "2020-06-09T14:38:11.192240Z",
     "iopub.status.busy": "2020-06-09T14:38:11.191845Z",
     "iopub.status.idle": "2020-06-09T14:38:11.264011Z",
     "shell.execute_reply": "2020-06-09T14:38:11.263077Z",
     "shell.execute_reply.started": "2020-06-09T14:38:11.192181Z"
    }
   },
   "outputs": [
    {
     "data": {
      "application/vnd.jupyter.widget-view+json": {
       "model_id": "2dc21d15425e49b8af9260a0a9c54944",
       "version_major": 2,
       "version_minor": 0
      },
      "text/plain": [
       "FigureWidget({\n",
       "    'data': [{'hovertemplate': 'pkg_name=jupyter<br>time=%{x}<br>counts=%{y}<extra></extra>',\n",
       " …"
      ]
     },
     "metadata": {},
     "output_type": "display_data"
    }
   ],
   "source": [
    "fig"
   ]
  },
  {
   "cell_type": "code",
   "execution_count": 75,
   "metadata": {
    "execution": {
     "iopub.execute_input": "2020-06-09T14:38:11.267202Z",
     "iopub.status.busy": "2020-06-09T14:38:11.266821Z",
     "iopub.status.idle": "2020-06-09T14:38:11.330582Z",
     "shell.execute_reply": "2020-06-09T14:38:11.329719Z",
     "shell.execute_reply.started": "2020-06-09T14:38:11.267155Z"
    }
   },
   "outputs": [],
   "source": [
    "fig.layout.title=\"Download statistics Jupyter\""
   ]
  },
  {
   "cell_type": "markdown",
   "metadata": {
    "slideshow": {
     "slide_type": "subslide"
    }
   },
   "source": [
    "## Meine aktuelle Plugin-Auswahl\n",
    "\n",
    "* Access & Structure\n",
    "    * [Table of Contents](https://github.com/jupyterlab/jupyterlab-toc)\n",
    "    * [quickopen](https://github.com/parente/jupyterlab-quickopen)\n",
    "    * [variableinspector](https://github.com/lckr/jupyterlab-variableInspector)\n",
    "* Key Bindings\n",
    "    * [Vim Bindings](https://github.com/jwkvam/jupyterlab-vim)\n",
    "    * [Sublime Bindings](https://github.com/jwkvam/jupyterlab-vim)\n",
    "* Versioning:\n",
    "    * [Jupytext](https://github.com/mwouts/jupytext/)\n",
    "    * [nbdime](https://github.com/jupyter/nbdime/)\n",
    "* Erweiterte Datentypen\n",
    "    * [Plotly](https://plotly.com/python/getting-started)\n",
    "    * [Drawio](https://github.com/QuantStack/jupyterlab-drawio)\n",
    "    * [Geo-Support](https://github.com/jupyterlab/jupyter-renderers)\n",
    "    \n",
    "[PyData Talk](https://www.youtube.com/watch?v=3pdrzhny9Lc) on JupyterLab Plugins\n",
    "\n",
    "Curated List: [Awesome JupyterLab](https://github.com/mauhai/awesome-jupyterlab) - Curated List of JupyterLab Extensions"
   ]
  },
  {
   "cell_type": "markdown",
   "metadata": {},
   "source": [
    "## Exploration Tools\n",
    "* [pyforest](https://github.com/8080labs/pyforest): lazy library imports\n",
    "* [Pandas Profiling](https://github.com/pandas-profiling/pandas-profiling): data profiling\n",
    "* [Predictive Power Score](https://github.com/8080labs/ppscore): A data type immune alternative to correlation\n",
    "* [klib](https://github.com/akanz1/klib): Some helpful plots\n",
    "* [Yellowbricks](https://www.scikit-yb.org/en/latest/index.html): Even more helpfull plots for machine learning"
   ]
  },
  {
   "cell_type": "markdown",
   "metadata": {},
   "source": [
    "# Beispiel-Projekt\n",
    "\n",
    "## Survive on the Titanic\n",
    "\n",
    "\n",
    "The titanic.csv file contains data for s. Each row represents one person. The columns describe different attributes about the person including whether they survived (S), their age (A), their passenger-class (C), their sex (G) and the fare they paid (X).\n",
    "\n",
    "* Binary Classification\n",
    "* 887 of the real Titanic passenger\n",
    "* Easily understandable features\n",
    "* numerical, categorical and text features"
   ]
  },
  {
   "cell_type": "code",
   "execution_count": 76,
   "metadata": {
    "execution": {
     "iopub.execute_input": "2020-06-09T14:38:11.335704Z",
     "iopub.status.busy": "2020-06-09T14:38:11.335427Z",
     "iopub.status.idle": "2020-06-09T14:38:11.399496Z",
     "shell.execute_reply": "2020-06-09T14:38:11.398487Z",
     "shell.execute_reply.started": "2020-06-09T14:38:11.335667Z"
    },
    "jupyter": {
     "source_hidden": true
    }
   },
   "outputs": [
    {
     "data": {
      "text/html": [
       "\n",
       "        <iframe\n",
       "            width=\"560\"\n",
       "            height=\"315\"\n",
       "            src=\"https://www.youtube.com/embed/ItjXTieWKyI\"\n",
       "            frameborder=\"0\"\n",
       "            allowfullscreen\n",
       "        ></iframe>\n",
       "        "
      ],
      "text/plain": [
       "<IPython.lib.display.IFrame at 0x7fd77ec6f2b0>"
      ]
     },
     "execution_count": 76,
     "metadata": {},
     "output_type": "execute_result"
    }
   ],
   "source": [
    "from IPython.display import IFrame\n",
    "# Youtube\n",
    "IFrame(src=\"https://www.youtube.com/embed/ItjXTieWKyI\", width=\"560\", height=\"315\")"
   ]
  },
  {
   "cell_type": "markdown",
   "metadata": {},
   "source": [
    "## Explore data"
   ]
  },
  {
   "cell_type": "code",
   "execution_count": 77,
   "metadata": {
    "execution": {
     "iopub.execute_input": "2020-06-09T14:38:11.402742Z",
     "iopub.status.busy": "2020-06-09T14:38:11.402418Z",
     "iopub.status.idle": "2020-06-09T14:38:11.473819Z",
     "shell.execute_reply": "2020-06-09T14:38:11.472890Z",
     "shell.execute_reply.started": "2020-06-09T14:38:11.402700Z"
    }
   },
   "outputs": [],
   "source": [
    "trainset = pd.read_csv(\"./data/titanic/train.csv\")\n",
    "testset  = pd.read_csv(\"./data/titanic/test.csv\")\n",
    "label_column = \"Survived\""
   ]
  },
  {
   "cell_type": "code",
   "execution_count": 78,
   "metadata": {
    "execution": {
     "iopub.execute_input": "2020-06-09T14:38:11.475193Z",
     "iopub.status.busy": "2020-06-09T14:38:11.474879Z",
     "iopub.status.idle": "2020-06-09T14:38:11.543863Z",
     "shell.execute_reply": "2020-06-09T14:38:11.542872Z",
     "shell.execute_reply.started": "2020-06-09T14:38:11.475141Z"
    }
   },
   "outputs": [
    {
     "name": "stdout",
     "output_type": "stream",
     "text": [
      "<class 'pandas.core.frame.DataFrame'>\n",
      "RangeIndex: 891 entries, 0 to 890\n",
      "Data columns (total 12 columns):\n",
      " #   Column       Non-Null Count  Dtype  \n",
      "---  ------       --------------  -----  \n",
      " 0   PassengerId  891 non-null    int64  \n",
      " 1   Survived     891 non-null    int64  \n",
      " 2   Pclass       891 non-null    int64  \n",
      " 3   Name         891 non-null    object \n",
      " 4   Sex          891 non-null    object \n",
      " 5   Age          714 non-null    float64\n",
      " 6   SibSp        891 non-null    int64  \n",
      " 7   Parch        891 non-null    int64  \n",
      " 8   Ticket       891 non-null    object \n",
      " 9   Fare         891 non-null    float64\n",
      " 10  Cabin        204 non-null    object \n",
      " 11  Embarked     889 non-null    object \n",
      "dtypes: float64(2), int64(5), object(5)\n",
      "memory usage: 83.7+ KB\n"
     ]
    }
   ],
   "source": [
    "trainset.info()"
   ]
  },
  {
   "cell_type": "code",
   "execution_count": 79,
   "metadata": {
    "execution": {
     "iopub.execute_input": "2020-06-09T14:38:11.545895Z",
     "iopub.status.busy": "2020-06-09T14:38:11.545540Z",
     "iopub.status.idle": "2020-06-09T14:38:12.831191Z",
     "shell.execute_reply": "2020-06-09T14:38:12.830014Z",
     "shell.execute_reply.started": "2020-06-09T14:38:11.545854Z"
    }
   },
   "outputs": [
    {
     "data": {
      "text/plain": [
       "GridSpec(6, 6)"
      ]
     },
     "execution_count": 79,
     "metadata": {},
     "output_type": "execute_result"
    },
    {
     "data": {
      "image/png": "[encoded data removed]",
      "text/plain": [
       "<Figure size 864x864 with 4 Axes>"
      ]
     },
     "metadata": {},
     "output_type": "display_data"
    }
   ],
   "source": [
    "klib.missingval_plot(trainset)"
   ]
  },
  {
   "cell_type": "code",
   "execution_count": 80,
   "metadata": {
    "execution": {
     "iopub.execute_input": "2020-06-09T14:38:12.833243Z",
     "iopub.status.busy": "2020-06-09T14:38:12.833000Z",
     "iopub.status.idle": "2020-06-09T14:38:57.362677Z",
     "shell.execute_reply": "2020-06-09T14:38:57.361926Z",
     "shell.execute_reply.started": "2020-06-09T14:38:12.833214Z"
    }
   },
   "outputs": [
    {
     "data": {
      "application/vnd.jupyter.widget-view+json": {
       "model_id": "3487f5ee8b524fadab43a86b420cc8e8",
       "version_major": 2,
       "version_minor": 0
      },
      "text/plain": [
       "HBox(children=(FloatProgress(value=0.0, description='Summarize dataset', max=26.0, style=ProgressStyle(descrip…"
      ]
     },
     "metadata": {},
     "output_type": "display_data"
    },
    {
     "name": "stdout",
     "output_type": "stream",
     "text": [
      "\n"
     ]
    },
    {
     "data": {
      "application/vnd.jupyter.widget-view+json": {
       "model_id": "2d97251e252c4d0184e38f5d89da68a0",
       "version_major": 2,
       "version_minor": 0
      },
      "text/plain": [
       "HBox(children=(FloatProgress(value=0.0, description='Generate report structure', max=1.0, style=ProgressStyle(…"
      ]
     },
     "metadata": {},
     "output_type": "display_data"
    },
    {
     "name": "stdout",
     "output_type": "stream",
     "text": [
      "\n"
     ]
    },
    {
     "data": {
      "application/vnd.jupyter.widget-view+json": {
       "model_id": "",
       "version_major": 2,
       "version_minor": 0
      },
      "text/plain": [
       "HBox(children=(FloatProgress(value=0.0, description='Render widgets', max=1.0, style=ProgressStyle(description…"
      ]
     },
     "metadata": {},
     "output_type": "display_data"
    },
    {
     "data": {
      "application/vnd.jupyter.widget-view+json": {
       "model_id": "30182db2f8784e8c8ff19288f7e4c6f9",
       "version_major": 2,
       "version_minor": 0
      },
      "text/plain": [
       "VBox(children=(Tab(children=(Tab(children=(GridBox(children=(VBox(children=(GridspecLayout(children=(HTML(valu…"
      ]
     },
     "metadata": {},
     "output_type": "display_data"
    }
   ],
   "source": [
    "profile = pandas_profiling.ProfileReport(trainset, title='Pandas Profiling Report', explorative=True )\n",
    "profile.to_widgets()"
   ]
  },
  {
   "cell_type": "code",
   "execution_count": 81,
   "metadata": {
    "execution": {
     "iopub.execute_input": "2020-06-09T14:38:57.364820Z",
     "iopub.status.busy": "2020-06-09T14:38:57.364491Z",
     "iopub.status.idle": "2020-06-09T14:38:57.796788Z",
     "shell.execute_reply": "2020-06-09T14:38:57.795633Z",
     "shell.execute_reply.started": "2020-06-09T14:38:57.364788Z"
    }
   },
   "outputs": [
    {
     "data": {
      "image/png": "[encoded data removed]",
      "text/plain": [
       "<Figure size 1440x360 with 2 Axes>"
      ]
     },
     "metadata": {},
     "output_type": "display_data"
    },
    {
     "data": {
      "text/plain": [
       "<matplotlib.axes._subplots.AxesSubplot at 0x7fd77410f4c0>"
      ]
     },
     "execution_count": 81,
     "metadata": {},
     "output_type": "execute_result"
    }
   ],
   "source": [
    "from yellowbrick.features import Rank2D\n",
    "\n",
    "visualizer = Rank2D(algorithm=\"pearson\", features=trainset.select_dtypes(np.number).columns)\n",
    "visualizer.fit_transform(trainset.select_dtypes(np.number).values)\n",
    "visualizer.show()"
   ]
  },
  {
   "cell_type": "code",
   "execution_count": 82,
   "metadata": {
    "execution": {
     "iopub.execute_input": "2020-06-09T14:38:57.798660Z",
     "iopub.status.busy": "2020-06-09T14:38:57.798356Z",
     "iopub.status.idle": "2020-06-09T14:39:00.990923Z",
     "shell.execute_reply": "2020-06-09T14:39:00.990201Z",
     "shell.execute_reply.started": "2020-06-09T14:38:57.798625Z"
    }
   },
   "outputs": [
    {
     "data": {
      "application/javascript": [
       "\n",
       "        if (window._pyforest_update_imports_cell) { window._pyforest_update_imports_cell('import matplotlib.pyplot as plt\\nimport seaborn as sns\\nimport sklearn'); }\n",
       "    "
      ],
      "text/plain": [
       "<IPython.core.display.Javascript object>"
      ]
     },
     "metadata": {},
     "output_type": "display_data"
    },
    {
     "data": {
      "text/plain": [
       "<matplotlib.axes._subplots.AxesSubplot at 0x7fd7743b9100>"
      ]
     },
     "execution_count": 82,
     "metadata": {},
     "output_type": "execute_result"
    },
    {
     "data": {
      "image/png": "[encoded data removed]",
      "text/plain": [
       "<Figure size 1440x144 with 2 Axes>"
      ]
     },
     "metadata": {},
     "output_type": "display_data"
    }
   ],
   "source": [
    "%%capture --no-display\n",
    "\n",
    "figsize(20,2)\n",
    "df = ppscore.matrix(trainset)\n",
    "df = df[label_column].drop(labels=label_column).sort_values(ascending=False).to_frame().transpose()\n",
    "sns.heatmap(df, vmin=0, vmax=1, cmap=\"Blues\", annot=True, )"
   ]
  },
  {
   "cell_type": "code",
   "execution_count": 83,
   "metadata": {
    "execution": {
     "iopub.execute_input": "2020-06-09T14:39:00.992211Z",
     "iopub.status.busy": "2020-06-09T14:39:00.992001Z",
     "iopub.status.idle": "2020-06-09T14:39:02.354812Z",
     "shell.execute_reply": "2020-06-09T14:39:02.354077Z",
     "shell.execute_reply.started": "2020-06-09T14:39:00.992186Z"
    }
   },
   "outputs": [
    {
     "data": {
      "text/plain": [
       "GridSpec(6, 5)"
      ]
     },
     "execution_count": 83,
     "metadata": {},
     "output_type": "execute_result"
    },
    {
     "data": {
      "image/png": "[encoded data removed]",
      "text/plain": [
       "<Figure size 1008x1008 with 11 Axes>"
      ]
     },
     "metadata": {},
     "output_type": "display_data"
    }
   ],
   "source": [
    "klib.cat_plot(trainset)"
   ]
  },
  {
   "cell_type": "markdown",
   "metadata": {},
   "source": [
    "# Developing Productive Code"
   ]
  },
  {
   "cell_type": "markdown",
   "metadata": {
    "execution": {
     "iopub.execute_input": "2020-06-08T13:31:04.959738Z",
     "iopub.status.busy": "2020-06-08T13:31:04.959429Z",
     "iopub.status.idle": "2020-06-08T13:31:04.965278Z",
     "shell.execute_reply": "2020-06-08T13:31:04.964134Z",
     "shell.execute_reply.started": "2020-06-08T13:31:04.959707Z"
    }
   },
   "source": [
    "## Using Conda Environments\n",
    "\n",
    "Create a dedicated environment for jupyter lab (here jupyter):\n",
    "\n",
    "```\n",
    "conda install -n jupyter nb_conda_kernels\n",
    "````\n",
    "\n",
    "In every other environment you want to access through jupyter lab you need to install:\n",
    "\n",
    "```\n",
    "conda install -n python_env ipykernel\n",
    "```"
   ]
  },
  {
   "cell_type": "markdown",
   "metadata": {},
   "source": [
    "## Writing custom packages"
   ]
  },
  {
   "cell_type": "code",
   "execution_count": 84,
   "metadata": {
    "execution": {
     "iopub.execute_input": "2020-06-09T14:39:02.356198Z",
     "iopub.status.busy": "2020-06-09T14:39:02.355859Z",
     "iopub.status.idle": "2020-06-09T14:39:02.409109Z",
     "shell.execute_reply": "2020-06-09T14:39:02.408328Z",
     "shell.execute_reply.started": "2020-06-09T14:39:02.356171Z"
    }
   },
   "outputs": [
    {
     "name": "stdout",
     "output_type": "stream",
     "text": [
      "Overwriting package.config\n"
     ]
    }
   ],
   "source": [
    "%%writefile package.config\n",
    "\n",
    "author_name: \"Nico Kreiling\"\n",
    "author_email: nico.kreiling@gmail.com\n",
    "package_name: customcode\n",
    "package_version: 0.1.0\n",
    "package_description: \"An opinionated, minimal cookiecutter template for Python packages\"\n",
    "package_url: https://github.com/krlng/cookiecutter-minimal-pypackage"
   ]
  },
  {
   "cell_type": "code",
   "execution_count": 85,
   "metadata": {
    "execution": {
     "iopub.execute_input": "2020-06-09T14:39:02.410510Z",
     "iopub.status.busy": "2020-06-09T14:39:02.410107Z",
     "iopub.status.idle": "2020-06-09T14:39:03.366093Z",
     "shell.execute_reply": "2020-06-09T14:39:03.364964Z",
     "shell.execute_reply.started": "2020-06-09T14:39:02.410472Z"
    }
   },
   "outputs": [
    {
     "name": "stdout",
     "output_type": "stream",
     "text": [
      "\u001b[31mERROR: ./customcode is not a valid editable requirement. It should either be a path to a local project or a VCS URL (beginning with svn+, git+, hg+, or bzr+).\u001b[0m\n"
     ]
    }
   ],
   "source": [
    "!pip install -e ./customcode"
   ]
  },
  {
   "cell_type": "code",
   "execution_count": 86,
   "metadata": {
    "execution": {
     "iopub.execute_input": "2020-06-09T14:39:03.368672Z",
     "iopub.status.busy": "2020-06-09T14:39:03.368386Z",
     "iopub.status.idle": "2020-06-09T14:39:03.431887Z",
     "shell.execute_reply": "2020-06-09T14:39:03.431254Z",
     "shell.execute_reply.started": "2020-06-09T14:39:03.368642Z"
    }
   },
   "outputs": [
    {
     "name": "stdout",
     "output_type": "stream",
     "text": [
      "Overwriting ../customcode/customcode/pipeline.py\n"
     ]
    }
   ],
   "source": [
    "%%writefile ../customcode/customcode/pipeline.py\n",
    "\n",
    "from sklearn.base import TransformerMixin\n",
    "from sklearn.impute import SimpleImputer\n",
    "from sklearn.pipeline import Pipeline \n",
    "from sklearn.preprocessing import LabelEncoder, OneHotEncoder\n",
    "from sklearn.preprocessing import label_binarize\n",
    "import pandas as pd\n",
    "\n",
    "def get_title(names):\n",
    "    titles = names.str.extract(r' ([A-Za-z]+)\\.', expand=False)\n",
    "    titles = titles.replace(['Lady', 'Countess','Capt', 'Col','Don', 'Dr', 'Major', 'Rev', 'Sir', 'Jonkheer', 'Dona'],'Rare')\n",
    "    titles = titles.replace('Mlle','Miss')\n",
    "    titles = titles.replace('Ms','Miss')\n",
    "    titles = titles.replace('Mme','Mrs')\n",
    "    return titles\n",
    "\n",
    "class ModelPreperation(TransformerMixin):\n",
    "    #Class Constructor \n",
    "    def __init__( self ):\n",
    "        self.title_encoder = LabelEncoder()\n",
    "        pass\n",
    "     \n",
    "    def fit( self, X, y=None):\n",
    "        self.default_age = X.Age.median()\n",
    "        self.default_price = X.Fare.mean()\n",
    "        self.default_harbor = X.Embarked.mode()[0]\n",
    "        self.embarked_categories = list(X.Embarked.dropna().unique())\n",
    "        self.title_encoder.fit(get_title(X.Name))\n",
    "        return self\n",
    "        \n",
    "    def transform(self, df):\n",
    "        df = df.copy()\n",
    "        df[\"Age\"].fillna(self.default_age, inplace=True)\n",
    "        df[\"Fare\"].fillna(self.default_price, inplace=True)\n",
    "        df[\"Embarked\"].fillna(self.default_harbor, inplace=True)\n",
    "        df['Sex'] = label_binarize(df.Sex, ['male', 'female'])\n",
    "        df[\"has_cabin\"] = ~df.Cabin.isna()\n",
    "        df[\"title\"] = self.title_encoder.transform(get_title(df.Name))\n",
    "        df = df.drop(columns=[\"Cabin\",\"Name\",\"Ticket\",\"PassengerId\"], errors='ignore')\n",
    "        df[\"Embarked\"] = df.Embarked.astype(\"category\").cat.set_categories(self.embarked_categories)\n",
    "        df = pd.get_dummies(df, [\"Embarked\"], columns=[\"Embarked\"], drop_first=True)\n",
    "        return df"
   ]
  },
  {
   "cell_type": "code",
   "execution_count": 87,
   "metadata": {
    "execution": {
     "iopub.execute_input": "2020-06-09T14:39:03.433075Z",
     "iopub.status.busy": "2020-06-09T14:39:03.432884Z",
     "iopub.status.idle": "2020-06-09T14:39:03.478507Z",
     "shell.execute_reply": "2020-06-09T14:39:03.477990Z",
     "shell.execute_reply.started": "2020-06-09T14:39:03.433053Z"
    }
   },
   "outputs": [
    {
     "name": "stdout",
     "output_type": "stream",
     "text": [
      "The autoreload extension is already loaded. To reload it, use:\n",
      "  %reload_ext autoreload\n"
     ]
    }
   ],
   "source": [
    "%load_ext autoreload\n",
    "\n",
    "%autoreload 2"
   ]
  },
  {
   "cell_type": "code",
   "execution_count": 88,
   "metadata": {
    "execution": {
     "iopub.execute_input": "2020-06-09T14:39:03.480168Z",
     "iopub.status.busy": "2020-06-09T14:39:03.479870Z",
     "iopub.status.idle": "2020-06-09T14:39:05.605963Z",
     "shell.execute_reply": "2020-06-09T14:39:05.604732Z",
     "shell.execute_reply.started": "2020-06-09T14:39:03.480141Z"
    }
   },
   "outputs": [
    {
     "name": "stdout",
     "output_type": "stream",
     "text": [
      "Processing /Users/nicokreiling/dev/ds/customcode\n",
      "Building wheels for collected packages: customcode\n",
      "  Building wheel for customcode (setup.py) ... \u001b[?25ldone\n",
      "\u001b[?25h  Created wheel for customcode: filename=customcode-0.1.0-py3-none-any.whl size=3244 sha256=6867cbf09a0b8095a3c041f36082122ed56656fcf9e75b2a1ee4a0b45949f60c\n",
      "  Stored in directory: /private/var/folders/ym/_50l9__942705dh4x6gh9d9r0000gn/T/pip-ephem-wheel-cache-odmzpb3d/wheels/60/b6/dc/be7af4c05a79798ea8ee551b4404770f0b713e04a7467b569a\n",
      "Successfully built customcode\n",
      "Installing collected packages: customcode\n",
      "  Attempting uninstall: customcode\n",
      "    Found existing installation: customcode 0.1.0\n",
      "    Uninstalling customcode-0.1.0:\n",
      "      Successfully uninstalled customcode-0.1.0\n",
      "Successfully installed customcode-0.1.0\n"
     ]
    }
   ],
   "source": [
    "!pip install ../customcode"
   ]
  },
  {
   "cell_type": "code",
   "execution_count": 89,
   "metadata": {
    "execution": {
     "iopub.execute_input": "2020-06-09T14:39:05.609233Z",
     "iopub.status.busy": "2020-06-09T14:39:05.608818Z",
     "iopub.status.idle": "2020-06-09T14:39:06.336488Z",
     "shell.execute_reply": "2020-06-09T14:39:06.335734Z",
     "shell.execute_reply.started": "2020-06-09T14:39:05.609195Z"
    }
   },
   "outputs": [
    {
     "data": {
      "application/javascript": [
       "\n",
       "        if (window._pyforest_update_imports_cell) { window._pyforest_update_imports_cell('import matplotlib.pyplot as plt\\nimport seaborn as sns\\nimport sklearn'); }\n",
       "    "
      ],
      "text/plain": [
       "<IPython.core.display.Javascript object>"
      ]
     },
     "metadata": {},
     "output_type": "display_data"
    },
    {
     "name": "stdout",
     "output_type": "stream",
     "text": [
      "Acc 0.8327721661054994\n"
     ]
    },
    {
     "data": {
      "application/javascript": [
       "\n",
       "        if (window._pyforest_update_imports_cell) { window._pyforest_update_imports_cell('import matplotlib.pyplot as plt\\nimport seaborn as sns\\nimport sklearn'); }\n",
       "    "
      ],
      "text/plain": [
       "<IPython.core.display.Javascript object>"
      ]
     },
     "metadata": {},
     "output_type": "display_data"
    },
    {
     "name": "stdout",
     "output_type": "stream",
     "text": [
      "F1 0.7725190839694657\n"
     ]
    },
    {
     "data": {
      "application/javascript": [
       "\n",
       "        if (window._pyforest_update_imports_cell) { window._pyforest_update_imports_cell('import matplotlib.pyplot as plt\\nimport seaborn as sns\\nimport sklearn'); }\n",
       "    "
      ],
      "text/plain": [
       "<IPython.core.display.Javascript object>"
      ]
     },
     "metadata": {},
     "output_type": "display_data"
    },
    {
     "data": {
      "text/plain": [
       "<matplotlib.axes._subplots.AxesSubplot at 0x7fd75cebf160>"
      ]
     },
     "execution_count": 89,
     "metadata": {},
     "output_type": "execute_result"
    },
    {
     "data": {
      "image/png": "[encoded data removed]",
      "text/plain": [
       "<Figure size 1440x144 with 2 Axes>"
      ]
     },
     "metadata": {},
     "output_type": "display_data"
    }
   ],
   "source": [
    "from sklearn.pipeline import Pipeline\n",
    "from customcode.pipeline import ModelPreperation\n",
    "from sklearn.ensemble import GradientBoostingClassifier\n",
    "from sklearn.model_selection import cross_val_score, cross_val_predict\n",
    "\n",
    "np.random.seed(40)\n",
    "trainset = pd.read_csv(\"./data/titanic/train.csv\")\n",
    "X = trainset.drop(columns=label_column)\n",
    "y_true = np.ravel(trainset[[label_column]])\n",
    "\n",
    "gb_params = {'n_estimators': 200,'min_samples_split': 16,'min_samples_leaf': 16,'max_features': 5,'max_depth': 3,'learning_rate': 0.25}\n",
    "\n",
    "clf = GradientBoostingClassifier(**gb_params)\n",
    "pipe = Pipeline(steps=[(\"prepare\",ModelPreperation()), (\"clf\", clf)])\n",
    "y_pred = cross_val_predict(pipe, X, y = y_true, cv = 5, n_jobs=-1)\n",
    "\n",
    "from sklearn.metrics import confusion_matrix\n",
    "conf_mat = confusion_matrix(y_true, y_pred)\n",
    "print(\"Acc\", sklearn.metrics.accuracy_score(y_true, y_pred))\n",
    "print(\"F1\", sklearn.metrics.f1_score(y_true, y_pred))\n",
    "sns.heatmap(conf_mat/len(trainset), annot=True, cmap=\"Blues\",  fmt='g') "
   ]
  },
  {
   "cell_type": "markdown",
   "metadata": {},
   "source": [
    "# Version Control for Notebooks\n",
    "[Guter Blog-Artikel von D. Schmüdde](https://nextjournal.com/schmudde/how-to-version-control-jupyter?utm_campaign=DataScience_Digest&utm_medium=email&utm_source=Revue%20newsletter)\n",
    "\n",
    "TLDR:\n",
    " * Do you want to track cell outputs?\n",
    " * Do you need to merge notebooks (team collaboration?)\n",
    " \n",
    "Check out the stack overflow discussion: [Using IPython notebooks under version control](https://stackoverflow.com/questions/18734739/using-ipython-notebooks-under-version-control)"
   ]
  },
  {
   "cell_type": "markdown",
   "metadata": {},
   "source": [
    "## Old-Fashined Git-Hook\n",
    "\n"
   ]
  },
  {
   "cell_type": "code",
   "execution_count": 90,
   "metadata": {
    "execution": {
     "iopub.execute_input": "2020-06-09T14:39:06.337932Z",
     "iopub.status.busy": "2020-06-09T14:39:06.337615Z",
     "iopub.status.idle": "2020-06-09T14:39:06.519075Z",
     "shell.execute_reply": "2020-06-09T14:39:06.517849Z",
     "shell.execute_reply.started": "2020-06-09T14:39:06.337904Z"
    }
   },
   "outputs": [],
   "source": [
    "!mkdir -p ./.git/hooks"
   ]
  },
  {
   "cell_type": "code",
   "execution_count": 91,
   "metadata": {
    "execution": {
     "iopub.execute_input": "2020-06-09T14:39:06.521802Z",
     "iopub.status.busy": "2020-06-09T14:39:06.521229Z",
     "iopub.status.idle": "2020-06-09T14:39:06.591885Z",
     "shell.execute_reply": "2020-06-09T14:39:06.591278Z",
     "shell.execute_reply.started": "2020-06-09T14:39:06.521751Z"
    }
   },
   "outputs": [
    {
     "name": "stdout",
     "output_type": "stream",
     "text": [
      "Overwriting ./.git/hooks/pre-commit.py\n"
     ]
    }
   ],
   "source": [
    "%%writefile ./.git/hooks/pre-commit.py\n",
    "#!/usr/bin/env python\n",
    "import sys\n",
    "\n",
    "try:\n",
    "    runarg_idx = sys.argv.index('--rundir')\n",
    "    rundir = sys.argv[runarg_idx+1]\n",
    "    import os\n",
    "    os.chdir(os.path.expanduser(rundir))\n",
    "except ValueError:\n",
    "    pass\n",
    "\n",
    "version = None\n",
    "\n",
    "if sys.version[0] == '2':\n",
    "    reload(sys)\n",
    "    sys.setdefaultencoding('utf8')\n",
    "\n",
    "from jupyter_nbformat import reads, write\n",
    "\n",
    "to_parse = sys.stdin.read()\n",
    "\n",
    "if not version:\n",
    "    import json\n",
    "    json_in = json.loads(to_parse)\n",
    "    version = json_in['nbformat']\n",
    "\n",
    "json_in = reads(to_parse, version)\n",
    "\n",
    "if hasattr(json_in, 'worksheets'):\n",
    "    # IPython\n",
    "    sheets = json_in.worksheets\n",
    "else:\n",
    "    # Jupyter\n",
    "    sheets = [json_in]\n",
    "\n",
    "for sheet in sheets:\n",
    "    for cell in sheet.cells:\n",
    "        if \"outputs\" in cell:\n",
    "            cell.outputs = []\n",
    "        for field in (\"prompt_number\", \"execution_number\"):\n",
    "            if field in cell:\n",
    "                del cell[field]\n",
    "        for field in (\"execution_count\",):\n",
    "            if field in cell:\n",
    "                cell[field] = None\n",
    "\n",
    "        if \"metadata\" in cell:\n",
    "            for field in (\"collapsed\", \"scrolled\", \"ExecuteTime\"):\n",
    "                if field in cell.metadata:\n",
    "                    del cell.metadata[field]\n",
    "\n",
    "    if hasattr(sheet.metadata, \"widgets\"):\n",
    "        del sheet.metadata[\"widgets\"]\n",
    "\n",
    "    if hasattr(sheet.metadata, \"language_info\"):\n",
    "        if hasattr(sheet.metadata.language_info, \"version\"):\n",
    "            del sheet.metadata.language_info[\"version\"]\n",
    "\n",
    "if 'signature' in json_in.metadata:\n",
    "    json_in.metadata['signature'] = \"\"\n",
    "\n",
    "write(json_in, sys.stdout, version)"
   ]
  },
  {
   "cell_type": "code",
   "execution_count": 92,
   "metadata": {
    "execution": {
     "iopub.execute_input": "2020-06-09T14:39:06.593626Z",
     "iopub.status.busy": "2020-06-09T14:39:06.593281Z",
     "iopub.status.idle": "2020-06-09T14:39:06.794937Z",
     "shell.execute_reply": "2020-06-09T14:39:06.793813Z",
     "shell.execute_reply.started": "2020-06-09T14:39:06.593601Z"
    }
   },
   "outputs": [],
   "source": [
    "!chmod +x ./.git/hooks/pre-commit.py"
   ]
  },
  {
   "cell_type": "code",
   "execution_count": 93,
   "metadata": {
    "execution": {
     "iopub.execute_input": "2020-06-09T14:39:06.797641Z",
     "iopub.status.busy": "2020-06-09T14:39:06.797158Z",
     "iopub.status.idle": "2020-06-09T14:39:06.869507Z",
     "shell.execute_reply": "2020-06-09T14:39:06.868520Z",
     "shell.execute_reply.started": "2020-06-09T14:39:06.797601Z"
    }
   },
   "outputs": [
    {
     "name": "stdout",
     "output_type": "stream",
     "text": [
      "Overwriting .gitattributes\n"
     ]
    }
   ],
   "source": [
    "%%writefile .gitattributes\n",
    "*.ipynb    filter=dropoutput_ipynb"
   ]
  },
  {
   "cell_type": "code",
   "execution_count": 94,
   "metadata": {
    "execution": {
     "iopub.execute_input": "2020-06-09T14:39:06.877218Z",
     "iopub.status.busy": "2020-06-09T14:39:06.876953Z",
     "iopub.status.idle": "2020-06-09T14:39:06.956911Z",
     "shell.execute_reply": "2020-06-09T14:39:06.955806Z",
     "shell.execute_reply.started": "2020-06-09T14:39:06.877198Z"
    }
   },
   "outputs": [],
   "source": [
    "%%bash\n",
    "git config --local core.attributesfile .gitattributes\n",
    "git config --local filter.dropoutput_ipynb.clean ./.git/hooks/pre-commit.py\n",
    "git config --local filter.dropoutput_ipynb.smudge cat"
   ]
  },
  {
   "cell_type": "markdown",
   "metadata": {},
   "source": [
    "## Notebook-Binding mit Jupytext"
   ]
  },
  {
   "cell_type": "code",
   "execution_count": 95,
   "metadata": {
    "execution": {
     "iopub.execute_input": "2020-06-09T14:39:06.963006Z",
     "iopub.status.busy": "2020-06-09T14:39:06.962542Z",
     "iopub.status.idle": "2020-06-09T14:39:07.923436Z",
     "shell.execute_reply": "2020-06-09T14:39:07.922788Z",
     "shell.execute_reply.started": "2020-06-09T14:39:06.962968Z"
    }
   },
   "outputs": [
    {
     "name": "stdout",
     "output_type": "stream",
     "text": [
      "[jupytext] Reading M3_Online.ipynb\n",
      "[jupytext] Writing M3_Online.py in format py:percent (destination file replaced)\n"
     ]
    }
   ],
   "source": [
    "!jupytext M3_Online.ipynb --to py:percent"
   ]
  },
  {
   "cell_type": "markdown",
   "metadata": {},
   "source": [
    "Bind to "
   ]
  },
  {
   "cell_type": "markdown",
   "metadata": {},
   "source": [
    "## Auswahl der richtigen Versionskontroll Strategie"
   ]
  },
  {
   "cell_type": "markdown",
   "metadata": {
    "execution": {
     "iopub.execute_input": "2020-06-09T14:12:49.761319Z",
     "iopub.status.busy": "2020-06-09T14:12:49.761091Z",
     "iopub.status.idle": "2020-06-09T14:12:49.936426Z",
     "shell.execute_reply": "2020-06-09T14:12:49.935579Z",
     "shell.execute_reply.started": "2020-06-09T14:12:49.761294Z"
    }
   },
   "source": [
    "![Tool Auswahl](img/versionskontroll-diagramm.png)"
   ]
  },
  {
   "cell_type": "markdown",
   "metadata": {},
   "source": [
    "## Other\n",
    "\n",
    "### Presenting Results\n",
    "\n",
    "Notebook representation as interactive reveal.js slides. Every cell can be assigned to a Slide, Sub-Slide oder Fragment definiert werden.\n",
    "\n",
    "### Binder\n",
    "\n",
    "* Interaktives Bereitstellen von Notebooks via Github Repo\n",
    "* Inklusive Abhängigkeiten und Erweiterungen\n",
    "* [Integration via Github](https://github.com/krlng/d2d-jupyterlab)\n",
    "\n",
    "## Summary?\n",
    "\n",
    "* Die neue Oberfläche ist toll\n",
    "* Plugin-System verbreitet sich sehr schnell\n",
    "* Integration mit IDEs inzwischen möglich\n",
    "* Unsterstützung für alle möglichen Datentypen- und Plottingslibraries\n",
    "\n",
    "### Links zu noch mehr Links\n",
    "\n",
    "- [Awesome Jupyter](https://github.com/adebar/awesome-jupyter) - Curated List of nice Jupyter things\n",
    "- [Beyond Interactive: Notebook Innovation at Netflix](https://medium.com/netflix-techblog/notebook-innovation-591ee3221233)\n",
    "- [Interesting Jupyter Notebooks](https://github.com/jupyter/jupyter/wiki/a-gallery-of-interesting-jupyter-notebooks)"
   ]
  },
  {
   "cell_type": "code",
   "execution_count": null,
   "metadata": {},
   "outputs": [],
   "source": []
  }
 ],
 "metadata": {
  "jupytext": {
   "encoding": "# -*- coding: utf-8 -*-",
   "formats": "ipynb,py:percent"
  },
  "kernelspec": {
   "display_name": "Python [conda env:ds]",
   "language": "python",
   "name": "conda-env-ds-py"
  },
  "language_info": {
   "codemirror_mode": {
    "name": "ipython",
    "version": 3
   },
   "file_extension": ".py",
   "mimetype": "text/x-python",
   "name": "python",
   "nbconvert_exporter": "python",
   "pygments_lexer": "ipython3",
   "version": "3.8.2"
  },
  "toc-autonumbering": true
 },
 "nbformat": 4,
 "nbformat_minor": 4
}
