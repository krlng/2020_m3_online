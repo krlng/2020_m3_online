{
 "cells": [
  {
   "cell_type": "markdown",
   "metadata": {
    "execution": {
     "iopub.execute_input": "2020-06-08T12:53:34.113437Z",
     "iopub.status.busy": "2020-06-08T12:53:34.113179Z",
     "iopub.status.idle": "2020-06-08T12:53:34.276099Z",
     "shell.execute_reply": "2020-06-08T12:53:34.275063Z",
     "shell.execute_reply.started": "2020-06-08T12:53:34.113410Z"
    },
    "slideshow": {
     "slide_type": "slide"
    }
   },
   "source": [
    "<div style=\"display: inline-block; float:left; width: 50%\">\n",
    "<img src=\"img/nico_kreiling.jpg\" width=\"300px\"/>\n",
    "</div>\n",
    "<div style=\"float: left; width: 50%\">\n",
    "    <h2>Nico Kreiling</h2>\n",
    "    <div>\n",
    "        \n",
    "* Data Scientist @ [Scieneers](https://www.scieneers.de/)\n",
    "* Tech-Podcast für Entwickler: [Techtiefen](https://techtiefen.de/)\n",
    "* Notebook auf [https://github.com/krlng/2020_m3_online](https://github.com/krlng/2020_m3_online)\n",
    "* Weitere Vorträge [https://github.com/krlng/techtalks](https://github.com/krlng/techtalks)  \n",
    "* Twitter: [@nicokreiling](https://twitter.com/nicokreiling)\n",
    "        \n",
    "    </div>\n",
    "</div>"
   ]
  },
  {
   "cell_type": "markdown",
   "metadata": {
    "execution": {
     "iopub.execute_input": "2020-06-08T12:53:57.197814Z",
     "iopub.status.busy": "2020-06-08T12:53:57.197546Z",
     "iopub.status.idle": "2020-06-08T12:53:57.246285Z",
     "shell.execute_reply": "2020-06-08T12:53:57.245331Z",
     "shell.execute_reply.started": "2020-06-08T12:53:57.197786Z"
    },
    "slideshow": {
     "slide_type": "slide"
    }
   },
   "source": [
    "<div style=\"display: inline-block; float:left; width: 50%\">\n",
    "<img src=\"img/jupyter-logo.png\" width=\"300px\"/>\n",
    "</div>\n",
    "<div style=\"float: left; width: 50%\">\n",
    "    <h1>PROFESSIONELLES ARBEITEN MIT JUPTYER NOTEBOOKS</h1>\n",
    "    <div><br>\n",
    "    <p><cite>\"Finally a tool where I can do all my work. And yes, I have worked with Emacs.\"</cite> - <a href=\"https://medium.com/@boyanangelov/is-this-the-best-data-science-ide-jupyter-lab-review-fdd165470f13\">Boyan Angelov, Data Scientist @mindmatch.ai</a></p>\n",
    "    <p><cite>\"I’m extremely excited the potential of JupyterLab. I have a high level of confidence in the team who is making this possible\"</cite> - <a href=\"https://medium.com/@brianray_7981/jupyterlab-first-impressions-e6d70d8a175d\">Brian Ray</a></p>\n",
    "        </div>\n",
    "</div>"
   ]
  },
  {
   "cell_type": "markdown",
   "metadata": {
    "slideshow": {
     "slide_type": "subslide"
    }
   },
   "source": [
    "## Vorteile\n",
    "\n",
    "<p><cite>\"Finally a tool where I can do all my work. And yes, I have worked with Emacs.\"</cite> - <a href=\"https://medium.com/@boyanangelov/is-this-the-best-data-science-ide-jupyter-lab-review-fdd165470f13\">Boyan Angelov, Data Scientist @mindmatch.ai</a></p>\n",
    "    \n",
    "* Einsteigerfreundlich (Mächtigere REPL, Integration von Markdown + Code)\n",
    "* Interaktiv (Inline Plots, Widgets)"
   ]
  },
  {
   "cell_type": "markdown",
   "metadata": {
    "slideshow": {
     "slide_type": "subslide"
    }
   },
   "source": [
    "## Probleme\n",
    "\n",
    "<p><cite>\"I don't like Notebooks.\"</cite> - <a href=\"https://docs.google.com/presentation/d/1n2RlMdmv1p25Xy5thJUhkKGvjtV-dkAIsUXP-AL4ffI/edit#slide=id.g362da58057_0_14\">Joel Grus, Allen Institute for AI</a>\n",
    "</p>"
   ]
  },
  {
   "cell_type": "markdown",
   "metadata": {
    "slideshow": {
     "slide_type": "fragment"
    }
   },
   "source": [
    "* Hidden State (Ausführungsreihenfolge, Source Code != Output)\n",
    "* Fördert schlechte Code-Qualität (schwierige Versionierung)\n",
    "* Less Powerfull IDE"
   ]
  },
  {
   "cell_type": "code",
   "execution_count": 1,
   "metadata": {
    "execution": {
     "iopub.execute_input": "2020-06-08T14:15:23.421622Z",
     "iopub.status.busy": "2020-06-08T14:15:23.421418Z",
     "iopub.status.idle": "2020-06-08T14:15:23.433169Z",
     "shell.execute_reply": "2020-06-08T14:15:23.431987Z",
     "shell.execute_reply.started": "2020-06-08T14:15:23.421600Z"
    },
    "jupyter": {
     "source_hidden": true
    },
    "slideshow": {
     "slide_type": "fragment"
    }
   },
   "outputs": [
    {
     "data": {
      "text/html": [
       "\n",
       "        <iframe\n",
       "            width=\"560\"\n",
       "            height=\"315\"\n",
       "            src=\"https://www.youtube.com/embed/7jiPeIFXb6U\"\n",
       "            frameborder=\"0\"\n",
       "            allowfullscreen\n",
       "        ></iframe>\n",
       "        "
      ],
      "text/plain": [
       "<IPython.lib.display.IFrame at 0x7fc7b800ed30>"
      ]
     },
     "execution_count": 1,
     "metadata": {},
     "output_type": "execute_result"
    }
   ],
   "source": [
    "from IPython.display import IFrame\n",
    "# Youtube\n",
    "IFrame(width=\"560\",height=\"315\",src=\"https://www.youtube.com/embed/7jiPeIFXb6U\")"
   ]
  },
  {
   "cell_type": "markdown",
   "metadata": {
    "slideshow": {
     "slide_type": "slide"
    }
   },
   "source": [
    "# Notebook Pitfalls"
   ]
  },
  {
   "cell_type": "markdown",
   "metadata": {
    "execution": {
     "iopub.execute_input": "2020-06-08T07:47:44.099849Z",
     "iopub.status.busy": "2020-06-08T07:47:44.099579Z",
     "iopub.status.idle": "2020-06-08T07:47:44.105676Z",
     "shell.execute_reply": "2020-06-08T07:47:44.104201Z",
     "shell.execute_reply.started": "2020-06-08T07:47:44.099821Z"
    },
    "slideshow": {
     "slide_type": "subslide"
    }
   },
   "source": [
    "## Clean Code for Notebooks\n",
    "\n",
    "* Structure your Notebook with headings\n",
    "* Variable Names:\n",
    "    * nouns are objects, verbs are functions\n",
    "    * good names give a clear intuition\n",
    "    * The bigger the scope, the more explicit the name\n",
    "* Use type annotations and default values\n",
    "* Use \"Restart Kernel and Run All Cells\" extensively\n",
    "    \n",
    "More in my [podcast on clean code](https://techtiefen.de/dev-basics-clean-code/)"
   ]
  },
  {
   "cell_type": "markdown",
   "metadata": {
    "execution": {
     "iopub.execute_input": "2020-06-08T07:34:11.673415Z",
     "iopub.status.busy": "2020-06-08T07:34:11.673159Z",
     "iopub.status.idle": "2020-06-08T07:34:11.677534Z",
     "shell.execute_reply": "2020-06-08T07:34:11.676580Z",
     "shell.execute_reply.started": "2020-06-08T07:34:11.673387Z"
    },
    "slideshow": {
     "slide_type": "slide"
    }
   },
   "source": [
    "## Imports"
   ]
  },
  {
   "cell_type": "code",
   "execution_count": 2,
   "metadata": {
    "execution": {
     "iopub.execute_input": "2020-06-08T14:15:23.437958Z",
     "iopub.status.busy": "2020-06-08T14:15:23.436293Z",
     "iopub.status.idle": "2020-06-08T14:15:25.387581Z",
     "shell.execute_reply": "2020-06-08T14:15:25.386880Z",
     "shell.execute_reply.started": "2020-06-08T14:15:23.437900Z"
    },
    "slideshow": {
     "slide_type": "fragment"
    }
   },
   "outputs": [
    {
     "data": {
      "application/javascript": [
       "\n",
       "        if (window._pyforest_update_imports_cell) { window._pyforest_update_imports_cell('import matplotlib.pyplot as plt'); }\n",
       "    "
      ],
      "text/plain": [
       "<IPython.core.display.Javascript object>"
      ]
     },
     "metadata": {},
     "output_type": "display_data"
    },
    {
     "data": {
      "text/html": [
       "        <script type=\"text/javascript\">\n",
       "        window.PlotlyConfig = {MathJaxConfig: 'local'};\n",
       "        if (window.MathJax) {MathJax.Hub.Config({SVG: {font: \"STIX-Web\"}});}\n",
       "        if (typeof require !== 'undefined') {\n",
       "        require.undef(\"plotly\");\n",
       "        requirejs.config({\n",
       "            paths: {\n",
       "                'plotly': ['https://cdn.plot.ly/plotly-latest.min']\n",
       "            }\n",
       "        });\n",
       "        require(['plotly'], function(Plotly) {\n",
       "            window._Plotly = Plotly;\n",
       "        });\n",
       "        }\n",
       "        </script>\n",
       "        "
      ]
     },
     "metadata": {},
     "output_type": "display_data"
    }
   ],
   "source": [
    "%run ./helpers.ipynb"
   ]
  },
  {
   "cell_type": "code",
   "execution_count": 3,
   "metadata": {
    "execution": {
     "iopub.execute_input": "2020-06-08T14:15:25.390628Z",
     "iopub.status.busy": "2020-06-08T14:15:25.390364Z",
     "iopub.status.idle": "2020-06-08T14:15:25.393958Z",
     "shell.execute_reply": "2020-06-08T14:15:25.393205Z",
     "shell.execute_reply.started": "2020-06-08T14:15:25.390601Z"
    },
    "slideshow": {
     "slide_type": "fragment"
    }
   },
   "outputs": [],
   "source": [
    "import pyforest"
   ]
  },
  {
   "cell_type": "markdown",
   "metadata": {
    "slideshow": {
     "slide_type": "slide"
    }
   },
   "source": [
    "## Tastatur-Kürzel"
   ]
  },
  {
   "cell_type": "markdown",
   "metadata": {
    "slideshow": {
     "slide_type": "subslide"
    }
   },
   "source": [
    "### Standard-Tastaturbefehle\n",
    "\n",
    "Command  | Shortcut\n",
    "------------- | -------------\n",
    "Command Palette |`Accel Shift C`\n",
    "File Explorer |`Accel Shift F`\n",
    "Toggle Bar |`Accel B`\n",
    "Fullscreen Mode |`Accel Shift D`\n",
    "Close Tab |`Ctrl Q`\n",
    "Launcher |`Accel Shift L`"
   ]
  },
  {
   "cell_type": "markdown",
   "metadata": {
    "slideshow": {
     "slide_type": "subslide"
    }
   },
   "source": [
    "### Eigene Tatstenkürzel\n",
    "\n",
    "Settings > Keyboard Shortcuts\n",
    "```\n",
    "{\n",
    "    \"notebook:move-cell-up\": {\n",
    "      \"command\": \"notebook:move-cell-up\",\n",
    "      \"keys\": [\n",
    "        \"Accel Alt ArrowUp\"\n",
    "      ],\n",
    "      \"selector\": \"body\"\n",
    "    },\n",
    "    \"notebook:move-cell-down\": {\n",
    "      \"command\": \"notebook:move-cell-down\",\n",
    "      \"keys\": [\n",
    "        \"Accel Alt ArrowDown\"\n",
    "      ],\n",
    "      \"selector\": \"body\"\n",
    "    }        \n",
    "}\n",
    "```"
   ]
  },
  {
   "cell_type": "markdown",
   "metadata": {
    "slideshow": {
     "slide_type": "subslide"
    }
   },
   "source": [
    "## Geheime Perlen\n",
    "\n",
    "* Copy&Paste, Drag&Drop\n",
    "* recordTiming\n",
    "* Access previous output\n",
    "* Cell-Tags\n",
    "* Slides\n",
    "* Extension Manager"
   ]
  },
  {
   "cell_type": "markdown",
   "metadata": {
    "slideshow": {
     "slide_type": "subslide"
    }
   },
   "source": [
    "## Meine Plugin-Empfehlungen\n",
    "\n",
    "* [Table of Contents](https://github.com/jupyterlab/jupyterlab-toc)\n",
    "* Key Bindings\n",
    "    * [Vim Bindings](https://github.com/jwkvam/jupyterlab-vim)\n",
    "    * [Sublime Bindings](https://github.com/jwkvam/jupyterlab-vim)\n",
    "* Dashboard\n",
    "    * [Tensorboard](https://github.com/chaoleili/jupyterlab_tensorboard)\n",
    "* Erweiterte Datentypen\n",
    "    * [HTML Files](https://github.com/mflevine/jupyterlab_html)\n",
    "    * [Drawio](https://github.com/QuantStack/jupyterlab-drawio)\n",
    "    * [Geo-Suppoert](https://github.com/jupyterlab/jupyter-renderers)\n",
    "* Sonstiges: \n",
    "    * [RISE](https://github.com/lsst-sqre/RISE/tree/jupyterlab_extension/jupyterlab/jupyterlab_rise)\n",
    "    \n",
    "Viele mehr: [Awesome JupyterLab](https://github.com/mauhai/awesome-jupyterlab) - Curated List of JupyterLab Extensions"
   ]
  },
  {
   "cell_type": "markdown",
   "metadata": {},
   "source": [
    "## Exploration Tools\n",
    "* [pyforest](https://github.com/8080labs/pyforest)\n",
    "* [Pandas Profiling](https://github.com/pandas-profiling/pandas-profiling)\n",
    "* [Predictive Power Score](https://github.com/8080labs/ppscore)\n",
    "* [Yellowbricks](https://www.scikit-yb.org/en/latest/index.html)"
   ]
  },
  {
   "cell_type": "markdown",
   "metadata": {},
   "source": [
    "# Beispiel-Projekt\n",
    "\n",
    "## Survive on the Titanic\n",
    "\n",
    "\n",
    "The titanic.csv file contains data for s. Each row represents one person. The columns describe different attributes about the person including whether they survived (S), their age (A), their passenger-class (C), their sex (G) and the fare they paid (X).\n",
    "\n",
    "* Binary Classification\n",
    "* 887 of the real Titanic passenger\n",
    "* Easily understandable features\n",
    "* numerical, categorical and text features"
   ]
  },
  {
   "cell_type": "code",
   "execution_count": 4,
   "metadata": {
    "execution": {
     "iopub.execute_input": "2020-06-08T14:15:25.395823Z",
     "iopub.status.busy": "2020-06-08T14:15:25.395611Z",
     "iopub.status.idle": "2020-06-08T14:15:25.400559Z",
     "shell.execute_reply": "2020-06-08T14:15:25.399906Z",
     "shell.execute_reply.started": "2020-06-08T14:15:25.395800Z"
    },
    "jupyter": {
     "source_hidden": true
    }
   },
   "outputs": [
    {
     "data": {
      "text/html": [
       "\n",
       "        <iframe\n",
       "            width=\"560\"\n",
       "            height=\"315\"\n",
       "            src=\"https://www.youtube.com/embed/ItjXTieWKyI\"\n",
       "            frameborder=\"0\"\n",
       "            allowfullscreen\n",
       "        ></iframe>\n",
       "        "
      ],
      "text/plain": [
       "<IPython.lib.display.IFrame at 0x7fc7b8627250>"
      ]
     },
     "execution_count": 4,
     "metadata": {},
     "output_type": "execute_result"
    }
   ],
   "source": [
    "from IPython.display import IFrame\n",
    "# Youtube\n",
    "IFrame(src=\"https://www.youtube.com/embed/ItjXTieWKyI\", width=\"560\", height=\"315\")"
   ]
  },
  {
   "cell_type": "markdown",
   "metadata": {},
   "source": [
    "## Explore data"
   ]
  },
  {
   "cell_type": "code",
   "execution_count": 5,
   "metadata": {
    "execution": {
     "iopub.execute_input": "2020-06-08T14:15:25.402214Z",
     "iopub.status.busy": "2020-06-08T14:15:25.401728Z",
     "iopub.status.idle": "2020-06-08T14:15:25.414260Z",
     "shell.execute_reply": "2020-06-08T14:15:25.413710Z",
     "shell.execute_reply.started": "2020-06-08T14:15:25.402174Z"
    }
   },
   "outputs": [],
   "source": [
    "trainset = pd.read_csv(\"./data/titanic/train.csv\")\n",
    "testset  = pd.read_csv(\"./data/titanic/test.csv\")\n",
    "label_column = \"Survived\""
   ]
  },
  {
   "cell_type": "code",
   "execution_count": 6,
   "metadata": {
    "execution": {
     "iopub.execute_input": "2020-06-08T14:15:25.415816Z",
     "iopub.status.busy": "2020-06-08T14:15:25.415416Z",
     "iopub.status.idle": "2020-06-08T14:15:25.425358Z",
     "shell.execute_reply": "2020-06-08T14:15:25.424384Z",
     "shell.execute_reply.started": "2020-06-08T14:15:25.415779Z"
    }
   },
   "outputs": [
    {
     "name": "stdout",
     "output_type": "stream",
     "text": [
      "<class 'pandas.core.frame.DataFrame'>\n",
      "RangeIndex: 891 entries, 0 to 890\n",
      "Data columns (total 12 columns):\n",
      " #   Column       Non-Null Count  Dtype  \n",
      "---  ------       --------------  -----  \n",
      " 0   PassengerId  891 non-null    int64  \n",
      " 1   Survived     891 non-null    int64  \n",
      " 2   Pclass       891 non-null    int64  \n",
      " 3   Name         891 non-null    object \n",
      " 4   Sex          891 non-null    object \n",
      " 5   Age          714 non-null    float64\n",
      " 6   SibSp        891 non-null    int64  \n",
      " 7   Parch        891 non-null    int64  \n",
      " 8   Ticket       891 non-null    object \n",
      " 9   Fare         891 non-null    float64\n",
      " 10  Cabin        204 non-null    object \n",
      " 11  Embarked     889 non-null    object \n",
      "dtypes: float64(2), int64(5), object(5)\n",
      "memory usage: 83.7+ KB\n"
     ]
    }
   ],
   "source": [
    "trainset.info()"
   ]
  },
  {
   "cell_type": "code",
   "execution_count": 7,
   "metadata": {
    "execution": {
     "iopub.execute_input": "2020-06-08T14:15:25.427410Z",
     "iopub.status.busy": "2020-06-08T14:15:25.426969Z",
     "iopub.status.idle": "2020-06-08T14:15:26.401389Z",
     "shell.execute_reply": "2020-06-08T14:15:26.400658Z",
     "shell.execute_reply.started": "2020-06-08T14:15:25.427364Z"
    }
   },
   "outputs": [
    {
     "data": {
      "text/plain": [
       "GridSpec(6, 6)"
      ]
     },
     "execution_count": 7,
     "metadata": {},
     "output_type": "execute_result"
    },
    {
     "data": {
      "image/png": "[encoded data removed]",
      "text/plain": [
       "<Figure size 864x864 with 4 Axes>"
      ]
     },
     "metadata": {},
     "output_type": "display_data"
    }
   ],
   "source": [
    "klib.missingval_plot(trainset)"
   ]
  },
  {
   "cell_type": "code",
   "execution_count": 8,
   "metadata": {
    "execution": {
     "iopub.execute_input": "2020-06-08T14:15:26.404628Z",
     "iopub.status.busy": "2020-06-08T14:15:26.404456Z",
     "iopub.status.idle": "2020-06-08T14:15:55.874054Z",
     "shell.execute_reply": "2020-06-08T14:15:55.873302Z",
     "shell.execute_reply.started": "2020-06-08T14:15:26.404610Z"
    }
   },
   "outputs": [
    {
     "data": {
      "application/vnd.jupyter.widget-view+json": {
       "model_id": "3aa8d0348be143ef973a1afa337f1f18",
       "version_major": 2,
       "version_minor": 0
      },
      "text/plain": [
       "HBox(children=(FloatProgress(value=0.0, description='Summarize dataset', max=26.0, style=ProgressStyle(descrip…"
      ]
     },
     "metadata": {},
     "output_type": "display_data"
    },
    {
     "name": "stdout",
     "output_type": "stream",
     "text": [
      "\n"
     ]
    },
    {
     "data": {
      "application/vnd.jupyter.widget-view+json": {
       "model_id": "02710255c521447682a806d05a50f84f",
       "version_major": 2,
       "version_minor": 0
      },
      "text/plain": [
       "HBox(children=(FloatProgress(value=0.0, description='Generate report structure', max=1.0, style=ProgressStyle(…"
      ]
     },
     "metadata": {},
     "output_type": "display_data"
    },
    {
     "name": "stdout",
     "output_type": "stream",
     "text": [
      "\n"
     ]
    },
    {
     "data": {
      "application/vnd.jupyter.widget-view+json": {
       "model_id": "",
       "version_major": 2,
       "version_minor": 0
      },
      "text/plain": [
       "HBox(children=(FloatProgress(value=0.0, description='Render widgets', max=1.0, style=ProgressStyle(description…"
      ]
     },
     "metadata": {},
     "output_type": "display_data"
    },
    {
     "data": {
      "application/vnd.jupyter.widget-view+json": {
       "model_id": "4d329ba90f904d67a83f114dfbb88bdb",
       "version_major": 2,
       "version_minor": 0
      },
      "text/plain": [
       "VBox(children=(Tab(children=(Tab(children=(GridBox(children=(VBox(children=(GridspecLayout(children=(HTML(valu…"
      ]
     },
     "metadata": {},
     "output_type": "display_data"
    }
   ],
   "source": [
    "profile = pandas_profiling.ProfileReport(trainset, title='Pandas Profiling Report', explorative=True )\n",
    "profile.to_widgets()"
   ]
  },
  {
   "cell_type": "code",
   "execution_count": 9,
   "metadata": {
    "execution": {
     "iopub.execute_input": "2020-06-08T14:15:55.876649Z",
     "iopub.status.busy": "2020-06-08T14:15:55.876427Z",
     "iopub.status.idle": "2020-06-08T14:15:56.199724Z",
     "shell.execute_reply": "2020-06-08T14:15:56.198871Z",
     "shell.execute_reply.started": "2020-06-08T14:15:55.876629Z"
    }
   },
   "outputs": [
    {
     "name": "stderr",
     "output_type": "stream",
     "text": [
      "/Users/nicokreiling/opt/anaconda3/envs/ds/lib/python3.8/site-packages/sklearn/utils/deprecation.py:143: FutureWarning:\n",
      "\n",
      "The sklearn.metrics.classification module is  deprecated in version 0.22 and will be removed in version 0.24. The corresponding classes / functions should instead be imported from sklearn.metrics. Anything that cannot be imported from sklearn.metrics is now part of the private API.\n",
      "\n"
     ]
    },
    {
     "data": {
      "image/png": "[encoded data removed]",
      "text/plain": [
       "<Figure size 576x396 with 2 Axes>"
      ]
     },
     "metadata": {},
     "output_type": "display_data"
    },
    {
     "data": {
      "text/plain": [
       "<matplotlib.axes._subplots.AxesSubplot at 0x7fc7ade3a5b0>"
      ]
     },
     "execution_count": 9,
     "metadata": {},
     "output_type": "execute_result"
    }
   ],
   "source": [
    "from yellowbrick.features import Rank2D\n",
    "\n",
    "visualizer = Rank2D(algorithm=\"pearson\")\n",
    "visualizer.fit_transform(trainset.select_dtypes(np.number).values)\n",
    "visualizer.show()"
   ]
  },
  {
   "cell_type": "code",
   "execution_count": 10,
   "metadata": {
    "execution": {
     "iopub.execute_input": "2020-06-08T14:15:56.200967Z",
     "iopub.status.busy": "2020-06-08T14:15:56.200770Z",
     "iopub.status.idle": "2020-06-08T14:15:58.817138Z",
     "shell.execute_reply": "2020-06-08T14:15:58.816057Z",
     "shell.execute_reply.started": "2020-06-08T14:15:56.200941Z"
    }
   },
   "outputs": [
    {
     "data": {
      "application/javascript": [
       "\n",
       "        if (window._pyforest_update_imports_cell) { window._pyforest_update_imports_cell('import matplotlib.pyplot as plt\\nimport seaborn as sns'); }\n",
       "    "
      ],
      "text/plain": [
       "<IPython.core.display.Javascript object>"
      ]
     },
     "metadata": {},
     "output_type": "display_data"
    },
    {
     "data": {
      "text/plain": [
       "<matplotlib.axes._subplots.AxesSubplot at 0x7fc7ae090640>"
      ]
     },
     "execution_count": 10,
     "metadata": {},
     "output_type": "execute_result"
    },
    {
     "data": {
      "image/png": "[encoded data removed]",
      "text/plain": [
       "<Figure size 1440x144 with 2 Axes>"
      ]
     },
     "metadata": {},
     "output_type": "display_data"
    }
   ],
   "source": [
    "%%capture --no-display\n",
    "\n",
    "figsize(20,2)\n",
    "df = ppscore.matrix(trainset)\n",
    "df = df[label_column].drop(labels=label_column).sort_values(ascending=False).to_frame().transpose()\n",
    "sns.heatmap(df, vmin=0, vmax=1, cmap=\"Blues\", annot=True, )"
   ]
  },
  {
   "cell_type": "code",
   "execution_count": 11,
   "metadata": {
    "execution": {
     "iopub.execute_input": "2020-06-08T14:15:58.818322Z",
     "iopub.status.busy": "2020-06-08T14:15:58.818133Z",
     "iopub.status.idle": "2020-06-08T14:15:59.954108Z",
     "shell.execute_reply": "2020-06-08T14:15:59.953563Z",
     "shell.execute_reply.started": "2020-06-08T14:15:58.818302Z"
    }
   },
   "outputs": [
    {
     "data": {
      "text/plain": [
       "GridSpec(6, 5)"
      ]
     },
     "execution_count": 11,
     "metadata": {},
     "output_type": "execute_result"
    },
    {
     "data": {
      "image/png": "[encoded data removed]",
      "text/plain": [
       "<Figure size 1008x1008 with 11 Axes>"
      ]
     },
     "metadata": {},
     "output_type": "display_data"
    }
   ],
   "source": [
    "klib.cat_plot(trainset)"
   ]
  },
  {
   "cell_type": "markdown",
   "metadata": {},
   "source": [
    "# Developing Productive Code"
   ]
  },
  {
   "cell_type": "markdown",
   "metadata": {
    "execution": {
     "iopub.execute_input": "2020-06-08T13:31:04.959738Z",
     "iopub.status.busy": "2020-06-08T13:31:04.959429Z",
     "iopub.status.idle": "2020-06-08T13:31:04.965278Z",
     "shell.execute_reply": "2020-06-08T13:31:04.964134Z",
     "shell.execute_reply.started": "2020-06-08T13:31:04.959707Z"
    }
   },
   "source": [
    "## Using Conda Environments\n",
    "\n",
    "Create a dedicated environment for jupyter lab (here jupyter):\n",
    "\n",
    "```\n",
    "conda install -n jupyter nb_conda_kernels\n",
    "````\n",
    "\n",
    "In every other environment you want to access through jupyter lab you need to install:\n",
    "\n",
    "```\n",
    "conda install -n python_env ipykernel\n",
    "```"
   ]
  },
  {
   "cell_type": "markdown",
   "metadata": {},
   "source": [
    "## Writing custom packages"
   ]
  },
  {
   "cell_type": "code",
   "execution_count": 12,
   "metadata": {
    "execution": {
     "iopub.execute_input": "2020-06-08T14:15:59.955544Z",
     "iopub.status.busy": "2020-06-08T14:15:59.955302Z",
     "iopub.status.idle": "2020-06-08T14:15:59.961756Z",
     "shell.execute_reply": "2020-06-08T14:15:59.961038Z",
     "shell.execute_reply.started": "2020-06-08T14:15:59.955459Z"
    }
   },
   "outputs": [
    {
     "name": "stdout",
     "output_type": "stream",
     "text": [
      "Overwriting package.config\n"
     ]
    }
   ],
   "source": [
    "%%writefile package.config\n",
    "\n",
    "author_name: \"Nico Kreiling\"\n",
    "author_email: nico.kreiling@gmail.com\n",
    "package_name: customcode\n",
    "package_version: 0.1.0\n",
    "package_description: \"An opinionated, minimal cookiecutter template for Python packages\"\n",
    "package_url: https://github.com/krlng/cookiecutter-minimal-pypackage"
   ]
  },
  {
   "cell_type": "code",
   "execution_count": 13,
   "metadata": {
    "execution": {
     "iopub.execute_input": "2020-06-08T14:15:59.962917Z",
     "iopub.status.busy": "2020-06-08T14:15:59.962660Z",
     "iopub.status.idle": "2020-06-08T14:16:00.844309Z",
     "shell.execute_reply": "2020-06-08T14:16:00.843702Z",
     "shell.execute_reply.started": "2020-06-08T14:15:59.962897Z"
    }
   },
   "outputs": [
    {
     "name": "stdout",
     "output_type": "stream",
     "text": [
      "\u001b[31mERROR: ./customcode is not a valid editable requirement. It should either be a path to a local project or a VCS URL (beginning with svn+, git+, hg+, or bzr+).\u001b[0m\n"
     ]
    }
   ],
   "source": [
    "!pip install -e ./customcode"
   ]
  },
  {
   "cell_type": "code",
   "execution_count": 15,
   "metadata": {
    "execution": {
     "iopub.execute_input": "2020-06-08T14:16:24.266569Z",
     "iopub.status.busy": "2020-06-08T14:16:24.266299Z",
     "iopub.status.idle": "2020-06-08T14:16:24.272829Z",
     "shell.execute_reply": "2020-06-08T14:16:24.271826Z",
     "shell.execute_reply.started": "2020-06-08T14:16:24.266540Z"
    }
   },
   "outputs": [
    {
     "name": "stdout",
     "output_type": "stream",
     "text": [
      "Overwriting ../customcode/customcode/pipeline.py\n"
     ]
    }
   ],
   "source": [
    "%%writefile ../customcode/customcode/pipeline.py\n",
    "\n",
    "from sklearn.base import TransformerMixin\n",
    "from sklearn.impute import SimpleImputer\n",
    "from sklearn.pipeline import Pipeline \n",
    "from sklearn.preprocessing import LabelEncoder, OneHotEncoder\n",
    "from sklearn.preprocessing import label_binarize\n",
    "import pandas as pd\n",
    "\n",
    "def get_title(names):\n",
    "    titles = names.str.extract(r' ([A-Za-z]+)\\.', expand=False)\n",
    "    titles = titles.replace(['Lady', 'Countess','Capt', 'Col','Don', 'Dr', 'Major', 'Rev', 'Sir', 'Jonkheer', 'Dona'],'Rare')\n",
    "    titles = titles.replace('Mlle','Miss')\n",
    "    titles = titles.replace('Ms','Miss')\n",
    "    titles = titles.replace('Mme','Mrs')\n",
    "    return titles\n",
    "\n",
    "class ModelPreperation(TransformerMixin):\n",
    "    #Class Constructor \n",
    "    def __init__( self ):\n",
    "        self.title_encoder = LabelEncoder()\n",
    "        pass\n",
    "     \n",
    "    def fit( self, X, y=None):\n",
    "        self.default_age = X.Age.median()\n",
    "        self.default_price = X.Fare.mean()\n",
    "        self.default_harbor = X.Embarked.mode()[0]\n",
    "        self.embarked_categories = list(X.Embarked.dropna().unique())\n",
    "        self.title_encoder.fit(get_title(X.Name))\n",
    "        return self\n",
    "        \n",
    "    def transform(self, df):\n",
    "        df = df.copy()\n",
    "        df[\"Age\"].fillna(self.default_age, inplace=True)\n",
    "        df[\"Fare\"].fillna(self.default_price, inplace=True)\n",
    "        df[\"Embarked\"].fillna(self.default_harbor, inplace=True)\n",
    "        df['Sex'] = label_binarize(df.Sex, ['male', 'female'])\n",
    "        df[\"has_cabin\"] = ~df.Cabin.isna()\n",
    "        df[\"title\"] = self.title_encoder.transform(get_title(df.Name))\n",
    "        df = df.drop(columns=[\"Cabin\",\"Name\",\"Ticket\",\"PassengerId\"], errors='ignore')\n",
    "        df[\"Embarked\"] = df.Embarked.astype(\"category\").cat.set_categories(self.embarked_categories)\n",
    "        df = pd.get_dummies(df, [\"Embarked\"], columns=[\"Embarked\"], drop_first=True)\n",
    "        return df"
   ]
  },
  {
   "cell_type": "code",
   "execution_count": 16,
   "metadata": {
    "execution": {
     "iopub.execute_input": "2020-06-08T14:16:26.924589Z",
     "iopub.status.busy": "2020-06-08T14:16:26.924295Z",
     "iopub.status.idle": "2020-06-08T14:16:26.970605Z",
     "shell.execute_reply": "2020-06-08T14:16:26.969885Z",
     "shell.execute_reply.started": "2020-06-08T14:16:26.924559Z"
    }
   },
   "outputs": [],
   "source": [
    "%load_ext autoreload\n",
    "\n",
    "%autoreload 2"
   ]
  },
  {
   "cell_type": "code",
   "execution_count": 17,
   "metadata": {
    "execution": {
     "iopub.execute_input": "2020-06-08T14:16:27.909305Z",
     "iopub.status.busy": "2020-06-08T14:16:27.909050Z",
     "iopub.status.idle": "2020-06-08T14:16:30.082886Z",
     "shell.execute_reply": "2020-06-08T14:16:30.081897Z",
     "shell.execute_reply.started": "2020-06-08T14:16:27.909279Z"
    }
   },
   "outputs": [
    {
     "name": "stdout",
     "output_type": "stream",
     "text": [
      "Processing /Users/nicokreiling/dev/ds/customcode\n",
      "Building wheels for collected packages: customcode\n",
      "  Building wheel for customcode (setup.py) ... \u001b[?25ldone\n",
      "\u001b[?25h  Created wheel for customcode: filename=customcode-0.1.0-py3-none-any.whl size=3244 sha256=a7f35fba370761631d21f852a53c86b92cdc7535d9a9989b43e41baf24f7fcd5\n",
      "  Stored in directory: /private/var/folders/ym/_50l9__942705dh4x6gh9d9r0000gn/T/pip-ephem-wheel-cache-j1xsjv7t/wheels/60/b6/dc/be7af4c05a79798ea8ee551b4404770f0b713e04a7467b569a\n",
      "Successfully built customcode\n",
      "Installing collected packages: customcode\n",
      "  Attempting uninstall: customcode\n",
      "    Found existing installation: customcode 0.1.0\n",
      "    Uninstalling customcode-0.1.0:\n",
      "      Successfully uninstalled customcode-0.1.0\n",
      "Successfully installed customcode-0.1.0\n"
     ]
    }
   ],
   "source": [
    "!pip install ../customcode"
   ]
  },
  {
   "cell_type": "code",
   "execution_count": 18,
   "metadata": {
    "execution": {
     "iopub.execute_input": "2020-06-08T14:16:33.177936Z",
     "iopub.status.busy": "2020-06-08T14:16:33.177658Z",
     "iopub.status.idle": "2020-06-08T14:16:33.602777Z",
     "shell.execute_reply": "2020-06-08T14:16:33.602218Z",
     "shell.execute_reply.started": "2020-06-08T14:16:33.177898Z"
    }
   },
   "outputs": [
    {
     "data": {
      "application/javascript": [
       "\n",
       "        if (window._pyforest_update_imports_cell) { window._pyforest_update_imports_cell('import matplotlib.pyplot as plt\\nimport seaborn as sns\\nimport sklearn'); }\n",
       "    "
      ],
      "text/plain": [
       "<IPython.core.display.Javascript object>"
      ]
     },
     "metadata": {},
     "output_type": "display_data"
    },
    {
     "name": "stdout",
     "output_type": "stream",
     "text": [
      "Acc 0.8361391694725028\n"
     ]
    },
    {
     "data": {
      "application/javascript": [
       "\n",
       "        if (window._pyforest_update_imports_cell) { window._pyforest_update_imports_cell('import matplotlib.pyplot as plt\\nimport seaborn as sns\\nimport sklearn'); }\n",
       "    "
      ],
      "text/plain": [
       "<IPython.core.display.Javascript object>"
      ]
     },
     "metadata": {},
     "output_type": "display_data"
    },
    {
     "name": "stdout",
     "output_type": "stream",
     "text": [
      "F1 0.7774390243902439\n"
     ]
    }
   ],
   "source": [
    "from sklearn.pipeline import Pipeline\n",
    "from customcode.pipeline import ModelPreperation\n",
    "from sklearn.ensemble import GradientBoostingClassifier\n",
    "from sklearn.model_selection import cross_val_score, cross_val_predict\n",
    "\n",
    "np.random.seed(40)\n",
    "trainset = pd.read_csv(\"./data/titanic/train.csv\")\n",
    "X = trainset.drop(columns=label_column)\n",
    "y_true = np.ravel(trainset[[label_column]])\n",
    "\n",
    "gb_params = {'n_estimators': 200,'min_samples_split': 16,'min_samples_leaf': 16,'max_features': 5,'max_depth': 3,'learning_rate': 0.25}\n",
    "\n",
    "clf = GradientBoostingClassifier(**gb_params)\n",
    "pipe = Pipeline(steps=[(\"prepare\",ModelPreperation()), (\"clf\", clf)])\n",
    "y_pred = cross_val_predict(pipe, X, y = y_true, cv = 5, n_jobs=-1)\n",
    "\n",
    "from sklearn.metrics import confusion_matrix\n",
    "conf_mat = confusion_matrix(y_true, y_pred)\n",
    "print(\"Acc\", sklearn.metrics.accuracy_score(y_true, y_pred))\n",
    "print(\"F1\", sklearn.metrics.f1_score(y_true, y_pred))\n",
    "sns.heatmap(conf_mat/len(trainset), annot=True, cmap=\"Blues\",  fmt='g') "
   ]
  },
  {
   "cell_type": "markdown",
   "metadata": {},
   "source": [
    "# Version Control for Notebooks\n",
    "[Guter Blog-Artikel von D. Schmüdde](https://nextjournal.com/schmudde/how-to-version-control-jupyter?utm_campaign=DataScience_Digest&utm_medium=email&utm_source=Revue%20newsletter)"
   ]
  },
  {
   "cell_type": "markdown",
   "metadata": {},
   "source": [
    "## Old-Fashined Git-Hook\n",
    "\n",
    "Either just ignore output like below ([Stackoverflow Discussion](https://stackoverflow.com/questions/18734739/using-ipython-notebooks-under-version-control)), or [get asked about output cells](https://jamesfolberth.org/articles/2017/08/07/git-commit-hook-for-jupyter-notebooks/)"
   ]
  },
  {
   "cell_type": "code",
   "execution_count": 22,
   "metadata": {
    "execution": {
     "iopub.execute_input": "2020-06-08T14:17:44.384043Z",
     "iopub.status.busy": "2020-06-08T14:17:44.383782Z",
     "iopub.status.idle": "2020-06-08T14:17:44.555995Z",
     "shell.execute_reply": "2020-06-08T14:17:44.555177Z",
     "shell.execute_reply.started": "2020-06-08T14:17:44.384017Z"
    }
   },
   "outputs": [],
   "source": [
    "!mkdir -p ./.git/hooks"
   ]
  },
  {
   "cell_type": "code",
   "execution_count": 23,
   "metadata": {
    "execution": {
     "iopub.execute_input": "2020-06-08T14:17:44.924281Z",
     "iopub.status.busy": "2020-06-08T14:17:44.923968Z",
     "iopub.status.idle": "2020-06-08T14:17:44.967144Z",
     "shell.execute_reply": "2020-06-08T14:17:44.966472Z",
     "shell.execute_reply.started": "2020-06-08T14:17:44.924247Z"
    }
   },
   "outputs": [
    {
     "name": "stdout",
     "output_type": "stream",
     "text": [
      "Writing ./.git/hooks/pre-commit.py\n"
     ]
    }
   ],
   "source": [
    "%%writefile ./.git/hooks/pre-commit.py\n",
    "#!/usr/bin/env python\n",
    "import sys\n",
    "\n",
    "try:\n",
    "    runarg_idx = sys.argv.index('--rundir')\n",
    "    rundir = sys.argv[runarg_idx+1]\n",
    "    import os\n",
    "    os.chdir(os.path.expanduser(rundir))\n",
    "except ValueError:\n",
    "    pass\n",
    "\n",
    "version = None\n",
    "\n",
    "if sys.version[0] == '2':\n",
    "    reload(sys)\n",
    "    sys.setdefaultencoding('utf8')\n",
    "\n",
    "from jupyter_nbformat import reads, write\n",
    "\n",
    "to_parse = sys.stdin.read()\n",
    "\n",
    "if not version:\n",
    "    import json\n",
    "    json_in = json.loads(to_parse)\n",
    "    version = json_in['nbformat']\n",
    "\n",
    "json_in = reads(to_parse, version)\n",
    "\n",
    "if hasattr(json_in, 'worksheets'):\n",
    "    # IPython\n",
    "    sheets = json_in.worksheets\n",
    "else:\n",
    "    # Jupyter\n",
    "    sheets = [json_in]\n",
    "\n",
    "for sheet in sheets:\n",
    "    for cell in sheet.cells:\n",
    "        if \"outputs\" in cell:\n",
    "            cell.outputs = []\n",
    "        for field in (\"prompt_number\", \"execution_number\"):\n",
    "            if field in cell:\n",
    "                del cell[field]\n",
    "        for field in (\"execution_count\",):\n",
    "            if field in cell:\n",
    "                cell[field] = None\n",
    "\n",
    "        if \"metadata\" in cell:\n",
    "            for field in (\"collapsed\", \"scrolled\", \"ExecuteTime\"):\n",
    "                if field in cell.metadata:\n",
    "                    del cell.metadata[field]\n",
    "\n",
    "    if hasattr(sheet.metadata, \"widgets\"):\n",
    "        del sheet.metadata[\"widgets\"]\n",
    "\n",
    "    if hasattr(sheet.metadata, \"language_info\"):\n",
    "        if hasattr(sheet.metadata.language_info, \"version\"):\n",
    "            del sheet.metadata.language_info[\"version\"]\n",
    "\n",
    "if 'signature' in json_in.metadata:\n",
    "    json_in.metadata['signature'] = \"\"\n",
    "\n",
    "write(json_in, sys.stdout, version)"
   ]
  },
  {
   "cell_type": "code",
   "execution_count": 24,
   "metadata": {
    "execution": {
     "iopub.execute_input": "2020-06-08T14:17:48.552194Z",
     "iopub.status.busy": "2020-06-08T14:17:48.551947Z",
     "iopub.status.idle": "2020-06-08T14:17:48.726504Z",
     "shell.execute_reply": "2020-06-08T14:17:48.725100Z",
     "shell.execute_reply.started": "2020-06-08T14:17:48.552168Z"
    }
   },
   "outputs": [],
   "source": [
    "!chmod +x ./.git/hooks/pre-commit.py"
   ]
  },
  {
   "cell_type": "code",
   "execution_count": 25,
   "metadata": {
    "execution": {
     "iopub.execute_input": "2020-06-08T14:18:07.430848Z",
     "iopub.status.busy": "2020-06-08T14:18:07.430581Z",
     "iopub.status.idle": "2020-06-08T14:18:07.473805Z",
     "shell.execute_reply": "2020-06-08T14:18:07.472055Z",
     "shell.execute_reply.started": "2020-06-08T14:18:07.430818Z"
    }
   },
   "outputs": [
    {
     "name": "stdout",
     "output_type": "stream",
     "text": [
      "Writing .gitattributes\n"
     ]
    }
   ],
   "source": [
    "%%writefile .gitattributes\n",
    "*.ipynb    filter=dropoutput_ipynb"
   ]
  },
  {
   "cell_type": "code",
   "execution_count": 26,
   "metadata": {
    "execution": {
     "iopub.execute_input": "2020-06-08T14:18:08.138170Z",
     "iopub.status.busy": "2020-06-08T14:18:08.137926Z",
     "iopub.status.idle": "2020-06-08T14:18:08.262229Z",
     "shell.execute_reply": "2020-06-08T14:18:08.260655Z",
     "shell.execute_reply.started": "2020-06-08T14:18:08.138145Z"
    }
   },
   "outputs": [
    {
     "name": "stderr",
     "output_type": "stream",
     "text": [
      "fatal: --local can only be used inside a git repository\n",
      "fatal: --local can only be used inside a git repository\n",
      "fatal: --local can only be used inside a git repository\n"
     ]
    },
    {
     "ename": "CalledProcessError",
     "evalue": "Command 'b'git config --local core.attributesfile .gitattributes\\ngit config --local filter.dropoutput_ipynb.clean ./.git/hooks/pre-commit.py\\ngit config --local filter.dropoutput_ipynb.smudge cat\\n'' returned non-zero exit status 128.",
     "output_type": "error",
     "traceback": [
      "\u001b[0;31m---------------------------------------------------------------------------\u001b[0m",
      "\u001b[0;31mCalledProcessError\u001b[0m                        Traceback (most recent call last)",
      "\u001b[0;32m<ipython-input-26-00ebf16d8cbc>\u001b[0m in \u001b[0;36m<module>\u001b[0;34m\u001b[0m\n\u001b[0;32m----> 1\u001b[0;31m \u001b[0mget_ipython\u001b[0m\u001b[0;34m(\u001b[0m\u001b[0;34m)\u001b[0m\u001b[0;34m.\u001b[0m\u001b[0mrun_cell_magic\u001b[0m\u001b[0;34m(\u001b[0m\u001b[0;34m'bash'\u001b[0m\u001b[0;34m,\u001b[0m \u001b[0;34m''\u001b[0m\u001b[0;34m,\u001b[0m \u001b[0;34m'git config --local core.attributesfile .gitattributes\\ngit config --local filter.dropoutput_ipynb.clean ./.git/hooks/pre-commit.py\\ngit config --local filter.dropoutput_ipynb.smudge cat\\n'\u001b[0m\u001b[0;34m)\u001b[0m\u001b[0;34m\u001b[0m\u001b[0;34m\u001b[0m\u001b[0m\n\u001b[0m",
      "\u001b[0;32m~/.local/lib/python3.8/site-packages/IPython/core/interactiveshell.py\u001b[0m in \u001b[0;36mrun_cell_magic\u001b[0;34m(self, magic_name, line, cell)\u001b[0m\n\u001b[1;32m   2360\u001b[0m             \u001b[0;32mwith\u001b[0m \u001b[0mself\u001b[0m\u001b[0;34m.\u001b[0m\u001b[0mbuiltin_trap\u001b[0m\u001b[0;34m:\u001b[0m\u001b[0;34m\u001b[0m\u001b[0;34m\u001b[0m\u001b[0m\n\u001b[1;32m   2361\u001b[0m                 \u001b[0margs\u001b[0m \u001b[0;34m=\u001b[0m \u001b[0;34m(\u001b[0m\u001b[0mmagic_arg_s\u001b[0m\u001b[0;34m,\u001b[0m \u001b[0mcell\u001b[0m\u001b[0;34m)\u001b[0m\u001b[0;34m\u001b[0m\u001b[0;34m\u001b[0m\u001b[0m\n\u001b[0;32m-> 2362\u001b[0;31m                 \u001b[0mresult\u001b[0m \u001b[0;34m=\u001b[0m \u001b[0mfn\u001b[0m\u001b[0;34m(\u001b[0m\u001b[0;34m*\u001b[0m\u001b[0margs\u001b[0m\u001b[0;34m,\u001b[0m \u001b[0;34m**\u001b[0m\u001b[0mkwargs\u001b[0m\u001b[0;34m)\u001b[0m\u001b[0;34m\u001b[0m\u001b[0;34m\u001b[0m\u001b[0m\n\u001b[0m\u001b[1;32m   2363\u001b[0m             \u001b[0;32mreturn\u001b[0m \u001b[0mresult\u001b[0m\u001b[0;34m\u001b[0m\u001b[0;34m\u001b[0m\u001b[0m\n\u001b[1;32m   2364\u001b[0m \u001b[0;34m\u001b[0m\u001b[0m\n",
      "\u001b[0;32m~/.local/lib/python3.8/site-packages/IPython/core/magics/script.py\u001b[0m in \u001b[0;36mnamed_script_magic\u001b[0;34m(line, cell)\u001b[0m\n\u001b[1;32m    140\u001b[0m             \u001b[0;32melse\u001b[0m\u001b[0;34m:\u001b[0m\u001b[0;34m\u001b[0m\u001b[0;34m\u001b[0m\u001b[0m\n\u001b[1;32m    141\u001b[0m                 \u001b[0mline\u001b[0m \u001b[0;34m=\u001b[0m \u001b[0mscript\u001b[0m\u001b[0;34m\u001b[0m\u001b[0;34m\u001b[0m\u001b[0m\n\u001b[0;32m--> 142\u001b[0;31m             \u001b[0;32mreturn\u001b[0m \u001b[0mself\u001b[0m\u001b[0;34m.\u001b[0m\u001b[0mshebang\u001b[0m\u001b[0;34m(\u001b[0m\u001b[0mline\u001b[0m\u001b[0;34m,\u001b[0m \u001b[0mcell\u001b[0m\u001b[0;34m)\u001b[0m\u001b[0;34m\u001b[0m\u001b[0;34m\u001b[0m\u001b[0m\n\u001b[0m\u001b[1;32m    143\u001b[0m \u001b[0;34m\u001b[0m\u001b[0m\n\u001b[1;32m    144\u001b[0m         \u001b[0;31m# write a basic docstring:\u001b[0m\u001b[0;34m\u001b[0m\u001b[0;34m\u001b[0m\u001b[0;34m\u001b[0m\u001b[0m\n",
      "\u001b[0;32m<decorator-gen-110>\u001b[0m in \u001b[0;36mshebang\u001b[0;34m(self, line, cell)\u001b[0m\n",
      "\u001b[0;32m~/.local/lib/python3.8/site-packages/IPython/core/magic.py\u001b[0m in \u001b[0;36m<lambda>\u001b[0;34m(f, *a, **k)\u001b[0m\n\u001b[1;32m    185\u001b[0m     \u001b[0;31m# but it's overkill for just that one bit of state.\u001b[0m\u001b[0;34m\u001b[0m\u001b[0;34m\u001b[0m\u001b[0;34m\u001b[0m\u001b[0m\n\u001b[1;32m    186\u001b[0m     \u001b[0;32mdef\u001b[0m \u001b[0mmagic_deco\u001b[0m\u001b[0;34m(\u001b[0m\u001b[0marg\u001b[0m\u001b[0;34m)\u001b[0m\u001b[0;34m:\u001b[0m\u001b[0;34m\u001b[0m\u001b[0;34m\u001b[0m\u001b[0m\n\u001b[0;32m--> 187\u001b[0;31m         \u001b[0mcall\u001b[0m \u001b[0;34m=\u001b[0m \u001b[0;32mlambda\u001b[0m \u001b[0mf\u001b[0m\u001b[0;34m,\u001b[0m \u001b[0;34m*\u001b[0m\u001b[0ma\u001b[0m\u001b[0;34m,\u001b[0m \u001b[0;34m**\u001b[0m\u001b[0mk\u001b[0m\u001b[0;34m:\u001b[0m \u001b[0mf\u001b[0m\u001b[0;34m(\u001b[0m\u001b[0;34m*\u001b[0m\u001b[0ma\u001b[0m\u001b[0;34m,\u001b[0m \u001b[0;34m**\u001b[0m\u001b[0mk\u001b[0m\u001b[0;34m)\u001b[0m\u001b[0;34m\u001b[0m\u001b[0;34m\u001b[0m\u001b[0m\n\u001b[0m\u001b[1;32m    188\u001b[0m \u001b[0;34m\u001b[0m\u001b[0m\n\u001b[1;32m    189\u001b[0m         \u001b[0;32mif\u001b[0m \u001b[0mcallable\u001b[0m\u001b[0;34m(\u001b[0m\u001b[0marg\u001b[0m\u001b[0;34m)\u001b[0m\u001b[0;34m:\u001b[0m\u001b[0;34m\u001b[0m\u001b[0;34m\u001b[0m\u001b[0m\n",
      "\u001b[0;32m~/.local/lib/python3.8/site-packages/IPython/core/magics/script.py\u001b[0m in \u001b[0;36mshebang\u001b[0;34m(self, line, cell)\u001b[0m\n\u001b[1;32m    243\u001b[0m             \u001b[0msys\u001b[0m\u001b[0;34m.\u001b[0m\u001b[0mstderr\u001b[0m\u001b[0;34m.\u001b[0m\u001b[0mflush\u001b[0m\u001b[0;34m(\u001b[0m\u001b[0;34m)\u001b[0m\u001b[0;34m\u001b[0m\u001b[0;34m\u001b[0m\u001b[0m\n\u001b[1;32m    244\u001b[0m         \u001b[0;32mif\u001b[0m \u001b[0margs\u001b[0m\u001b[0;34m.\u001b[0m\u001b[0mraise_error\u001b[0m \u001b[0;32mand\u001b[0m \u001b[0mp\u001b[0m\u001b[0;34m.\u001b[0m\u001b[0mreturncode\u001b[0m\u001b[0;34m!=\u001b[0m\u001b[0;36m0\u001b[0m\u001b[0;34m:\u001b[0m\u001b[0;34m\u001b[0m\u001b[0;34m\u001b[0m\u001b[0m\n\u001b[0;32m--> 245\u001b[0;31m             \u001b[0;32mraise\u001b[0m \u001b[0mCalledProcessError\u001b[0m\u001b[0;34m(\u001b[0m\u001b[0mp\u001b[0m\u001b[0;34m.\u001b[0m\u001b[0mreturncode\u001b[0m\u001b[0;34m,\u001b[0m \u001b[0mcell\u001b[0m\u001b[0;34m,\u001b[0m \u001b[0moutput\u001b[0m\u001b[0;34m=\u001b[0m\u001b[0mout\u001b[0m\u001b[0;34m,\u001b[0m \u001b[0mstderr\u001b[0m\u001b[0;34m=\u001b[0m\u001b[0merr\u001b[0m\u001b[0;34m)\u001b[0m\u001b[0;34m\u001b[0m\u001b[0;34m\u001b[0m\u001b[0m\n\u001b[0m\u001b[1;32m    246\u001b[0m \u001b[0;34m\u001b[0m\u001b[0m\n\u001b[1;32m    247\u001b[0m     \u001b[0;32mdef\u001b[0m \u001b[0m_run_script\u001b[0m\u001b[0;34m(\u001b[0m\u001b[0mself\u001b[0m\u001b[0;34m,\u001b[0m \u001b[0mp\u001b[0m\u001b[0;34m,\u001b[0m \u001b[0mcell\u001b[0m\u001b[0;34m,\u001b[0m \u001b[0mto_close\u001b[0m\u001b[0;34m)\u001b[0m\u001b[0;34m:\u001b[0m\u001b[0;34m\u001b[0m\u001b[0;34m\u001b[0m\u001b[0m\n",
      "\u001b[0;31mCalledProcessError\u001b[0m: Command 'b'git config --local core.attributesfile .gitattributes\\ngit config --local filter.dropoutput_ipynb.clean ./.git/hooks/pre-commit.py\\ngit config --local filter.dropoutput_ipynb.smudge cat\\n'' returned non-zero exit status 128."
     ]
    }
   ],
   "source": [
    "%%bash\n",
    "git config --local core.attributesfile .gitattributes\n",
    "git config --local filter.dropoutput_ipynb.clean ./.git/hooks/pre-commit.py\n",
    "git config --local filter.dropoutput_ipynb.smudge cat"
   ]
  },
  {
   "cell_type": "markdown",
   "metadata": {},
   "source": [
    "## Notebook-Binding mit Jupytext"
   ]
  },
  {
   "cell_type": "code",
   "execution_count": 35,
   "metadata": {
    "execution": {
     "iopub.execute_input": "2020-06-09T05:06:05.340728Z",
     "iopub.status.busy": "2020-06-09T05:06:05.340480Z",
     "iopub.status.idle": "2020-06-09T05:06:06.114059Z",
     "shell.execute_reply": "2020-06-09T05:06:06.111993Z",
     "shell.execute_reply.started": "2020-06-09T05:06:05.340703Z"
    }
   },
   "outputs": [
    {
     "name": "stdout",
     "output_type": "stream",
     "text": [
      "[jupytext] Reading M3_Online.ipynb\n",
      "[jupytext] Updating notebook metadata with '{\"jupytext\": {\"cell_markers\": \"\\\"\\\"\\\"\"}}'\n",
      "[jupytext] Writing M3_Online.py in format py:percent (destination file replaced)\n"
     ]
    }
   ],
   "source": [
    "!jupytext --update-metadata '{\"jupytext\": {\"cell_markers\": \"\\\"\\\"\\\"\"}}' M3_Online.ipynb --to py:percent"
   ]
  },
  {
   "cell_type": "code",
   "execution_count": 33,
   "metadata": {
    "execution": {
     "iopub.execute_input": "2020-06-09T05:02:06.380245Z",
     "iopub.status.busy": "2020-06-09T05:02:06.379969Z",
     "iopub.status.idle": "2020-06-09T05:02:07.387355Z",
     "shell.execute_reply": "2020-06-09T05:02:07.386209Z",
     "shell.execute_reply.started": "2020-06-09T05:02:06.380218Z"
    }
   },
   "outputs": [
    {
     "name": "stdout",
     "output_type": "stream",
     "text": [
      "usage: jupytext [-h] [--from INPUT_FORMAT] [--pre-commit] [--to TO]\n",
      "                [--format-options FORMAT_OPTIONS] [--set-formats SET_FORMATS]\n",
      "                [--set-kernel SET_KERNEL] [--update-metadata UPDATE_METADATA]\n",
      "                [-o OUTPUT] [--update]\n",
      "                [--version | --paired-paths | --sync | --warn-only | --test | --test-strict]\n",
      "                [--stop] [--pipe PIPE] [--check CHECK] [--pipe-fmt PIPE_FMT]\n",
      "                [--execute] [--quiet]\n",
      "                [notebooks [notebooks ...]]\n",
      "\n",
      "Jupyter Notebooks as Markdown Documents, Julia, Python or R Scripts\n",
      "\n",
      "positional arguments:\n",
      "  notebooks             One or more notebook(s). Notebook is read from stdin\n",
      "                        when this argument is empty. (default: None)\n",
      "\n",
      "optional arguments:\n",
      "  -h, --help            show this help message and exit\n",
      "  --from INPUT_FORMAT   Jupytext format for the input(s). Inferred from the\n",
      "                        file extension and content when missing. (default:\n",
      "                        None)\n",
      "  --pre-commit          Ignore the notebook argument, and instead apply\n",
      "                        Jupytext on the notebooks found in the git index,\n",
      "                        which have an extension that matches the (optional)\n",
      "                        --from argument. (default: False)\n",
      "  --to TO               Destination format: either 'notebook' (extension\n",
      "                        .ipynb), 'markdown' (.md), 'rmarkdown' (.Rmd),\n",
      "                        'script', a supported extension, or an explicit\n",
      "                        extension/format description [[root_folder/][path/][pr\n",
      "                        efix]/][suffix.]ext[:format_name], where ext is one of\n",
      "                        ipynb, md, markdown, Rmd, py, coco, R, r, jl, cpp, ss,\n",
      "                        clj, scm, sh, ps1, q, m, pro, js, ts, scala, rs,\n",
      "                        robot, resource, cs, fsx, fs, sos, java, groovy, or\n",
      "                        auto,format_name is optional, and can be markdown for\n",
      "                        Markdown files, and sphinx, hydrogen, light, nomarker,\n",
      "                        percent for scripts. The default format for scripts is\n",
      "                        the 'light' format, which uses few cell markers (none\n",
      "                        when possible). Alternatively, a format compatible\n",
      "                        with many editors is the 'percent' format, which uses\n",
      "                        '# %%' as cell markers The main formats (markdown,\n",
      "                        light, percent) preserve notebooks and text documents\n",
      "                        in a roundtrip. Use the --test and and --test-strict\n",
      "                        commands to test the roundtrip on your files. Read\n",
      "                        more about the available formats at\n",
      "                        https://jupytext.readthedocs.io/en/latest/formats.html\n",
      "                        (default: None)\n",
      "  --format-options FORMAT_OPTIONS, --opt FORMAT_OPTIONS\n",
      "                        Set format options with e.g. '--opt\n",
      "                        comment_magics=true' or '--opt\n",
      "                        notebook_metadata_filter=-kernelspec'. (default: None)\n",
      "  --set-formats SET_FORMATS\n",
      "                        Set jupytext.formats metadata to the given value. Use\n",
      "                        this to activate pairing on a notebook, with e.g. '--\n",
      "                        set-formats ipynb,py:light'. The --set-formats option\n",
      "                        also triggers the creation/update of all paired files\n",
      "                        (default: None)\n",
      "  --set-kernel SET_KERNEL, -k SET_KERNEL\n",
      "                        Set the kernel with the given name on the notebook.\n",
      "                        Use '--set-kernel -' to set a kernel matching the\n",
      "                        current environment on Python notebooks, and matching\n",
      "                        the notebook language otherwise (get the list of\n",
      "                        available kernels with 'jupyter kernelspec list')\n",
      "                        (default: None)\n",
      "  --update-metadata UPDATE_METADATA\n",
      "                        Update the notebook metadata with the desired\n",
      "                        dictionary. Argument must be given in JSON format. For\n",
      "                        instance, if you want to activate a pairing in the\n",
      "                        generated file, use e.g. --update-metadata\n",
      "                        '{\"jupytext\":{\"formats\":\"ipynb,py:light\"}}' See also\n",
      "                        the --opt and --set-formats options for other ways to\n",
      "                        operate on the Jupytext metadata. (default: {})\n",
      "  -o OUTPUT, --output OUTPUT\n",
      "                        Destination file. Defaults to the original file, with\n",
      "                        prefix/suffix/extension changed according to the\n",
      "                        destination format. Use '-' to print the notebook on\n",
      "                        stdout. (default: None)\n",
      "  --update              Preserve the output cells when the destination\n",
      "                        notebook is a .ipynb file that already exists\n",
      "                        (default: False)\n",
      "  --version, -v         Show jupytext's version number and exit (default:\n",
      "                        False)\n",
      "  --paired-paths, -p    List the locations of the alternative representations\n",
      "                        for this notebook. (default: False)\n",
      "  --sync, -s            Synchronize the content of the paired representations\n",
      "                        of the given notebook. Input cells are taken from the\n",
      "                        file that was last modified, and outputs are read from\n",
      "                        the ipynb file, if present. (default: False)\n",
      "  --warn-only, -w       Only issue a warning and continue processing other\n",
      "                        notebooks when the conversion of a given notebook\n",
      "                        fails (default: False)\n",
      "  --test                Test that notebook is stable under a round trip\n",
      "                        conversion, up to the expected changes (default:\n",
      "                        False)\n",
      "  --test-strict         Test that notebook is strictly stable under a round\n",
      "                        trip conversion (default: False)\n",
      "  --stop, -x            In --test mode, stop on first round trip conversion\n",
      "                        error, and report stack traceback (default: False)\n",
      "  --pipe PIPE           Pipe the text representation (in format --pipe-fmt) of\n",
      "                        the notebook into another program, and read the\n",
      "                        notebook back. For instance, reformat your notebook\n",
      "                        with: 'jupytext notebook.ipynb --pipe black' If you\n",
      "                        want to reformat it and sync the paired\n",
      "                        representation, execute: 'jupytext notebook.ipynb\n",
      "                        --sync --pipe black' In case the program that you want\n",
      "                        to execute does not accept pipes, use {} as a\n",
      "                        placeholder for a temporary file name into which\n",
      "                        jupytext will write the text representation of the\n",
      "                        notebook, e.g.: jupytext notebook.ipynb --pipe 'black\n",
      "                        {}' (default: None)\n",
      "  --check CHECK         Pipe the text representation (in format --pipe-fmt) of\n",
      "                        the notebook into another program, and test that the\n",
      "                        returned value is non zero. For instance, test that\n",
      "                        your notebook is pep8 compliant with: 'jupytext\n",
      "                        notebook.ipynb --check flake8' or run pytest on your\n",
      "                        notebook with: 'jupytext notebook.ipynb --check\n",
      "                        pytest' In case the program that you want to execute\n",
      "                        does not accept pipes, use {} as a placeholder for a\n",
      "                        temporary file name into which jupytext will write the\n",
      "                        text representation of the notebook, e.g.: jupytext\n",
      "                        notebook.ipynb --check 'pytest {}' (default: None)\n",
      "  --pipe-fmt PIPE_FMT   The format in which the notebook should be piped to\n",
      "                        other programs, when using the --pipe and/or --check\n",
      "                        commands. (default: auto:percent)\n",
      "  --execute             Execute the notebook with the given kernel (default:\n",
      "                        False)\n",
      "  --quiet, -q           Quiet mode: do not comment about files being updated\n",
      "                        or created (default: False)\n"
     ]
    }
   ],
   "source": [
    "!jupytext --to py \"M3_Online.ipynb\" --help"
   ]
  },
  {
   "cell_type": "code",
   "execution_count": 36,
   "metadata": {
    "execution": {
     "iopub.execute_input": "2020-06-09T07:15:05.281765Z",
     "iopub.status.busy": "2020-06-09T07:15:05.280172Z",
     "iopub.status.idle": "2020-06-09T07:15:05.651271Z",
     "shell.execute_reply": "2020-06-09T07:15:05.650411Z",
     "shell.execute_reply.started": "2020-06-09T07:15:05.281676Z"
    }
   },
   "outputs": [
    {
     "data": {
      "application/vnd.jupyter.widget-view+json": {
       "model_id": "02b95458f74442119bdbf0a773161de1",
       "version_major": 2,
       "version_minor": 0
      },
      "text/plain": [
       "Button(description='Click me', style=ButtonStyle())"
      ]
     },
     "metadata": {},
     "output_type": "display_data"
    }
   ],
   "source": [
    "from ipywidgets import Button\n",
    "\n",
    "display(Button(description='Click me'))"
   ]
  },
  {
   "cell_type": "code",
   "execution_count": null,
   "metadata": {},
   "outputs": [],
   "source": []
  },
  {
   "cell_type": "markdown",
   "metadata": {},
   "source": [
    "## Auswahl der richtigen Versionskontroll Strategie"
   ]
  },
  {
   "cell_type": "code",
   "execution_count": null,
   "metadata": {
    "execution": {
     "iopub.status.busy": "2020-06-08T14:16:01.097357Z",
     "iopub.status.idle": "2020-06-08T14:16:01.097651Z"
    }
   },
   "outputs": [],
   "source": [
    "![Tool Auswahl](./img/versionskontroll-diagramm.png)"
   ]
  },
  {
   "cell_type": "markdown",
   "metadata": {},
   "source": [
    "## Other\n",
    "\n",
    "### Presenting Results\n",
    "\n",
    "Darstellung eines Notebooks als interaktive Präsentation mit Hilfe von Reveal.js. Dabei kann jede Zelle als eigene Slide, Sub-Slide oder Fragment definiert werden.\n",
    "\n",
    "### Binder\n",
    "\n",
    "* Interaktives Bereitstellen von Notebooks via Github Repo\n",
    "* Inklusive Abhängigkeiten und Erweiterungen\n",
    "* [Integration via Github](https://github.com/krlng/d2d-jupyterlab)\n",
    "\n",
    "## Summary?\n",
    "\n",
    "* Die neue Oberfläche ist toll\n",
    "* Plugin-System verbreitet sich sehr schnell\n",
    "* Integration mit IDEs inzwischen möglich\n",
    "* Unsterstützung für alle möglichen Datentypen- und Plottingslibraries\n",
    "\n",
    "### Links zu noch mehr Links\n",
    "\n",
    "- [Awesome Jupyter](https://github.com/adebar/awesome-jupyter) - Curated List of nice Jupyter things\n",
    "- [Beyond Interactive: Notebook Innovation at Netflix](https://medium.com/netflix-techblog/notebook-innovation-591ee3221233)\n",
    "- [Interesting Jupyter Notebooks](https://github.com/jupyter/jupyter/wiki/a-gallery-of-interesting-jupyter-notebooks)"
   ]
  },
  {
   "cell_type": "code",
   "execution_count": null,
   "metadata": {},
   "outputs": [],
   "source": []
  }
 ],
 "metadata": {
  "jupytext": {
   "formats": "ipynb,auto:hydrogen"
  },
  "kernelspec": {
   "display_name": "Python [conda env:ds]",
   "language": "python",
   "name": "conda-env-ds-py"
  },
  "language_info": {
   "codemirror_mode": {
    "name": "ipython",
    "version": 3
   },
   "file_extension": ".py",
   "mimetype": "text/x-python",
   "name": "python",
   "nbconvert_exporter": "python",
   "pygments_lexer": "ipython3",
   "version": "3.8.2"
  },
  "toc-autonumbering": true
 },
 "nbformat": 4,
 "nbformat_minor": 4
}
