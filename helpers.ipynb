{
 "cells": [
  {
   "cell_type": "code",
   "execution_count": 15,
   "metadata": {
    "execution": {
     "iopub.execute_input": "2020-06-08T08:41:27.388071Z",
     "iopub.status.busy": "2020-06-08T08:41:27.387827Z",
     "iopub.status.idle": "2020-06-08T08:41:27.391716Z",
     "shell.execute_reply": "2020-06-08T08:41:27.390924Z",
     "shell.execute_reply.started": "2020-06-08T08:41:27.388048Z"
    }
   },
   "outputs": [],
   "source": [
    "def import_if_exists(lib):\n",
    "    try: \n",
    "        globals()[lib] = importlib.import_module(lib)\n",
    "    except ModuleNotFoundError:\n",
    "        logging.warning(f\"{lib} not found\")"
   ]
  },
  {
   "cell_type": "markdown",
   "metadata": {
    "execution": {
     "iopub.execute_input": "2020-06-08T07:41:52.686834Z",
     "iopub.status.busy": "2020-06-08T07:41:52.686502Z",
     "iopub.status.idle": "2020-06-08T07:41:52.690499Z",
     "shell.execute_reply": "2020-06-08T07:41:52.689771Z",
     "shell.execute_reply.started": "2020-06-08T07:41:52.686796Z"
    }
   },
   "source": [
    "# Imports"
   ]
  },
  {
   "cell_type": "code",
   "execution_count": 1,
   "metadata": {
    "execution": {
     "iopub.execute_input": "2020-06-08T08:30:56.537611Z",
     "iopub.status.busy": "2020-06-08T08:30:56.537440Z",
     "iopub.status.idle": "2020-06-08T08:30:56.921760Z",
     "shell.execute_reply": "2020-06-08T08:30:56.921237Z",
     "shell.execute_reply.started": "2020-06-08T08:30:56.537591Z"
    }
   },
   "outputs": [],
   "source": [
    "# Must have libraries\n",
    "import pandas as pd\n",
    "import numpy as np\n",
    "import logging"
   ]
  },
  {
   "cell_type": "code",
   "execution_count": 17,
   "metadata": {
    "execution": {
     "iopub.execute_input": "2020-06-08T08:41:54.429307Z",
     "iopub.status.busy": "2020-06-08T08:41:54.429042Z",
     "iopub.status.idle": "2020-06-08T08:41:54.433514Z",
     "shell.execute_reply": "2020-06-08T08:41:54.432408Z",
     "shell.execute_reply.started": "2020-06-08T08:41:54.429282Z"
    }
   },
   "outputs": [],
   "source": [
    "# Optional libraries\n",
    "import importlib\n",
    "optional_libraries = [\"klib\", \"ppscore\", \"pandas_profiling\"]\n",
    "for lib in optional_libraries:\n",
    "    import_if_exists(lib)"
   ]
  },
  {
   "cell_type": "code",
   "execution_count": 13,
   "metadata": {
    "execution": {
     "iopub.execute_input": "2020-06-08T08:39:49.584528Z",
     "iopub.status.busy": "2020-06-08T08:39:49.584243Z",
     "iopub.status.idle": "2020-06-08T08:39:49.587399Z",
     "shell.execute_reply": "2020-06-08T08:39:49.586644Z",
     "shell.execute_reply.started": "2020-06-08T08:39:49.584489Z"
    }
   },
   "outputs": [],
   "source": [
    "#pd.set_option('display.max_columns', None)  # or 1000\n",
    "#pd.set_option('display.max_rows', None)  # or 1000\n",
    "#pd.set_option('display.max_colwidth', -1)  # or 199"
   ]
  },
  {
   "cell_type": "markdown",
   "metadata": {},
   "source": [
    "# Plotting"
   ]
  },
  {
   "cell_type": "code",
   "execution_count": 5,
   "metadata": {
    "execution": {
     "iopub.execute_input": "2020-06-08T07:42:54.463657Z",
     "iopub.status.busy": "2020-06-08T07:42:54.463398Z",
     "iopub.status.idle": "2020-06-08T07:42:55.662254Z",
     "shell.execute_reply": "2020-06-08T07:42:55.661432Z",
     "shell.execute_reply.started": "2020-06-08T07:42:54.463630Z"
    }
   },
   "outputs": [
    {
     "data": {
      "application/javascript": [
       "\n",
       "        if (window._pyforest_update_imports_cell) { window._pyforest_update_imports_cell('import matplotlib.pyplot as plt'); }\n",
       "    "
      ],
      "text/plain": [
       "<IPython.core.display.Javascript object>"
      ]
     },
     "metadata": {},
     "output_type": "display_data"
    }
   ],
   "source": [
    "from IPython.display import display, HTML\n",
    "from IPython.core.pylabtools import figsize\n",
    "plt.rcParams['figure.figsize'] = [20, 5]"
   ]
  },
  {
   "cell_type": "code",
   "execution_count": 5,
   "metadata": {},
   "outputs": [
    {
     "data": {
      "application/javascript": [
       "\n",
       "        if (window._pyforest_update_imports_cell) { window._pyforest_update_imports_cell('import matplotlib.pyplot as plt'); }\n",
       "    "
      ],
      "text/plain": [
       "<IPython.core.display.Javascript object>"
      ]
     },
     "metadata": {},
     "output_type": "display_data"
    },
    {
     "data": {
      "text/html": [
       "        <script type=\"text/javascript\">\n",
       "        window.PlotlyConfig = {MathJaxConfig: 'local'};\n",
       "        if (window.MathJax) {MathJax.Hub.Config({SVG: {font: \"STIX-Web\"}});}\n",
       "        if (typeof require !== 'undefined') {\n",
       "        require.undef(\"plotly\");\n",
       "        requirejs.config({\n",
       "            paths: {\n",
       "                'plotly': ['https://cdn.plot.ly/plotly-latest.min']\n",
       "            }\n",
       "        });\n",
       "        require(['plotly'], function(Plotly) {\n",
       "            window._Plotly = Plotly;\n",
       "        });\n",
       "        }\n",
       "        </script>\n",
       "        "
      ]
     },
     "metadata": {},
     "output_type": "display_data"
    },
    {
     "data": {
      "text/plain": [
       "'%.2f'"
      ]
     },
     "execution_count": 5,
     "metadata": {},
     "output_type": "execute_result"
    }
   ],
   "source": [
    "import plotly\n",
    "plotly.offline.init_notebook_mode(connected=True)\n",
    "%precision %.2f"
   ]
  },
  {
   "cell_type": "markdown",
   "metadata": {},
   "source": [
    "# Helpers"
   ]
  },
  {
   "cell_type": "code",
   "execution_count": 10,
   "metadata": {
    "execution": {
     "iopub.execute_input": "2020-06-08T07:46:15.252223Z",
     "iopub.status.busy": "2020-06-08T07:46:15.251952Z",
     "iopub.status.idle": "2020-06-08T07:46:15.259101Z",
     "shell.execute_reply": "2020-06-08T07:46:15.258126Z",
     "shell.execute_reply.started": "2020-06-08T07:46:15.252194Z"
    }
   },
   "outputs": [],
   "source": [
    "try:\n",
    "    import qgrid\n",
    "    col_options = {\n",
    "        'width': 100,\n",
    "    }\n",
    "    col_defs = {\n",
    "        'fondsname': {\n",
    "            'width': 400,\n",
    "        }\n",
    "    }\n",
    "\n",
    "    def qshow(df, ops=None):\n",
    "        if ops is None:\n",
    "            ops = dict(\n",
    "                column_options=col_options,column_definitions=col_defs,grid_options={'forceFitColumns': True}\n",
    "            )\n",
    "        return qgrid.show_grid(df, **ops)\n",
    "except Exception:\n",
    "    logging.info(\"qgrid not installed\")\n"
   ]
  },
  {
   "cell_type": "code",
   "execution_count": null,
   "metadata": {},
   "outputs": [],
   "source": [
    "def printf(data):\n",
    "    with pd.option_context('display.max_rows', None, 'display.max_columns', None):  # more options can be specified also\n",
    "        display(data)"
   ]
  }
 ],
 "metadata": {
  "kernelspec": {
   "display_name": "Python [conda env:ds]",
   "language": "python",
   "name": "conda-env-ds-py"
  },
  "language_info": {
   "codemirror_mode": {
    "name": "ipython",
    "version": 3
   },
   "file_extension": ".py",
   "mimetype": "text/x-python",
   "name": "python",
   "nbconvert_exporter": "python",
   "pygments_lexer": "ipython3",
   "version": "3.8.2"
  }
 },
 "nbformat": 4,
 "nbformat_minor": 4
}
